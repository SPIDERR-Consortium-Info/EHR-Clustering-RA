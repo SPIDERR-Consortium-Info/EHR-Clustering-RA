{
 "cells": [
  {
   "cell_type": "markdown",
   "metadata": {},
   "source": [
    "## #3.1. Process lab values in proximity to Mannequin"
   ]
  },
  {
   "cell_type": "code",
   "execution_count": 1,
   "metadata": {},
   "outputs": [
    {
     "name": "stdout",
     "output_type": "stream",
     "text": [
      "Nr of patients: 1665 \tNr of PseudoIds: 2029\n"
     ]
    }
   ],
   "source": [
    "import pandas as pd\n",
    "import sys\n",
    "sys.path.append(r'../src/1_emr_scripts')\n",
    "import importlib as imp\n",
    "import LabFunctions as func\n",
    "import numpy as np\n",
    "\n",
    "df_lab = pd.read_csv(r'../new_data/2_preprocessing/DF_Lab_firstCon2.csv', sep='|', index_col=0) \n",
    "\n",
    "df_lab['uitslag_value'] = df_lab.apply(lambda x: func.use_max_lab(x, col_test='BSE'), axis=1)\n",
    "df_lab['uitslag_value'] = df_lab.apply(lambda x: func.use_max_lab(x, col_test=['C-Reactief Proteine', 'C-Reaktief Proteine']), axis=1)\n",
    "# Nr of patients: 1097 \tNr of PseudoIds: 1119\n",
    "print('Nr of patients:', len(df_lab['patient_id'].unique()), '\\tNr of PseudoIds:', len(df_lab['pseudoId'].unique()))"
   ]
  },
  {
   "cell_type": "markdown",
   "metadata": {},
   "source": [
    "#### Standardize uitslag unit"
   ]
  },
  {
   "cell_type": "code",
   "execution_count": 2,
   "metadata": {},
   "outputs": [],
   "source": [
    "df_lab['uitslag_unit'] = df_lab['uitslag_unit'].fillna('')\n",
    "df_lab['uitslag_unit'] = df_lab['uitslag_unit'].replace('10*9/L', 'x10^9/L') # 10*6/L\n",
    "df_lab['uitslag_unit'] = df_lab['uitslag_unit'].replace('10*6/L', 'x10^6/L')\n",
    "df_lab['uitslag_unit'] = df_lab['uitslag_unit'].replace('mm/h', 'mm') \n",
    "df_lab['uitslag_unit'] = df_lab['uitslag_unit'].replace('', np.nan)"
   ]
  },
  {
   "cell_type": "markdown",
   "metadata": {},
   "source": [
    "#### Count completeness of different variables"
   ]
  },
  {
   "cell_type": "code",
   "execution_count": 3,
   "metadata": {},
   "outputs": [
    {
     "name": "stdout",
     "output_type": "stream",
     "text": [
      "0 1588 1571 0 2029\n"
     ]
    }
   ],
   "source": [
    "print(len(df_lab[df_lab['test_naam_omschrijving'].isin(['ANF', 'Anti nucleaire antistoffen (ANA)'])]['patient_id'].unique()),\n",
    "len(df_lab[df_lab['test_naam_omschrijving'].isin(['Anti-CCP', 'Anti-CCP Kwant.'])]['patient_id'].unique()),\n",
    "len(df_lab[df_lab['test_naam_omschrijving'].isin(['IgM reumafactor', 'RF.M Elisa'])]['patient_id'].unique()),\n",
    "len(df_lab[df_lab['test_naam_omschrijving'].isin(['Anti-SS-A', 'Anti-SS-A Kwant.'])]['patient_id'].unique()),\n",
    "     len(df_lab['pseudoId'].unique()))"
   ]
  },
  {
   "cell_type": "markdown",
   "metadata": {},
   "source": [
    "### #3.1.1 Cast to wide format"
   ]
  },
  {
   "cell_type": "code",
   "execution_count": 5,
   "metadata": {
    "scrolled": true
   },
   "outputs": [
    {
     "name": "stdout",
     "output_type": "stream",
     "text": [
      "\n",
      "Processing lab data...\n",
      "Progress: row 0 / 38117 (0.0%)\n",
      "{'BSE (mm)': Timestamp('2018-08-06 17:01:00'), 'Hematocriet (L/L)': Timestamp('2018-08-06 17:01:00'), 'Hemoglobine (mmol/L)': Timestamp('2018-08-06 17:01:00'), 'Trombocyten (10^9/L)': Timestamp('2018-08-06 17:01:00'), 'MCHC (mmol/L)': Timestamp('2018-08-06 17:01:00'), 'MCH (fmol)': Timestamp('2018-08-06 17:01:00'), 'Leukocyten (10^9/L)': Timestamp('2018-08-06 17:01:00'), 'MCV (fl)': Timestamp('2018-08-06 17:01:00'), 'Anti-CCP (U/mL)': Timestamp('2018-08-24 15:54:00'), 'IgM reumafactor (IU/mL)': Timestamp('2018-08-24 15:54:00')}\n",
      "Progress: row 4765 / 38117 (12.5%)\n",
      "Progress: row 9530 / 38117 (25.0%)\n",
      "Progress: row 14295 / 38117 (37.5%)\n",
      "Progress: row 19060 / 38117 (50.0%)\n",
      "Progress: row 23825 / 38117 (62.5%)\n",
      "Progress: row 28590 / 38117 (75.0%)\n",
      "Progress: row 33355 / 38117 (87.5%)\n"
     ]
    }
   ],
   "source": [
    "imp.reload(func)\n",
    "\n",
    "# Exclude mono/lympho / crp\n",
    "l_remove = ['C-Reactief Proteine', 'Monocyten', 'Lymfocyten']\n",
    "df_lab = df_lab[~df_lab['test_naam_omschrijving'].isin(l_remove)].copy()\n",
    "\n",
    "df_lab['Monster_Afname_Datumtijd'] = pd.to_datetime(df_lab['Monster_Afname_Datumtijd'], format='%Y-%m-%d')\n",
    "df_lab = df_lab.sort_values(by='Monster_Afname_Datumtijd', ascending=False)\n",
    "l_pat = df_lab['pseudoId'].unique()\n",
    "df_new = func.reformat_lab(df_lab[df_lab['pseudoId'].isin(l_pat)])\n",
    "df_new['time'] =  pd.to_datetime(df_new['time'], format='%Y-%m-%d')"
   ]
  },
  {
   "cell_type": "markdown",
   "metadata": {},
   "source": [
    "### #3.1.2 Merge exact duplicates"
   ]
  },
  {
   "cell_type": "code",
   "execution_count": 6,
   "metadata": {},
   "outputs": [],
   "source": [
    "df_new['patnr'] = df_new['pseudoId'].str[:9] \n",
    "df_new = df_new.groupby(['patnr', 'time']).min().reset_index()"
   ]
  },
  {
   "cell_type": "markdown",
   "metadata": {},
   "source": [
    "### #3.1.3 Infer concentration Lymphocytes & Monocytes\n",
    "- Use the concentration of the leukocytes to infer the concentration of lymphocytes and monocytes"
   ]
  },
  {
   "cell_type": "code",
   "execution_count": 6,
   "metadata": {},
   "outputs": [],
   "source": [
    "#df_new['Monocyten'] = df_new['Monocyten (10^9/L)'].fillna((df_new['Monocyten (%)']/100) * df_new['Leukocyten (10^9/L)'])\n",
    "#df_new['Lymfocyten'] = df_new['Lymfocyten (10^9/L)'].fillna((df_new['Lymfocyten (%)']/100) * df_new['Leukocyten (10^9/L)'])"
   ]
  },
  {
   "cell_type": "markdown",
   "metadata": {},
   "source": [
    "## #3.2 Extract hidden data from uitslag_text \n",
    "- sometimes there is no value registered, but rather a formatted string. In this case we find the value in uitslag_text."
   ]
  },
  {
   "cell_type": "code",
   "execution_count": 10,
   "metadata": {},
   "outputs": [],
   "source": [
    "import importlib as imp\n",
    "imp.reload(func)\n",
    "\n",
    "l_keep = ['pseudoId', 'time', 'MCV (fl)', 'Hematocriet (L/L)', 'Leukocyten (10^9/L)',\n",
    "       'MCHC (mmol/L)', 'MCH (fmol)', 'BSE (mm)', 'Hemoglobine (mmol/L)',\n",
    "       'Trombocyten (10^9/L)', 'Anti-CCP',\n",
    "       'IgM reumafactor'] # , 'Lymfocyten', 'Monocyten'\n",
    "\n",
    "d_acpa =  func.create_dict_pat(df_lab, ['Anti-CCP', 'Anti-CCP Kwant.'])\n",
    "d_rf =  func.create_dict_pat(df_lab, ['IgM reumafactor', 'RF.M Elisa'])\n",
    "\n",
    "df_new['Anti-CCP'] = df_new['pseudoId'].map(d_acpa).fillna(df_new['Anti-CCP (U/mL)']) # .replace(d_acpa) #.map(d_acpa)\n",
    "df_new['IgM reumafactor'] = df_new['pseudoId'].map(d_rf).fillna(df_new['IgM reumafactor (IU/mL)']) #.replace(d_rf) #.map(d_rf)\n",
    "\n",
    "# Export autoantibody tithers\n",
    "df_new[['pseudoId', 'Anti-CCP (U/mL)', 'IgM reumafactor (IU/mL)']].to_csv('../new_data/9_enrichment/Autoantibody_tithers.csv', index=False)"
   ]
  },
  {
   "cell_type": "markdown",
   "metadata": {},
   "source": [
    "## #3.3 Standardize to Boolean"
   ]
  },
  {
   "cell_type": "code",
   "execution_count": 8,
   "metadata": {},
   "outputs": [],
   "source": [
    "import LabFunctions as func\n",
    "imp.reload(func)\n",
    "\n",
    "\n",
    "df_new['Anti-CCP'] = df_new['Anti-CCP'].apply(lambda x : func.infer_aCCP(x))\n",
    "df_new['IgM reumafactor'] = df_new['IgM reumafactor'].apply(lambda x : func.infer_RF(x))\n",
    "#df_new['Anti-SS-A'] = df_new['Anti-SS-A'].apply(lambda x : func.infer_SSA(x))\n",
    "#df_new['Anti-ENA'] = df_new['Anti-ENA'].apply(lambda x : func.infer_AntiENA(x))"
   ]
  },
  {
   "cell_type": "code",
   "execution_count": 9,
   "metadata": {
    "scrolled": true
   },
   "outputs": [
    {
     "data": {
      "text/plain": [
       "array(['Negatief', 'Positief', nan], dtype=object)"
      ]
     },
     "execution_count": 9,
     "metadata": {},
     "output_type": "execute_result"
    }
   ],
   "source": [
    "df_new['Anti-CCP'].unique()"
   ]
  },
  {
   "cell_type": "markdown",
   "metadata": {},
   "source": [
    "## #3.4 Drop duplicates - keep patients with complete lab profiles"
   ]
  },
  {
   "cell_type": "code",
   "execution_count": 10,
   "metadata": {
    "scrolled": true
   },
   "outputs": [
    {
     "name": "stdout",
     "output_type": "stream",
     "text": [
      "304839982 \tLab instances found (+/- 1 mo from consults): [Timestamp('2018-05-22 11:09:00'), Timestamp('2018-06-07 13:09:00')]\n"
     ]
    }
   ],
   "source": [
    "import numpy as np\n",
    "l_keep = ['pseudoId', 'time', 'MCV (fl)', 'Hematocriet (L/L)', 'Leukocyten (10^9/L)',\n",
    "       'MCHC (mmol/L)', 'MCH (fmol)', 'BSE (mm)', 'Hemoglobine (mmol/L)',\n",
    "       'Trombocyten (10^9/L)', 'Anti-CCP',\n",
    "       'IgM reumafactor'] #, 'Lymfocyten', 'Monocyten'\n",
    "\n",
    "# Create mannequin dataframe\n",
    "df_new_lab = pd.DataFrame()\n",
    "\n",
    "def NearConsult_LookBehind(items, pivot, tol=1):\n",
    "    \"\"\"\n",
    "    Near consult with complete profile \n",
    "    \"\"\"\n",
    "    items = [item for item in items if (pd.to_datetime(item, format='%Y-%m-%d', errors='ignore') + pd.DateOffset(months=1) >= pd.to_datetime(pivot, format='%Y-%m-%d', errors='ignore')) ]\n",
    "\n",
    "    if items == []:\n",
    "        return False\n",
    "    else : \n",
    "        print(items[0], pivot)\n",
    "        return True\n",
    "    \n",
    "def is_incomplete(row, l_keep):\n",
    "    if any([i != i for i in row[l_keep].values]):\n",
    "        return True # incomplete lab profile\n",
    "    else : \n",
    "        return False # complete lab profile\n",
    "\n",
    "\n",
    "df_new['is_incomplete'] = df_new.apply(lambda x : is_incomplete(x, l_keep), axis=1)\n",
    "\n",
    "df_new['patnr'] = df_new['pseudoId'].str[:-2]#.astype(int)\n",
    "\n",
    "c_dropped = 0\n",
    "l_duplicates = [] \n",
    "l_dropped_patients =[]\n",
    "\n",
    "# Loop through all entries\n",
    "for pid in df_new['pseudoId'].unique():\n",
    "    if pid in l_duplicates: \n",
    "        continue # Skip entries of patients that you may have already processed in a previous step to speed up the algorithm\n",
    "    \n",
    "    pat = pid[:-2]\n",
    "    sub_df = df_new[df_new['patnr']==pat].copy()\n",
    "    date = sub_df[sub_df['pseudoId']==pid]['time'].iloc[0]\n",
    "    \n",
    "    # Get all consult dates with 1month tolerance\n",
    "    sub_df = sub_df.sort_values(by=['time'])\n",
    "    items = [item for item in sub_df['time'] if ((pd.to_datetime(item, format='%Y-%m-%d', errors='ignore') + pd.DateOffset(months=1) >= pd.to_datetime(date, format='%Y-%m-%d', errors='ignore')) and (pd.to_datetime(item, format='%Y-%m-%d', errors='ignore') - pd.DateOffset(months=1) <= pd.to_datetime(date, format='%Y-%m-%d', errors='ignore'))) ]\n",
    "    \n",
    "    if len(items) > 1:\n",
    "        l_duplicates.extend(list(set([sub_df[sub_df['time']==time]['pseudoId'].iloc[0] for time in items])))\n",
    "        \n",
    "        # For each date of entry (consult date) we collect the lab instances in close proximity. \n",
    "        # These are within 1 month of each other and thus often similar due to the small time window\n",
    "        print(pat, '\\tLab instances found (+/- 1 mo from consults):', [time for time in items])\n",
    "        if len([time for time in items if sub_df[sub_df['time']==time]['is_incomplete'].iloc[0]==False]) > 0:\n",
    "            l_drop = [time for time in items if sub_df[sub_df['time']==time]['is_incomplete'].iloc[0]==False]\n",
    "            selected_time = l_drop[0] # select on complete then on first date\n",
    "            c_dropped += len(l_drop)-1\n",
    "            l_dropped_patients.extend(l_drop[1:])\n",
    "        else : \n",
    "            selected_time = items[0] # select on first date these patients are dropped anyway more downstream\n",
    "            c_dropped += len(items)-1\n",
    "            l_dropped_patients.extend(items[1:])\n",
    "        df_new_lab = df_new_lab.append(sub_df[sub_df['time']==selected_time].iloc[0], ignore_index=True)   \n",
    "        l_duplicates.extend([time for time in sub_df[sub_df['time']==selected_time]['pseudoId']])\n",
    "    else :\n",
    "        df_new_lab = df_new_lab.append(sub_df[sub_df['pseudoId']==pid], ignore_index=True)"
   ]
  },
  {
   "cell_type": "markdown",
   "metadata": {},
   "source": [
    "## #3.5 Exclude patients that already use medication or that are missing Rx\n",
    "- Also exclude patients that have already started treatment (we look 6 months prior to 'supposed' baseline for any drugs)"
   ]
  },
  {
   "cell_type": "code",
   "execution_count": 11,
   "metadata": {},
   "outputs": [],
   "source": [
    "df_treat = pd.read_csv('../filters/RA_patients_AllNP_inclTreatmentStart.csv', sep='|')\n",
    "l_missingRx = df_treat[df_treat['FILTER_RX_NA_BASELINE']==True]['pseudoId'].unique()\n",
    "df_new_lab = df_new_lab[~df_new_lab['pseudoId'].isin(l_missingRx)]"
   ]
  },
  {
   "cell_type": "markdown",
   "metadata": {},
   "source": [
    "## #3.6 Drop missingness Lab data"
   ]
  },
  {
   "cell_type": "code",
   "execution_count": 12,
   "metadata": {},
   "outputs": [
    {
     "data": {
      "text/plain": [
       "(1615, 1552)"
      ]
     },
     "execution_count": 12,
     "metadata": {},
     "output_type": "execute_result"
    }
   ],
   "source": [
    "df_new = df_new_lab.copy()\n",
    "len(df_new), len(df_new['patnr'].unique())"
   ]
  },
  {
   "cell_type": "code",
   "execution_count": 13,
   "metadata": {},
   "outputs": [],
   "source": [
    "df_new = df_new_lab.copy()\n",
    "\n",
    "# Save all patients\n",
    "df_new[l_keep].to_csv(r'../new_data/3_wide/DF_Lab_wide_Final.csv', sep='|', index=False)\n",
    "\n",
    "# Save patients with considerable amount of lab data\n",
    "df_new[l_keep].dropna().to_csv(r'../new_data/3_wide/DF_Lab_wide_Final2.csv', sep='|', index=False)\n"
   ]
  },
  {
   "cell_type": "markdown",
   "metadata": {},
   "source": [
    "### #3.6.1 Elucidate missingness"
   ]
  },
  {
   "cell_type": "code",
   "execution_count": 14,
   "metadata": {},
   "outputs": [
    {
     "data": {
      "text/plain": [
       "pseudoId                0.000000\n",
       "time                    0.000000\n",
       "MCV (fl)                6.130031\n",
       "Hematocriet (L/L)       6.130031\n",
       "Leukocyten (10^9/L)     6.006192\n",
       "MCHC (mmol/L)           6.501548\n",
       "MCH (fmol)              6.130031\n",
       "BSE (mm)                7.554180\n",
       "Hemoglobine (mmol/L)    6.130031\n",
       "Trombocyten (10^9/L)    6.563467\n",
       "Anti-CCP                4.891641\n",
       "IgM reumafactor         5.758514\n",
       "dtype: float64"
      ]
     },
     "execution_count": 14,
     "metadata": {},
     "output_type": "execute_result"
    }
   ],
   "source": [
    "df_new_lab[l_keep].isnull().sum()/len(df_new_lab[l_keep])*100"
   ]
  },
  {
   "cell_type": "code",
   "execution_count": 15,
   "metadata": {},
   "outputs": [
    {
     "data": {
      "text/plain": [
       "<AxesSubplot:>"
      ]
     },
     "execution_count": 15,
     "metadata": {},
     "output_type": "execute_result"
    },
    {
     "data": {
      "image/png": "[encoded data removed]",
      "text/plain": [
       "<Figure size 1800x720 with 2 Axes>"
      ]
     },
     "metadata": {
      "needs_background": "light"
     },
     "output_type": "display_data"
    }
   ],
   "source": [
    "import missingno as msno\n",
    "    \n",
    "%matplotlib inline\n",
    "\n",
    "# df_new[((~df_new['Anti-CCP'].isna()) & (~df_new['IgM reumafactor'].isna()))][l_keep].dropna(thresh=7)\n",
    "msno.matrix(df_new[l_keep]) # check if patients that miss variables across lines -> have aCCP / RF of 2"
   ]
  },
  {
   "cell_type": "markdown",
   "metadata": {},
   "source": [
    "## #3.7 Process alternative Lab values (around first appointment)\n",
    "#### Dropped patients\n",
    "Some patients do not have a Mannequin, in this case we look from the baseline to elucidate the lab profile of the patients that will be dropped"
   ]
  },
  {
   "cell_type": "code",
   "execution_count": 16,
   "metadata": {},
   "outputs": [
    {
     "name": "stdout",
     "output_type": "stream",
     "text": [
      "yee\n",
      "C H E C K P O I N T\n",
      "Nr of patients: 2069 \tNr of PseudoIds: 2590\n",
      "\n",
      "Processing lab data...\n",
      "Progress: row 0 / 52190 (0.0%)\n",
      "{'Hemoglobine (mmol/L)': '2018-08-02 10:13:00', 'Hematocriet (L/L)': '2018-08-02 10:13:00', 'MCV (fl)': '2018-08-02 10:13:00', 'MCHC (mmol/L)': '2018-08-02 10:13:00', 'BSE (mm/h)': '2018-08-02 10:13:00', 'Trombocyten (10*9/L)': '2018-08-02 10:13:00', 'MCH (fmol)': '2018-08-02 10:13:00', 'C-Reactief Proteine (mg/L)': '2018-08-02 10:13:00', 'Leukocyten (10*9/L)': '2018-08-02 10:13:00', 'Lymfocyten (10*9/L)': '2018-08-23 17:00:00', 'Monocyten (10*9/L)': '2018-08-23 17:00:00', 'Anti-CCP (U/mL)': '2018-08-23 17:00:00', 'IgM reumafactor (IU/mL)': '2018-08-23 17:00:00'}\n",
      "Progress: row 6524 / 52190 (12.5%)\n",
      "Progress: row 13048 / 52190 (25.0%)\n",
      "Progress: row 19572 / 52190 (37.5%)\n",
      "Progress: row 26096 / 52190 (50.0%)\n",
      "Progress: row 32620 / 52190 (62.5%)\n",
      "Progress: row 39144 / 52190 (75.0%)\n",
      "Progress: row 45668 / 52190 (87.5%)\n"
     ]
    }
   ],
   "source": [
    "print('yee')\n",
    "import pandas as pd\n",
    "import sys\n",
    "sys.path.append(r'../src/1_emr_scripts')\n",
    "import importlib as imp\n",
    "import LabFunctions as func\n",
    "print('C H E C K P O I N T')\n",
    "\n",
    "l_keep = ['pseudoId', 'time', 'MCV (fl)', 'Hematocriet (L/L)', 'Leukocyten (10^9/L)',\n",
    "       'MCHC (mmol/L)', 'MCH (fmol)', 'BSE (mm)', 'Hemoglobine (mmol/L)',\n",
    "       'Trombocyten (10^9/L)', 'Anti-CCP',\n",
    "       'IgM reumafactor'] # , 'Lymfocyten', 'Monocyten'\n",
    "\n",
    "df_lab = pd.read_csv(r'../new_data/2_preprocessing/DF_Lab_firstCon_PEC.csv', sep='|', index_col=0) \n",
    "\n",
    "df_lab['uitslag_value'] = df_lab.apply(lambda x: func.use_max_lab(x, col_test='BSE'), axis=1)\n",
    "df_lab['uitslag_value'] = df_lab.apply(lambda x: func.use_max_lab(x, col_test=['C-Reactief Proteine', 'C-Reaktief Proteine']), axis=1)\n",
    "\n",
    "print('Nr of patients:', len(df_lab['patient_id'].unique()), '\\tNr of PseudoIds:', len(df_lab['pseudoId'].unique()))\n",
    "\n",
    "# Cast to wide format\n",
    "df_lab = df_lab.sort_values(by='FirstConsult', ascending=False)\n",
    "l_pat = df_lab['pseudoId'].unique()\n",
    "df_new = func.reformat_lab(df_lab[df_lab['pseudoId'].isin(l_pat)])\n",
    "\n",
    "d_acpa =  func.create_dict_pat(df_lab, ['Anti-CCP', 'Anti-CCP Kwant.'])\n",
    "d_rf =  func.create_dict_pat(df_lab, ['IgM reumafactor', 'RF.M Elisa'])\n",
    "\n",
    "df_new['Anti-CCP'] = df_new['pseudoId'].map(d_acpa).fillna(df_new['Anti-CCP (U/mL)']) # .replace(d_acpa) #.map(d_acpa)\n",
    "df_new['IgM reumafactor'] = df_new['pseudoId'].map(d_rf).fillna(df_new['IgM reumafactor (IU/mL)']) #.replace(d_rf) #.map(d_rf)\n",
    "\n",
    "\n",
    "# Replace extreme Outliers in Leukocytes with NA\n",
    "df_new['Leukocyten (10^9/L)'] = df_new['Leukocyten (10^9/L)'].apply(lambda x : np.nan if x > 100 else x) \n",
    "\n",
    "# Infer Monocytes and Lymfocytes\n",
    "df_new['Monocyten'] = df_new['Monocyten (10^9/L)'].fillna((df_new['Monocyten (%)']/100) * df_new['Leukocyten (10^9/L)'])\n",
    "df_new['Lymfocyten'] = df_new['Lymfocyten (10^9/L)'].fillna((df_new['Lymfocyten (%)']/100) * df_new['Leukocyten (10^9/L)'])\n",
    "\n",
    "# Infer autoantibodies\n",
    "df_new['Anti-CCP'] = df_new['Anti-CCP'].apply(lambda x : func.infer_aCCP(x))\n",
    "df_new['IgM reumafactor'] = df_new['IgM reumafactor'].apply(lambda x : func.infer_RF(x))\n",
    "\n",
    "# Save all patients\n",
    "df_new[l_keep].to_csv(r'../new_data/3_wide/DF_Lab_wide_PEC_Final2.csv', sep='|', index=False)"
   ]
  },
  {
   "cell_type": "markdown",
   "metadata": {},
   "source": [
    "## #3.8 Normalize lab data\n",
    "Apply Z-scale normalization (Important to do this before Imputation)"
   ]
  },
  {
   "cell_type": "code",
   "execution_count": 17,
   "metadata": {},
   "outputs": [
    {
     "name": "stdout",
     "output_type": "stream",
     "text": [
      "Written to ../new_data/3_wide/DF_Lab_wide_unscaled.csv\n",
      "Written to ../new_data/3_wide/DF_Lab_wide_PEC_unscaled.csv\n"
     ]
    }
   ],
   "source": [
    "from sklearn.compose import ColumnTransformer\n",
    "from sklearn.preprocessing import StandardScaler # Z-score\n",
    "from sklearn.preprocessing import RobustScaler  # Robust Z-score\n",
    "from sklearn.preprocessing import PowerTransformer # Yeo-Johnson\n",
    "from sklearn.preprocessing import LabelEncoder\n",
    "from sklearn.preprocessing import OneHotEncoder\n",
    "import numpy as np\n",
    "import pandas as pd\n",
    "\n",
    "def BinarizeSerology(val, include_na=True):\n",
    "    \"\"\"\n",
    "    Standardize the categorical variables to numerical values\n",
    "    \n",
    "    where:\n",
    "        0 = Negative\n",
    "        1 = Positive\n",
    "        2 = Missing\n",
    "    \n",
    "    Input:\n",
    "        val = Categorical value \n",
    "        include_na = whether or to include missing values\n",
    "            - in case the missingness contains information\n",
    "            - you should keep these values!\n",
    "    Output:\n",
    "        val = codified categorical value\n",
    "    \"\"\"\n",
    "    \n",
    "    if val in ['Positief', 'Sterk pos.', 'Sterk pos', 'Sterk Positief']:\n",
    "        val = 1\n",
    "    elif val in ['Dubieus', 'Negatief', 'Zwak pos.', 'Zwak pos', 'Zwak Positief']:\n",
    "        val= 0\n",
    "    elif include_na:\n",
    "        if val in ['Stopgezet', '-volgt-', '@volgt', 'Niet doorgeg', 'Niet het jui', \n",
    "                   'gestopt', 'Bepaling niet ui', ' ', 'Geen analyse mog', 'Te weinig materi', \n",
    "                   'Geen materiaal o', 'te weinig ma', 'gestopt',  'Geen analyse', 'geen uitslag', np.nan]:\n",
    "            val = np.nan\n",
    "    return val\n",
    "\n",
    "def normalizeLab(df):\n",
    "    \"\"\"\n",
    "    Input: \n",
    "        df = complete dataframe\n",
    "    \n",
    "    Description:\n",
    "        This function processes the Lab data. \n",
    "        Categorical data is subjected to a one-hot-encoding\n",
    "        while the numerical data is cast to a z-scale as normalization\n",
    "        \n",
    "        Furthermore, the ESR (or BSE in dutch) is subjected to a \n",
    "        log-transformation.\n",
    "    \n",
    "    Output:\n",
    "        df_dummies = dataframe with preprocessed categorical data \n",
    "        df_b = dataframe with preprocessed numerical data\n",
    "    \"\"\"\n",
    "    l_num = ['Leuko', 'MCH', 'Hb', 'Ht', 'MCHC', 'MCV', 'Trom',  'BSE'] # 'Lym', 'Mono', \n",
    "    l_cat = ['RF', 'aCCP']\n",
    "    \n",
    "    # Log transform the ESR data\n",
    "    df['BSE'] = np.log(df['BSE'])\n",
    "    # \n",
    "    # np.log(df['BSE'])\n",
    "    \n",
    "    ct = ColumnTransformer([(\"num\", PowerTransformer(), l_num)], remainder=\"passthrough\")\n",
    "    df_num= pd.DataFrame(ct.fit_transform(df[l_num]), columns=l_num)\n",
    "    df_cat = df[l_cat].copy()\n",
    "    \n",
    "    def cast_to_one_hot(values):\n",
    "        # integer encode\n",
    "\n",
    "        label_encoder = LabelEncoder()\n",
    "        integer_encoded = label_encoder.fit_transform(values)\n",
    "        \n",
    "        onehot_encoder = OneHotEncoder(sparse=False)\n",
    "        integer_encoded = integer_encoded.reshape(len(integer_encoded), 1)\n",
    "        onehot_encoded = onehot_encoder.fit_transform(integer_encoded)\n",
    "        if len(np.unique(values)) == 3:\n",
    "            df = pd.DataFrame(onehot_encoded, columns=[0, 1,2])\n",
    "            df.index = np.arange(0, len(df))  \n",
    "            return df[0], df[1], df[2] \n",
    "        elif len(np.unique(values)) == 2:\n",
    "            df = pd.DataFrame(onehot_encoded, columns=[0, 1])\n",
    "            df.index = np.arange(0, len(df))  \n",
    "            return df[0], df[1], None  \n",
    "        elif len(np.unique(values)) < 2:\n",
    "            return None, None, None  \n",
    "\n",
    "    def cast_to_str(x):\n",
    "        d = {1: 'positive', 0:'negative', 2: 'missing'}\n",
    "        return d[x]\n",
    "\n",
    "    CATEGORICAL_PROCESSING = False\n",
    "    # Categorical preprocessing\n",
    "    if CATEGORICAL_PROCESSING:\n",
    "    \n",
    "        for cat in l_cat:\n",
    "            print(cat)\n",
    "            print(df_cat[cat].unique())\n",
    "            # This will give an error if your index doesnt count from 0 to n\n",
    "            df_cat['%s_negative' % (cat)], df_cat['%s_positive' % (cat)], df_cat['%s_missing' % (cat)] = cast_to_one_hot(df_cat[cat].values)\n",
    "            #print(matrix[cat + '_negative' ])\n",
    "            if len(df_cat[df_cat[cat + '_negative' ].isna()])>1: # remove if column doesnt hold any information:\n",
    "                df_cat = df_cat.drop(columns=['%s_negative' % (cat), '%s_positive' % (cat), '%s_missing' % (cat)])\n",
    "                print(\"Column %s doesn't hold any information and is therefore removed\" % (cat))\n",
    "            df_cat = df_cat.drop(columns=cat)\n",
    "        df_cat = df_cat.dropna(axis=1, how='all')\n",
    "    df_imp = df_cat.merge(df_num, left_index=True, right_index=True)\n",
    "    \n",
    "    df_imp = df_imp.merge(df[['pseudoId', 'time']], left_index=True, right_index=True)\n",
    "    \n",
    "    \n",
    "    return df_imp\n",
    "\n",
    "l_datasets = ['DF_Lab_wide_Final2.csv', 'DF_Lab_wide_PEC_Final2.csv']\n",
    "d_name = {'DF_Lab_wide_Final2.csv': 'DF_Lab_wide_scaled.csv', 'DF_Lab_wide_PEC_Final2.csv': 'DF_Lab_wide_PEC_scaled.csv'}\n",
    "d_name_raw = {'DF_Lab_wide_Final2.csv': 'DF_Lab_wide_unscaled.csv', 'DF_Lab_wide_PEC_Final2.csv': 'DF_Lab_wide_PEC_unscaled.csv'}\n",
    "\n",
    "# Alternate between the two datasets to scale / ohe the data\n",
    "for dataset in l_datasets:\n",
    "    # Import Lab values\n",
    "    df_lab = pd.read_csv(r'../new_data/3_wide/%s' % (dataset), sep='|')\n",
    "\n",
    "    # Abbreviate column names\n",
    "    new_lab_cols = {'MCV (fl)': \"MCV\", 'Hematocriet (L/L)' : \"Ht\",'Leukocyten (10^9/L)' : \"Leuko\", 'MCHC (mmol/L)' : \"MCHC\", 'MCH (fmol)' : \"MCH\", 'BSE (mm)' : \"BSE\", 'Hemoglobine (mmol/L)' : \"Hb\", 'Trombocyten (10^9/L)' : \"Trom\", 'Anti-CCP' : \"aCCP\",'IgM reumafactor' : \"RF\", \"Lymfocyten\" : \"Lym\", \"Monocyten\" : \"Mono\"}\n",
    "    # , 'Lymfocyten' : \"Lym\", 'Monocyten' : \"Mono\"\n",
    "    df_lab = df_lab.rename(columns=new_lab_cols)\n",
    "    \n",
    "    # Encode antigen test labels\n",
    "    l_cat = ['RF', 'aCCP'] \n",
    "    for cat in l_cat:\n",
    "        df_lab[cat] = df_lab[cat].apply(lambda x : BinarizeSerology(x, include_na=True))\n",
    "        \n",
    "    # Save lab data (unnormalized)\n",
    "    df_lab.to_csv(r'../new_data/3_wide/%s' % (d_name_raw[dataset]), sep='|', index=False)\n",
    "    \n",
    "    print('Written to ../new_data/3_wide/%s' % (d_name_raw[dataset]))\n",
    "    \n",
    "    # Normalize lab values\n",
    "    df_lab = normalizeLab(df_lab)\n",
    "\n",
    "    # Save lab data (normalized)\n",
    "    df_lab.to_csv(r'../new_data/4_processed/%s' % (d_name[dataset]), sep='|', index=False)"
   ]
  },
  {
   "cell_type": "markdown",
   "metadata": {},
   "source": [
    "## #3.9 Add LAB data to patient characteristics\n",
    "\n",
    "- Use Lab data close to mannequin or use lab data around PEC when there is no mannequin (or no data found in proximity to the mannequin). "
   ]
  },
  {
   "cell_type": "code",
   "execution_count": 18,
   "metadata": {},
   "outputs": [
    {
     "name": "stdout",
     "output_type": "stream",
     "text": [
      "positive control (should be 0):  0\n",
      "positive control (should be 0):  0\n"
     ]
    }
   ],
   "source": [
    "import pandas as pd\n",
    "\n",
    "l_keep = ['pseudoId', 'time', 'RF', 'aCCP', 'Leuko', 'MCH', 'Hb', 'Ht', 'MCHC',\n",
    "        'MCV', 'Trom',  'BSE'] # 'Lym', 'Mono',\n",
    "\n",
    "#new_lab_cols = {'MCV (fl)': \"MCV\", 'Hematocriet (L/L)' : \"Ht\",'Leukocyten (10^9/L)' : \"Leuko\", 'MCHC (mmol/L)' : \"MCHC\", 'MCH (fmol)' : \"MCH\", 'BSE (mm)' : \"BSE\", 'Hemoglobine (mmol/L)' : \"Hb\", 'Trombocyten (10^9/L)' : \"Trom\", 'Anti-CCP' : \"aCCP\",'IgM reumafactor' : \"RF\", 'Lymfocyten' : \"Lym\", 'Monocyten' : \"Mono\"}\n",
    "\n",
    "# Import all patient information\n",
    "df_treat = pd.read_csv(r'../filters/RA_patients_AllNP_inclTreatment+Mannequin.csv', sep='|', index_col=0)\n",
    "\n",
    "# use  lab values in proximity to as base table\n",
    "df_lab_pec = pd.read_csv(r'../new_data/3_wide/DF_Lab_wide_PEC_unscaled.csv', sep='|') \n",
    "df_treat_new = df_treat.merge(df_lab_pec[l_keep], on='pseudoId', how='outer')\n",
    "print(\"positive control (should be 0): \", len(set(df_treat['pseudoId']) - set(df_treat_new['pseudoId']))) # positive control: should be 0\n",
    "\n",
    "# Update if LAB near Mannequin is found\n",
    "df_lab = pd.read_csv(r'../new_data/3_wide/DF_Lab_wide_unscaled.csv', sep='|')\n",
    "\n",
    "# Replace values in base table with the lab values that we found in proximity to0 the mannequin!\n",
    "df_treat_new[l_keep] = df_treat_new['pseudoId'].apply(lambda x: df_lab[df_lab['pseudoId']==x][l_keep].iloc[0] if x in df_lab['pseudoId'].unique() else df_treat_new[df_treat_new['pseudoId']==x][l_keep].iloc[0])\n",
    "\n",
    "# add two columns to show missingness\n",
    "print(\"positive control (should be 0): \", len(set(df_treat['pseudoId']) - set(df_treat_new['pseudoId']))) # positive control: should be 0\n",
    "#print(len(df_treat_new[(df_treat_new['aCCP_missing']!=1) & (df_treat_new['aCCP_missing']!=1)][l_keep].dropna(thresh=7)))\n"
   ]
  },
  {
   "cell_type": "markdown",
   "metadata": {},
   "source": [
    "#### Also merge unscaled data"
   ]
  },
  {
   "cell_type": "code",
   "execution_count": 19,
   "metadata": {},
   "outputs": [
    {
     "name": "stdout",
     "output_type": "stream",
     "text": [
      "positive control (should be 0):  0\n",
      "positive control (should be 0):  0\n"
     ]
    }
   ],
   "source": [
    "import pandas as pd\n",
    "\n",
    "l_keep = ['pseudoId', 'time', 'RF', 'aCCP', 'Leuko', 'MCH', 'Hb', 'Ht', 'MCHC',\n",
    "       'MCV', 'Trom',  'BSE'] # 'Lym', 'Mono', \n",
    "\n",
    "# Import all patient information\n",
    "df_treat = pd.read_csv(r'../filters/RA_patients_AllNP_inclTreatment+Mannequin.csv', sep='|', index_col=0)\n",
    "\n",
    "# use  lab values in proximity to as base table\n",
    "df_lab_pec = pd.read_csv(r'../new_data/3_wide/DF_Lab_wide_PEC_unscaled.csv', sep='|') \n",
    "df_treat_new = df_treat.merge(df_lab_pec[l_keep], on='pseudoId', how='outer')\n",
    "print(\"positive control (should be 0): \", len(set(df_treat['pseudoId']) - set(df_treat_new['pseudoId']))) # positive control: should be 0\n",
    "\n",
    "# Update if LAB near Mannequin is found\n",
    "df_lab = pd.read_csv(r'../new_data/3_wide/DF_Lab_wide_unscaled.csv', sep='|')\n",
    "\n",
    "# Replace values in base table with the lab values that we found in proximity to the mannequin!\n",
    "df_treat_new[l_keep] = df_treat_new['pseudoId'].apply(lambda x: df_lab[df_lab['pseudoId']==x][l_keep].iloc[0] if x in df_lab['pseudoId'].unique() else df_treat_new[df_treat_new['pseudoId']==x][l_keep].iloc[0])\n",
    "df_treat_new[l_keep].to_csv(r'../new_data/4_processed/DF_Lab_unscaled.csv', sep='|', index=False)\n",
    "\n",
    "# add two columns to show missingness\n",
    "print(\"positive control (should be 0): \", len(set(df_treat['pseudoId']) - set(df_treat_new['pseudoId']))) # positive control: should be 0\n",
    "#print(len(df_treat_new[(df_treat_new['aCCP_missing']!=1) & (df_treat_new['aCCP_missing']!=1)][l_keep].dropna(thresh=7)))\n"
   ]
  },
  {
   "cell_type": "markdown",
   "metadata": {},
   "source": [
    "### #3.9.1 add age and sex"
   ]
  },
  {
   "cell_type": "code",
   "execution_count": null,
   "metadata": {},
   "outputs": [],
   "source": [
    "from datetime import datetime, date\n",
    "import numpy as np\n",
    "\n",
    "def age(row): \n",
    "    \"\"\"\n",
    "    Calculate the age of the patient\n",
    "    \n",
    "    Input:\n",
    "        row = entry of patient\n",
    "    Output:\n",
    "        age = age of paitient\n",
    "    \"\"\"\n",
    "    born = row['birthDate']\n",
    "    pec = row['FirstConsult']\n",
    "    if type(pec) != float and type(born) != float:\n",
    "        pec = datetime.strptime(pec[:10], \"%Y-%m-%d\").date()\n",
    "        born = datetime.strptime(born[:19], \"%Y-%m-%d %H:%M:%S\").date()\n",
    "        return pec.year - born.year - ((pec.month, \n",
    "                                          pec.day) < (born.month, \n",
    "                                                        born.day))\n",
    "    else :\n",
    "        return np.nan\n",
    "    \n",
    "def binarize_sex(sex):\n",
    "    \"\"\"\n",
    "    Cast string type values to binary (male= 0, female=1)\n",
    "    \"\"\"\n",
    "    if sex == 'M':\n",
    "        return 0\n",
    "    else :\n",
    "        return 1\n",
    "\n",
    "df_ageSex = pd.read_csv(r'../new_data/1_raw/Demographics_REU.csv', sep=';')\n",
    "\n",
    "df_ageSex['Sex'] = df_ageSex['gender_code_original'].apply(lambda x: binarize_sex(x))\n",
    "\n",
    "df_ageSex = df_ageSex.rename(columns={\"identifier_value\": \"patnr\"})\n",
    "\n",
    "# add age & sex to lab values\n",
    "df_treat_new = df_treat_new.merge(df_ageSex[['birthDate', 'Sex', 'patnr']], on='patnr', how='outer')\n",
    "\n",
    "# calculate age from day of birth\n",
    "df_treat_new['Age'] = df_treat_new.apply(lambda x: age(x), axis= 1)\n",
    "\n",
    "#df_treat_new.head()"
   ]
  },
  {
   "cell_type": "markdown",
   "metadata": {},
   "source": [
    "### #3.9.2 Add ESR to gewrichtspop data to prepare DAS calculation"
   ]
  },
  {
   "cell_type": "code",
   "execution_count": 21,
   "metadata": {},
   "outputs": [],
   "source": [
    "import pandas as pd\n",
    "\n",
    "# Import Mannequin data\n",
    "new_df = pd.read_csv(r'../new_data/1_raw/Clustering_Gewrichtspop.csv', sep='|')\n",
    "l_components = ['Scorelijsten', 'Pijn', 'Zwelling', 'Totaal gezwollen gewrichten', 'Totaal pijnlijke gewrichten', 'Gezwollen gewrichten', 'Pijnlijke gewrichten', 'Protheses arthrodeses', 'Gewrichten met prothese', 'DAS 44', 'DAS 44(3)', 'Pijn (VAS) *', 'Pijn (VAS)', 'VAS arts (mm)', 'VAS Patient (mm)', 'VAS score', 'Pijn (VAS in cm): 0 (geen) - 10 (ondraaglijk)', 'Pijnscore VAS', 'VAS Algemeen welbevinden laatste week (schaal 0-10; +/- 0.5)', 'VAS Pijn laatste week (schaal 0-10; +/- 0.5)', 'BSE', 'Geen gezwollen gewrichten', 'Gewrichten met arthrodese' , 'Geen protheses arthrodeses', 'Geen pijnlijke gewrichten', 'DAS 28(3)', 'DAS 28', 'DAS 44 totaal pijn', 'DAS 44 rechts pijn', 'DAS 44 links pijn', 'DAS 44 totaal zwelling', 'DAS 44 links zwelling', 'DAS 44 rechts zwelling', 'DAS 28 rechts pijn', 'DAS 28 totaal pijn', 'DAS 28 links pijn', 'DAS 28 totaal zwelling', 'DAS 28 links zwelling', 'DAS 28 rechts zwelling', 'Afspraak vervolgconsult', 'Datum eerste consult', 'Reuma noduli aanwezig']\n",
    "\n",
    "new_df.columns = ['ID', 'STELLING', 'ANTWOORD', 'YANTWOORD', 'ZANTWOORD', 'PATNR', 'XANTWOORD', 'DATUM', 'Cs-code', 'CATEGORIE',  'BEHANDELAAR', 'DATUM_A', 'MUTDAT']\n",
    "\n",
    "# Import Sedimentation rate (to calculate DAS28 score)\n",
    "bse_df = pd.read_csv(r'../new_data/1_raw/Lab_REU.csv', sep=';')\n",
    "\n",
    "# change column names\n",
    "bse_df = bse_df[['effectiveDateTime', 'code_display_original', 'valueQuantity_value', 'valueQuantity_code_original', 'subject_Patient_value', 'valueString', 'issued_date']]\n",
    "bse_df.columns = ['Monster_Afname_Datumtijd', 'test_naam_omschrijving', 'uitslag_value', 'uitslag_unit', 'patient_id', 'uitslag_text', 'issued_date']\n",
    "bse_df['Monster_Afname_Datumtijd'] = pd.to_datetime(bse_df['Monster_Afname_Datumtijd'], format='%Y-%m-%d', errors='ignore')#.dt.strftime('%d-%m-%Y')\n",
    "\n",
    "# select relevant column\n",
    "bse_df =bse_df[bse_df['test_naam_omschrijving']=='BSE']\n",
    "df_pat = pd.read_csv(r'../filters/RA_patients_AllNP_inclTreatment+Mannequin.csv', sep='|', index_col=0)\n",
    "new_pat = dict(zip(df_treat['patnr'], df_treat['FirstConsult']))\n",
    "\n",
    "bse_df= bse_df[bse_df['patient_id'].isin(new_pat.keys())]\n",
    "\n",
    "# Fill in Max value for ESR if ESR is above threshold\n",
    "bse_df['uitslag_value'] = bse_df.apply(lambda x : 140 if x['uitslag_text'] == '>140' else x['uitslag_value'], axis=1)\n",
    "# Standardize unit \n",
    "bse_df['uitslag_unit'] = bse_df['uitslag_unit'].replace('mm', 'mm/h')\n",
    "\n",
    "# Add Sedimentation rate to Mannequin data\n",
    "bse_df = pd.concat([pd.DataFrame([[i, bse_df['patient_id'].iloc[i], bse_df['Monster_Afname_Datumtijd'].iloc[i], bse_df['Monster_Afname_Datumtijd'].iloc[i], 'BSE', bse_df['uitslag_value'].iloc[i], bse_df['uitslag_value'].iloc[i], bse_df['uitslag_unit'].iloc[i], 'REU']], columns=['ID', 'PATNR', 'DATUM', 'DATUM_A', 'STELLING', 'ANTWOORD', 'XANTWOORD', 'YANTWOORD', 'CATEGORIE']) for i in range(len(bse_df))],\n",
    "          ignore_index=True)\n",
    "new_df = pd.concat([new_df[['ID', 'PATNR', 'DATUM', 'DATUM_A', 'STELLING', 'ANTWOORD', 'XANTWOORD', 'YANTWOORD', 'CATEGORIE']], bse_df])\n",
    "new_df = new_df.reset_index(drop=True)\n",
    "new_df.to_csv(r'../new_data/1_raw/Clustering_Gewrichtspop_with_BSE.csv', sep='|', index=False)"
   ]
  },
  {
   "cell_type": "markdown",
   "metadata": {},
   "source": [
    "### #3.9.3 Perform DAS calculation\n",
    "\n",
    "Run offshoots/Compute_DAS.ipynb"
   ]
  },
  {
   "cell_type": "markdown",
   "metadata": {},
   "source": [
    "### #3.9.4 Add Filters & calculate days till treatment"
   ]
  },
  {
   "cell_type": "code",
   "execution_count": 22,
   "metadata": {
    "scrolled": true
   },
   "outputs": [
    {
     "name": "stdout",
     "output_type": "stream",
     "text": [
      "Nr of patients:  2695\n",
      "Nr of patients:  2695\n"
     ]
    }
   ],
   "source": [
    "import numpy as np\n",
    "\n",
    "# Load DAS & Mannequin data\n",
    "df_das = pd.read_csv('../new_data/7_final/DAS_patients.csv', sep=';')\n",
    "\n",
    "# Load function to acquire date of first consult from dictionary\n",
    "def getPseudoId(row, df):\n",
    "    pat = row['patnr']\n",
    "    sub_df = df[(df['patnr']==pat)].copy()\n",
    "    pseudo_id = sub_df[((pd.to_datetime(row['date'], format='%d-%m-%Y', errors='ignore') > pd.to_datetime(sub_df['FirstConsult'], format='%Y-%m-%d', errors='ignore'))\n",
    "               & (pd.to_datetime(row['date'], format='%d-%m-%Y', errors='ignore') <  pd.to_datetime(sub_df['Lookahead_Treatment'], format='%Y-%m-%d', errors='ignore')))]['pseudoId']\n",
    "    \n",
    "    if len(pseudo_id) > 0:\n",
    "        return pseudo_id.iloc[0]\n",
    "    else : \n",
    "        return np.nan\n",
    "\n",
    "def getFirstTREATPEC(pat, df):\n",
    "    if type(pat) != float :\n",
    "        return df[df['pseudoId']==pat]['Lookahead_Treatment'].iloc[0]\n",
    "    else :\n",
    "        return np.nan\n",
    "\n",
    "# Add first consult date\n",
    "df_das['pseudoId'] = df_das.apply(lambda x: getPseudoId(x, df_treat_new), axis=1)\n",
    "\n",
    "# Add first consult date\n",
    "df_das['TREATPEC'] = df_das['pseudoId'].apply(lambda x: getFirstTREATPEC(x, df_treat_new))\n",
    "\n",
    "l_keep = ['FirstDAS', 'DAS28(3)', 'DAS44', 'pseudoId']\n",
    "\n",
    "df_das = df_das.rename(columns={'date': 'FirstDAS'})\n",
    "df_das = df_das.sort_values(by='FirstDAS')\n",
    "\n",
    "print('Nr of patients: ', len(df_treat_new))\n",
    "df_treat_new = df_treat_new.merge(df_das[l_keep].drop_duplicates('pseudoId'), on='pseudoId', how='left')\n",
    "print('Nr of patients: ', len(df_treat_new))\n",
    "\n",
    "# LAB Missing filter\n",
    "df_lab_all = pd.read_csv(r'../new_data/1_raw/Lab_REU.csv', sep=';') \n",
    "l_lab_present = list(df_lab_all['subject_Patient_value'].unique())\n",
    "df_treat_new['FILTER_LAB_NA'] = df_treat_new['patnr'].apply(lambda x : False if x in l_lab_present else True)\n",
    "\n",
    "# LAB Missing at baseline\n",
    "df_lab = pd.read_csv(r'../new_data/3_wide/DF_Lab_wide_unscaled.csv', sep='|') \n",
    "l_lab_present = list(df_lab['pseudoId'].unique())\n",
    "df_treat_new['FILTER_LAB_NA_BASELINE'] = df_treat_new['pseudoId'].apply(lambda x : True if x not in l_lab_present else False)\n",
    "\n",
    "# Remove empty rows\n",
    "df_treat_new = df_treat_new[~df_treat_new['pseudoId'].isna()]\n",
    "\n",
    "## Save table with characteristics\n",
    "df_treat_new.to_csv(r'../filters/RA_patients_AllNP_Characteristics.csv', sep='|', index=False)"
   ]
  },
  {
   "cell_type": "code",
   "execution_count": 23,
   "metadata": {},
   "outputs": [
    {
     "data": {
      "text/plain": [
       "(1387, 1343)"
      ]
     },
     "execution_count": 23,
     "metadata": {},
     "output_type": "execute_result"
    }
   ],
   "source": [
    "import pandas as pd\n",
    "# LAB Missing at baseline\n",
    "df_lab = pd.read_csv(r'../new_data/3_wide/DF_Lab_wide_unscaled.csv', sep='|') \n",
    "l_lab_present = list(df_lab['pseudoId'].unique())\n",
    "df_lab['patnr'] = df_lab['pseudoId'].str[:9]\n",
    "len(l_lab_present), len(df_lab['patnr'].unique())"
   ]
  },
  {
   "cell_type": "markdown",
   "metadata": {},
   "source": [
    "## Visualize correlation between lab variables"
   ]
  },
  {
   "cell_type": "code",
   "execution_count": 25,
   "metadata": {},
   "outputs": [
    {
     "name": "stderr",
     "output_type": "stream",
     "text": [
      "<ipython-input-25-59d8d889c58e>:14: DeprecationWarning: `np.bool` is a deprecated alias for the builtin `bool`. To silence this warning, use `bool` by itself. Doing this will not modify any behavior and is safe. If you specifically wanted the numpy scalar type, use `np.bool_` here.\n",
      "Deprecated in NumPy 1.20; for more details and guidance: https://numpy.org/devdocs/release/1.20.0-notes.html#deprecations\n",
      "  mask = np.triu(np.ones_like(df_new[[key for key in df_new.columns if key in new_lab_cols.values()]].corr(), dtype=np.bool))\n"
     ]
    },
    {
     "data": {
      "image/png": "[encoded data removed]",
      "text/plain": [
       "<Figure size 1152x432 with 2 Axes>"
      ]
     },
     "metadata": {
      "needs_background": "light"
     },
     "output_type": "display_data"
    }
   ],
   "source": [
    "import seaborn as sns\n",
    "import matplotlib.pyplot as plt\n",
    "import pandas as pd\n",
    "import numpy as np\n",
    "\n",
    "\n",
    "df_new = pd.read_csv(r'../new_data/4_processed/DF_Lab_wide_scaled.csv', sep='|')\n",
    "new_lab_cols = {'MCV (fl)': \"MCV\", 'Hematocriet (L/L)' : \"Ht\",'Leukocyten (10^9/L)' : \"Leuko\", 'MCHC (mmol/L)' : \"MCHC\", 'MCH (fmol)' : \"MCH\", 'BSE (mm)' : \"BSE\", 'Hemoglobine (mmol/L)' : \"Hb\", 'Trombocyten (10^9/L)' : \"Trom\", 'Anti-CCP' : \"aCCP\",'IgM reumafactor' : \"RF\", \"Lymfocyten\" : \"Lym\", \"Monocyten\" : \"Mono\"}\n",
    "df_new = df_new.rename(columns=new_lab_cols)\n",
    "df_new['aCCP']\n",
    "\n",
    "# Increase the size of the heatmap.\n",
    "plt.figure(figsize=(16, 6))\n",
    "mask = np.triu(np.ones_like(df_new[[key for key in df_new.columns if key in new_lab_cols.values()]].corr(), dtype=np.bool))\n",
    "# Store heatmap object in a variable to easily access it when you want to include more features (such as title).\n",
    "# Set the range of values to be displayed on the colormap from -1 to 1, and set the annotation to True to display the correlation values on the heatmap.\n",
    "heatmap = sns.heatmap(df_new[[key for key in df_new.columns if key in new_lab_cols.values()]].corr(), mask=mask, vmin=-1, vmax=1, annot=True, cmap='BrBG')\n",
    "# Give a title to the heatmap. Pad defines the distance of the title from the top of the heatmap.\n",
    "heatmap.set_title('Correlation Heatmap', fontdict={'fontsize':12}, pad=12);"
   ]
  }
 ],
 "metadata": {
  "kernelspec": {
   "display_name": "clustering_ra",
   "language": "python",
   "name": "clustering_ra"
  },
  "language_info": {
   "codemirror_mode": {
    "name": "ipython",
    "version": 3
   },
   "file_extension": ".py",
   "mimetype": "text/x-python",
   "name": "python",
   "nbconvert_exporter": "python",
   "pygments_lexer": "ipython3",
   "version": "3.8.8"
  }
 },
 "nbformat": 4,
 "nbformat_minor": 4
}
