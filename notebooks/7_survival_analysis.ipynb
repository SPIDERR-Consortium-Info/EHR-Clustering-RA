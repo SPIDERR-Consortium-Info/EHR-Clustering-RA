{
 "cells": [
  {
   "cell_type": "markdown",
   "id": "0262b453",
   "metadata": {},
   "source": [
    "## #7.1 Import treatment information"
   ]
  },
  {
   "cell_type": "code",
   "execution_count": 1,
   "id": "9c22a835",
   "metadata": {},
   "outputs": [],
   "source": [
    "import pandas as pd\n",
    "\n",
    "df_response = pd.read_csv('/exports/reum/tdmaarseveen/RA_Clustering/new_data/7_final/SummaryResponseTable_MMAE3.csv', sep=';') # SummaryResponseTable_maui_4 SummaryResponseTable2= MOFA,\n",
    "\n",
    "#df_response = pd.read_csv('/exports/reum/tdmaarseveen/RA_Clustering/new_data/7_final/SummaryResponseTable_MMAE3.csv', sep=';') # SummaryResponseTable_maui_4 SummaryResponseTable2= MOFA,\n",
    "df_response['Cluster'] = df_response['Cluster'] + 1\n",
    "\n",
    "# create dummy variables\n",
    "just_dummies = pd.get_dummies(df_response['Cluster'])\n",
    "\n",
    "df_response = pd.concat([df_response, just_dummies], axis=1)   \n",
    "df_response = df_response.rename(columns={1: 'Cluster1', 2: 'Cluster2', 3: 'Cluster3', 4: 'Cluster4', 5: 'Cluster5', 6: 'Cluster6'})\n",
    "\n",
    "# Add Symptom duration\n",
    "df_initial = pd.read_csv('/exports/reum/tdmaarseveen/RA_Clustering/new_data/5_clustering/df_metadata.csv')#['pseudoId']\n",
    "d_symptomDur = dict(zip(df_initial['pseudoId'], df_initial['symptomDuration']))\n",
    "df_response['symptomDuration'] = df_response['pseudoId'].apply(lambda x : d_symptomDur[x])"
   ]
  },
  {
   "cell_type": "markdown",
   "id": "187a92b7",
   "metadata": {},
   "source": [
    "#### also check survival analysis for categoric information?"
   ]
  },
  {
   "cell_type": "code",
   "execution_count": 2,
   "id": "3e37cb8d",
   "metadata": {},
   "outputs": [],
   "source": [
    "\n",
    "## Get cluster information based on categoric data \n",
    "df_cluscat = pd.read_csv(r'../new_data/7_final/MMAE_clustering_240_CATEGORIC.csv', sep=',', index_col=0) # CATEGORIC\n",
    "\n",
    "# Add keys\n",
    "df_cluscat['pseudoId'] = pd.read_csv('/exports/reum/tdmaarseveen/RA_Clustering/new_data/5_clustering/df_metadata_keys.csv')['pseudoId']\n",
    "\n",
    "# Create dictionary\n",
    "d_cluscat = dict(zip(df_cluscat.pseudoId, df_cluscat.PhenoGraph_clusters))\n",
    "\n",
    "\n",
    "## Clusters of categoric data\n",
    "df_response['Cluscat'] = df_response['patnr'].apply(lambda x : d_cluscat[x])\n",
    "# \n",
    "df_response['Cluscat'] = df_response['Cluscat'] + 1\n",
    "\n",
    "# create dummy variables\n",
    "just_dummies = pd.get_dummies(df_response['Cluscat'])\n",
    "\n",
    "df_response = pd.concat([df_response, just_dummies], axis=1)   \n",
    "df_response = df_response.rename(columns={1: 'Cluscat1', 2: 'Cluscat2', 3: 'Cluscat3', 4: 'Cluscat4'})"
   ]
  },
  {
   "cell_type": "markdown",
   "id": "e4ba019a",
   "metadata": {},
   "source": [
    "#### Add stability metric / probability"
   ]
  },
  {
   "cell_type": "markdown",
   "id": "c7dae3e9",
   "metadata": {},
   "source": [
    "### #7.2 Create variables for survival analysis (time and event)\n",
    "\n",
    "ToDo: look from date where treatment was started!"
   ]
  },
  {
   "cell_type": "code",
   "execution_count": 3,
   "id": "fcba8fdb",
   "metadata": {},
   "outputs": [],
   "source": [
    "import numpy as np\n",
    "\n",
    "def getFollowUp(row, max_followup=None):\n",
    "    if row['firstDateSwitch'] == row['firstDateSwitch']:\n",
    "        if max_followup!= None :\n",
    "            if row['firstDateSwitch'] > max_followup :\n",
    "                return max_followup\n",
    "            else :\n",
    "                return row['firstDateSwitch']\n",
    "        else :\n",
    "            return row['firstDateSwitch']\n",
    "    else :\n",
    "        if max_followup!= None :\n",
    "            if row['totalFollowUp'] > max_followup :\n",
    "                return max_followup\n",
    "            else :\n",
    "                return row['totalFollowUp']\n",
    "        else :\n",
    "            return row['totalFollowUp'] #FollowUp\n",
    "    \n",
    "def setStatus(row, max_followup=None):\n",
    "    if row['firstDateSwitch'] == row['firstDateSwitch']:\n",
    "        if max_followup!= None :\n",
    "            if row['firstDateSwitch'] > max_followup:\n",
    "                return False\n",
    "            else :\n",
    "                return True\n",
    "        else :\n",
    "            return True\n",
    "    else :\n",
    "        return False\n",
    "\n",
    "\n",
    "df_response['time'] = df_response.apply(lambda x: getFollowUp(x, max_followup=None), axis=1)\n",
    "df_response['event'] = df_response.apply(lambda x: setStatus(x, max_followup=None), axis=1)\n",
    "df_response['event_1y'] = df_response.apply(lambda x: setStatus(x, max_followup=365), axis=1)\n",
    "df_response['succes_1y'] = df_response.apply(lambda x: abs(int(setStatus(x, max_followup=365))-1), axis=1)\n",
    "df_response['event_2y'] = df_response.apply(lambda x: setStatus(x, max_followup=365+365), axis=1)\n",
    "df_response['event_8y'] = df_response.apply(lambda x: setStatus(x, max_followup=3150), axis=1)\n",
    "\n",
    "# Save response table with outcome \n",
    "df_response.to_csv('/exports/reum/tdmaarseveen/RA_Clustering/new_data/7_final/SummaryResponseTable_MMAE_wOutcome.csv')"
   ]
  },
  {
   "cell_type": "markdown",
   "id": "391adcdd",
   "metadata": {},
   "source": [
    "### Check if ACPA shows association with  MTX-discontinuation\n",
    "- not necessarily true"
   ]
  },
  {
   "cell_type": "code",
   "execution_count": 28,
   "id": "c6f26547",
   "metadata": {
    "scrolled": true
   },
   "outputs": [
    {
     "data": {
      "image/png": "[encoded data removed]",
      "text/plain": [
       "<Figure size 432x288 with 1 Axes>"
      ]
     },
     "metadata": {
      "needs_background": "light"
     },
     "output_type": "display_data"
    }
   ],
   "source": [
    "#df_response[df_response['event_1y']]['aCCP']\n",
    "import seaborn as sns\n",
    "\n",
    "df_response = df_response[df_response['MTX-starter']==True]\n",
    "ax = sns.barplot(x=\"event_1y\", y=\"aCCP\", data=df_response)"
   ]
  },
  {
   "cell_type": "markdown",
   "id": "4dff4d28",
   "metadata": {},
   "source": [
    "#### #7.2.1 Save all survival data + baseline variables to test for clec16a variant (genetics)"
   ]
  },
  {
   "cell_type": "code",
   "execution_count": null,
   "id": "be8e06b6",
   "metadata": {
    "scrolled": true
   },
   "outputs": [],
   "source": [
    "import pandas as pd\n",
    "\n",
    "# Let op: dit is een beperkte lijst van EAC nummers (Vraag Samantha om een nieuwe extractie te linken!! -> to increase sample size)\n",
    "df_keys = pd.read_csv('../keys/EAC_keys_2023.csv', sep=';')\n",
    "#df_keys = pd.read_csv('/exports/reum/tdmaarseveen/RA_Clustering/new_data/offshoots/EAC_keys2.csv', sep=';')\n",
    "#df_keys.columns=['EACNUMM', 'PATNR'] #Identificatie_EACNUMM;member_entity_Pseudonym_value\n",
    "\n",
    "# generate dictionary to link patient id with EAC-id\n",
    "d_eac = dict(zip(df_keys.PATNR, df_keys.EACNUMM))\n",
    "\n",
    "df_response['PATNR'] = df_response['patnr'].str[:9].astype(int)\n",
    "\n",
    "# make a subset of the data\n",
    "df_response['EACNUMM'] = df_response['PATNR'].apply(lambda x: d_eac[x] if x in d_eac.keys() else np.nan)\n",
    "df_clec16a = df_response[['EACNUMM', 'patnr', 'time', 'event', 'event_1y', '', 'MTX-starter', 'Cluster', 'Age', 'Sex', 'aCCP', 'RF']].copy()\n",
    "df_clec16a['pseudoId'] = df_clec16a['patnr']\n",
    "df_clec16a['patnr'] = df_clec16a['patnr'].str[:9]\n",
    "\n",
    "df_clec16a.to_csv('/exports/reum/tdmaarseveen/RA_Clustering/new_data/5_clustering/df_phenograph_clusters_clec16a_NEW.csv', sep='|', index=False)"
   ]
  },
  {
   "cell_type": "markdown",
   "id": "cb5803f5",
   "metadata": {},
   "source": [
    "#### add replication samples"
   ]
  },
  {
   "cell_type": "code",
   "execution_count": null,
   "id": "a03db977",
   "metadata": {},
   "outputs": [],
   "source": [
    "df_meta2 = pd.read_csv('/exports/reum/tdmaarseveen/RA_Clustering/new_data/7_final/BaselinePopulation_REPLICATION.csv', sep=';') \n",
    "\n",
    "# Acquire EAC patients\n",
    "df_eac_keys = pd.read_csv('../new_data/8_replication/EAC_patients_AllNP_Characteristics.csv', sep='|')\n",
    "l_pre2011 = list(df_eac_keys['PATNR'].unique())\n",
    "d_eac_keys = dict(zip(df_eac_keys['PATNR'], df_eac_keys['EACNUMM']))\n",
    "\n",
    "df_meta2['EACNUMM'] = df_meta2['PATNR'].apply(lambda x: d_eac_keys[x])\n",
    "df_meta2['Cluster'] = df_meta2['PhenoGraph_clusters'] + 1\n",
    "\n",
    "df_meta2 = df_meta2.rename(columns = {'PATNR' : 'patnr'})\n",
    "df_meta2['pseudoId'] = df_meta2['patnr'].astype(str) + '_0' \n",
    "df_meta2['REPLICATION'] = 1\n",
    "df_clec16a['REPLICATION'] = 0\n",
    "\n",
    "df_total = pd.concat([df_clec16a[['pseudoId', 'patnr','EACNUMM', 'Cluster', 'REPLICATION']], df_meta2[['pseudoId', 'patnr', 'Cluster', 'EACNUMM', 'REPLICATION']] ], ignore_index=True)\n",
    "df_total.to_csv('/exports/reum/tdmaarseveen/RA_Clustering/new_data/5_clustering/df_phenograph_clusters_clec16a_TOTAL.csv', sep='|', index=False)\n",
    "df_total"
   ]
  },
  {
   "cell_type": "markdown",
   "id": "13868929",
   "metadata": {},
   "source": [
    "#### #7.2.2 Save DAS & some metadata to test predictive value of initial DAS"
   ]
  },
  {
   "cell_type": "code",
   "execution_count": 7,
   "id": "fb69f67d",
   "metadata": {},
   "outputs": [],
   "source": [
    "df_meta = df_response[['patnr', 'pseudoId', 'time', 'event', 'event_1y', 'event_8y', 'totalFollowUp', 'MTX-starter', 'Cluster', 'Age', 'Sex', 'aCCP', 'RF', 'DAS44', 'DAS28', 'Treatment','FinalTreatment', 'Cluscat', 'Cluscat1', 'Cluscat2', 'Cluscat3', 'Cluscat4']].copy()\n",
    "\n",
    "df_meta['patnr'] = df_meta['patnr'].str[:9]\n",
    "\n",
    "df_meta.to_csv('/exports/reum/tdmaarseveen/RA_Clustering/new_data/offshoots/df_ehr_DAS.csv', sep='|', index=False)"
   ]
  },
  {
   "cell_type": "markdown",
   "id": "dfe28804",
   "metadata": {},
   "source": [
    "#### Add time till treat? "
   ]
  },
  {
   "cell_type": "code",
   "execution_count": 22,
   "id": "6914b1b9",
   "metadata": {},
   "outputs": [],
   "source": [
    "import pandas as pd\n",
    "\n",
    "# Check if assocation with MTX still holds if you add time till treatment\n",
    "PROJECTION_DATA = 'MMAE_clustering_270'\n",
    "\n",
    "metadata = pd.read_csv('../new_data/7_final/%s.csv' % PROJECTION_DATA, index_col=0)\n",
    "d_tillTreat = dict(zip(metadata['pseudoId'], metadata['MannTillTreat']))\n",
    "\n",
    "df_response['MannTillTreat'] = df_response['patnr'].apply(lambda x : d_tillTreat[x])\n",
    "df_response['MannTillTreat'] = df_response['MannTillTreat'].replace(-1, 0)"
   ]
  },
  {
   "cell_type": "markdown",
   "id": "002bdfe3",
   "metadata": {},
   "source": [
    "#### #7.2.3 Save all survival data for MTX-starters"
   ]
  },
  {
   "cell_type": "code",
   "execution_count": 5,
   "id": "3e85c621",
   "metadata": {},
   "outputs": [],
   "source": [
    "df_response = df_response[df_response['MTX-starter']==True]# 'Cluscat',\n",
    "df_response['diseaseDuration'] = df_response['symptomDuration'] + df_response['MannTillTreat'] \n",
    "\n",
    "df_response[['pseudoId', 'time', 'event', 'event_1y', 'event_8y', 'Cluster',  'Cluster1', 'Cluster2', 'Cluster3', 'Cluster4', 'Age', 'Sex', 'SJC', 'TJC', 'aCCP', 'RF', 'symptomDuration', 'diseaseDuration', 'MannTillTreat', 'MTX-starter']].to_csv('/exports/reum/tdmaarseveen/RA_Clustering/new_data/5_clustering/df_survivaldata_mmae.csv')"
   ]
  },
  {
   "cell_type": "markdown",
   "id": "f0b111a9",
   "metadata": {},
   "source": [
    "### #7.3 Render Kaplan Meier curves\n",
    "\n",
    "#### #7.3.1 effect of aCCP"
   ]
  },
  {
   "cell_type": "code",
   "execution_count": 4,
   "id": "b7c083ea",
   "metadata": {},
   "outputs": [
    {
     "name": "stdout",
     "output_type": "stream",
     "text": [
      "3976.0\n",
      "Patients that stay with treatment in cluster 0.0: 0.788 0\n",
      "4071.0\n",
      "Patients that stay with treatment in cluster 1.0: 0.730 258\n"
     ]
    },
    {
     "data": {
      "image/png": "[encoded data removed]",
      "text/plain": [
       "<Figure size 612x612 with 1 Axes>"
      ]
     },
     "metadata": {
      "needs_background": "light"
     },
     "output_type": "display_data"
    }
   ],
   "source": [
    "import matplotlib.pyplot as plt\n",
    "from lifelines import KaplanMeierFitter\n",
    "import matplotlib \n",
    "matplotlib.rc('xtick', labelsize=20) \n",
    "matplotlib.rc('ytick', labelsize=20) \n",
    "ax = plt.subplot(111)\n",
    "\n",
    "\n",
    "df_response = df_response[df_response['MTX-starter']==True] # Subset on MTX-starters\n",
    "\n",
    "FOLLOWUP= 365 #365+62#365+365+365#365+62#365+365 # 365+62 #365+62 3150 3150\n",
    "\n",
    "kmf = KaplanMeierFitter() # , timeline=range(1, FOLLOWUP, 1)\n",
    "\n",
    "fig = plt.gcf()\n",
    "fig.set_size_inches(8.5, 8.5)\n",
    "\n",
    "ix = 0\n",
    "\n",
    "for name, grouped_df in df_response.groupby('aCCP'):\n",
    "    kmf.fit(grouped_df[\"time\"], grouped_df[\"event\"], label=name, timeline=range(0, FOLLOWUP, 1)) # , timeline=range(0, 365+62, 1)\n",
    "    kmf.plot_survival_function(ax=ax)\n",
    "    print(grouped_df[\"time\"].max())\n",
    "\n",
    "    ax.set_xlabel('Time (days)')\n",
    "    ax.set_ylabel('Treatment switch probability (%)')\n",
    "\n",
    "    df = kmf.event_table.copy()\n",
    "    df = df.reset_index()\n",
    "    \n",
    "    # calculate final patients that stay with baseline by hand (positive control)\n",
    "    #final = (len(df_response[((df_response['event']==True) & (df_response['Cluster']==name) & (df_response['time']>FOLLOWUP))]) + len(df_response[((df_response['event']==False) & (df_response['Cluster']==name))]))/len(df_response[((df_response['Cluster']==name))])\n",
    "    #print('Patients that stay with treatment in cluster %s: %.2f' % (name, final), len(df_response[((df_response['Cluster']==name) & (df_response['time']<FOLLOWUP))]))\n",
    "    print('Patients that stay with treatment in cluster %s: %.3f' % (name,kmf.survival_function_.iloc[-1].values[0]), round(kmf.survival_function_.iloc[-1].values[0]*len(df_response[((df_response['time']>=0) & (df_response['Cluster']==name) )]))) # (df_response['time']>=0) &\n",
    "    ix+=1"
   ]
  },
  {
   "cell_type": "markdown",
   "id": "f8c7a8cf",
   "metadata": {},
   "source": [
    "#### #7.3.2 effect of clusters"
   ]
  },
  {
   "cell_type": "code",
   "execution_count": 38,
   "id": "0c92959d",
   "metadata": {},
   "outputs": [
    {
     "name": "stdout",
     "output_type": "stream",
     "text": [
      "4039.0\n",
      "Patients that stay with treatment in cluster 1: 0.729 257\n",
      "4071.0\n",
      "Patients that stay with treatment in cluster 2: 0.772 211\n",
      "4045.0\n",
      "Patients that stay with treatment in cluster 3: 0.839 201\n",
      "3976.0\n",
      "Patients that stay with treatment in cluster 4: 0.697 152\n"
     ]
    },
    {
     "data": {
      "image/png": "[encoded data removed]",
      "text/plain": [
       "<Figure size 612x612 with 1 Axes>"
      ]
     },
     "metadata": {
      "needs_background": "light"
     },
     "output_type": "display_data"
    }
   ],
   "source": [
    "import matplotlib.pyplot as plt\n",
    "from lifelines import KaplanMeierFitter\n",
    "import matplotlib \n",
    "matplotlib.rc('xtick', labelsize=20) \n",
    "matplotlib.rc('ytick', labelsize=20) \n",
    "ax = plt.subplot(111)\n",
    "\n",
    "pal_colorblind = ['#4F6CCF', '#2db9cc', '#FBC93D', '#FA4D4D'];\n",
    "df_response = df_response[df_response['MTX-starter']==True] # Subset on MTX-starters\n",
    "#df_response = df_response[((df_response['MTX-starter']==True) & df_response['Treatment'].isin([\"['METHOTREXAAT', 'PREDNISOLON']\",\"['METHOTREXAAT']\"])) ]#['Treatment'].unique()\n",
    "#df_response = df_response[df_response['Thresh_50%']==False] # Subset on Extreme\n",
    "\n",
    "FOLLOWUP= 365 #365+62#365+365+365#365+62#365+365 # 365+62 #365+62 3150 3150\n",
    "\n",
    "kmf = KaplanMeierFitter() # , timeline=range(1, FOLLOWUP, 1)\n",
    "\n",
    "fig = plt.gcf()\n",
    "fig.set_size_inches(8.5, 8.5)\n",
    "ix = 0\n",
    "\n",
    "for name, grouped_df in df_response.groupby('Cluster'):\n",
    "    kmf.fit(grouped_df[\"time\"], grouped_df[\"event_1y\"], label=name, timeline=range(0, FOLLOWUP, 1)) # , timeline=range(0, 365+62, 1)\n",
    "    kmf.plot_survival_function(ax=ax,color=pal_colorblind[ix])\n",
    "    print(grouped_df[\"time\"].max())\n",
    "\n",
    "    ax.set_xlabel('Time (days)')\n",
    "    ax.set_ylabel('Treatment switch probability (%)')\n",
    "\n",
    "    df = kmf.event_table.copy()\n",
    "    df = df.reset_index()\n",
    "    \n",
    "    # calculate final patients that stay with baseline by hand (positive control)\n",
    "    #final = (len(df_response[((df_response['event']==True) & (df_response['Cluster']==name) & (df_response['time']>FOLLOWUP))]) + len(df_response[((df_response['event']==False) & (df_response['Cluster']==name))]))/len(df_response[((df_response['Cluster']==name))])\n",
    "    #print('Patients that stay with treatment in cluster %s: %.2f' % (name, final), len(df_response[((df_response['Cluster']==name) & (df_response['time']<FOLLOWUP))]))\n",
    "    print('Patients that stay with treatment in cluster %s: %.3f' % (name,kmf.survival_function_.iloc[-1].values[0]), round(kmf.survival_function_.iloc[-1].values[0]*len(df_response[((df_response['time']>=0) & (df_response['Cluster']==name) )]))) # (df_response['time']>=0) &\n",
    "    ix+=1"
   ]
  },
  {
   "cell_type": "markdown",
   "id": "401915f1",
   "metadata": {},
   "source": [
    "#### #7.3.3 Substratification on aCCP"
   ]
  },
  {
   "cell_type": "code",
   "execution_count": 12,
   "id": "591f9f1c",
   "metadata": {},
   "outputs": [
    {
     "name": "stdout",
     "output_type": "stream",
     "text": [
      "3920.0\n",
      "Patients that stay with treatment in cluster (1, 0.0): 0.827 0\n",
      "No of patients: 143\n",
      "4039.0\n",
      "Patients that stay with treatment in cluster (1, 1.0): 0.664 0\n",
      "No of patients: 211\n",
      "3930.0\n",
      "Patients that stay with treatment in cluster (2, 0.0): 0.791 0\n",
      "No of patients: 100\n",
      "4071.0\n",
      "Patients that stay with treatment in cluster (2, 1.0): 0.761 0\n",
      "No of patients: 175\n",
      "3969.0\n",
      "Patients that stay with treatment in cluster (3, 0.0): 0.813 0\n",
      "No of patients: 156\n",
      "4045.0\n",
      "Patients that stay with treatment in cluster (3, 1.0): 0.887 0\n",
      "No of patients: 84\n",
      "3976.0\n",
      "Patients that stay with treatment in cluster (4, 0.0): 0.710 0\n",
      "No of patients: 125\n",
      "3930.0\n",
      "Patients that stay with treatment in cluster (4, 1.0): 0.682 0\n",
      "No of patients: 93\n"
     ]
    },
    {
     "data": {
      "text/plain": [
       "<matplotlib.legend.Legend at 0x7fa4f0a45dc0>"
      ]
     },
     "execution_count": 12,
     "metadata": {},
     "output_type": "execute_result"
    },
    {
     "data": {
      "image/png": "[encoded data removed]",
      "text/plain": [
       "<Figure size 612x612 with 1 Axes>"
      ]
     },
     "metadata": {
      "needs_background": "light"
     },
     "output_type": "display_data"
    }
   ],
   "source": [
    "import matplotlib.pyplot as plt\n",
    "from lifelines import KaplanMeierFitter\n",
    "import matplotlib \n",
    "import seaborn as sns\n",
    "matplotlib.rc('xtick', labelsize=20) \n",
    "matplotlib.rc('ytick', labelsize=20) \n",
    "ax = plt.subplot(111)\n",
    "\n",
    "\n",
    "df_response = df_response[df_response['MTX-starter']==True] # Subset on MTX-starters\n",
    "\n",
    "FOLLOWUP= 365 #365+62#365+365+365#365+62#365+365 # 365+62 #365+62 3150 3150\n",
    "\n",
    "kmf = KaplanMeierFitter() # , timeline=range(1, FOLLOWUP, 1)\n",
    "\n",
    "fig = plt.gcf()\n",
    "fig.set_size_inches(8.5, 8.5)\n",
    "\n",
    "l_pal_colorblind = ['#3d2ab8', '#24148f', '#87d6e6', '#4eb8d9',  '#f5cd5f', '#fcba03', '#FA4D4D', '#b03737',]\n",
    "\n",
    "l_no = []\n",
    "l_legend = []\n",
    "l_lbl = ['C1 aCCP-', 'C1 aCCP+', 'C2 aCCP-', 'C2 aCCP+', 'C3 aCCP-', 'C3 aCCP+', 'C4 aCCP-', 'C4 aCCP+']\n",
    "\n",
    "i = 0\n",
    "for name, grouped_df in df_response.groupby(['Cluster', 'aCCP']):\n",
    "    kmf.fit(grouped_df[\"time\"], grouped_df[\"event_1y\"], label=name, timeline=range(0, FOLLOWUP, 1)) # , timeline=range(0, 365+62, 1)\n",
    "    \n",
    "    if i % 2 == 0:\n",
    "        linestyle='dashed' \n",
    "    else :\n",
    "        linestyle='solid'\n",
    "    \n",
    "    kmf.plot_survival_function(ax=ax, color = l_pal_colorblind[i], ci_show=False, linestyle=linestyle) # \n",
    "    print(grouped_df[\"time\"].max())\n",
    "   \n",
    "\n",
    "    ax.set_xlabel('Time (days)')\n",
    "    ax.set_ylabel('Treatment switch probability (%)')\n",
    "\n",
    "    df = kmf.event_table.copy()\n",
    "    df = df.reset_index()\n",
    "    \n",
    "    # calculate final patients that stay with baseline by hand (positive control)\n",
    "    print('Patients that stay with treatment in cluster %s: %.3f' % (name,kmf.survival_function_.iloc[-1].values[0]), round(kmf.survival_function_.iloc[-1].values[0]*len(df_response[((df_response['time']>=0) & (df_response['Cluster']==name) )]))) # (df_response['time']>=0) &\n",
    "    print('No of patients:', len(grouped_df))\n",
    "    l_no.append(len(grouped_df))\n",
    "    l_legend.append(l_lbl[i] + ' (n=%s) ' % str(len(grouped_df)))\n",
    "    i += 1\n",
    "    \n",
    "# call method plt.legend\n",
    "plt.legend([])# []"
   ]
  },
  {
   "cell_type": "markdown",
   "id": "ea9f9dac",
   "metadata": {},
   "source": [
    "#### #7.3.4 Curves for entire followup"
   ]
  },
  {
   "cell_type": "code",
   "execution_count": 29,
   "id": "b0893af6",
   "metadata": {},
   "outputs": [
    {
     "data": {
      "image/png": "[encoded data removed]",
      "text/plain": [
       "<Figure size 432x288 with 1 Axes>"
      ]
     },
     "metadata": {
      "needs_background": "light"
     },
     "output_type": "display_data"
    }
   ],
   "source": [
    "from collections import Counter\n",
    "import matplotlib.pyplot as plt\n",
    "ax = plt.subplot(111)\n",
    "\n",
    "kmf = KaplanMeierFitter()\n",
    "\n",
    "for name, grouped_df in df_response.groupby('Cluster'):\n",
    "    kmf.fit(grouped_df[grouped_df[\"time\"]>0][\"time\"], grouped_df[grouped_df[\"time\"]>0][\"event\"], label=name) # , timeline=range(0, 3000, 1) timeline=range(0, 3000)\n",
    "    #print(Counter(grouped_df[\"time\"]))\n",
    "    kmf.plot_survival_function(ax=ax)\n",
    "    ax.set_xlabel('Time (days)')\n",
    "    ax.set_ylabel('Treatment switch probability (%)')"
   ]
  },
  {
   "cell_type": "markdown",
   "id": "33ed7611",
   "metadata": {},
   "source": [
    "### #7.5 Perform Cox Regression analysis"
   ]
  },
  {
   "cell_type": "code",
   "execution_count": 33,
   "id": "745f089b",
   "metadata": {},
   "outputs": [
    {
     "name": "stdout",
     "output_type": "stream",
     "text": [
      "Follow up : 365\n",
      "Alpha (after Bonferroni): 0.00833\n",
      "Clusters 1-2 : HR:1.21 (0.87-1.69) p-val=0.2548602254 \n",
      "Clusters 1-3 : HR:1.77 (1.21-2.61) p-val=0.003642698 \n",
      "Clusters 1-4 : HR:0.85 (0.62-1.18) p-val=0.3335328823 \n",
      "Clusters 2-3 : HR:1.46 (0.96-2.22) p-val=0.0754153486 \n",
      "Clusters 2-4 : HR:0.7 (0.49-1.01) p-val=0.0546665802 \n",
      "Clusters 3-4 : HR:0.48 (0.32-0.73) p-val=0.0004813965 \n"
     ]
    },
    {
     "name": "stderr",
     "output_type": "stream",
     "text": [
      "/exports/reum/tdmaarseveen/convae_architecture/envs/lib/python3.8/site-packages/lifelines/utils/__init__.py:984: FutureWarning: iteritems is deprecated and will be removed in a future version. Use .items instead.\n",
      "  nonnumeric_cols = [col for (col, dtype) in df.dtypes.iteritems() if dtype.name == \"category\" or dtype.kind not in \"biuf\"]\n",
      "/exports/reum/tdmaarseveen/convae_architecture/envs/lib/python3.8/site-packages/lifelines/utils/__init__.py:984: FutureWarning: iteritems is deprecated and will be removed in a future version. Use .items instead.\n",
      "  nonnumeric_cols = [col for (col, dtype) in df.dtypes.iteritems() if dtype.name == \"category\" or dtype.kind not in \"biuf\"]\n",
      "/exports/reum/tdmaarseveen/convae_architecture/envs/lib/python3.8/site-packages/lifelines/utils/__init__.py:984: FutureWarning: iteritems is deprecated and will be removed in a future version. Use .items instead.\n",
      "  nonnumeric_cols = [col for (col, dtype) in df.dtypes.iteritems() if dtype.name == \"category\" or dtype.kind not in \"biuf\"]\n",
      "/exports/reum/tdmaarseveen/convae_architecture/envs/lib/python3.8/site-packages/lifelines/utils/__init__.py:984: FutureWarning: iteritems is deprecated and will be removed in a future version. Use .items instead.\n",
      "  nonnumeric_cols = [col for (col, dtype) in df.dtypes.iteritems() if dtype.name == \"category\" or dtype.kind not in \"biuf\"]\n",
      "/exports/reum/tdmaarseveen/convae_architecture/envs/lib/python3.8/site-packages/lifelines/utils/__init__.py:984: FutureWarning: iteritems is deprecated and will be removed in a future version. Use .items instead.\n",
      "  nonnumeric_cols = [col for (col, dtype) in df.dtypes.iteritems() if dtype.name == \"category\" or dtype.kind not in \"biuf\"]\n",
      "/exports/reum/tdmaarseveen/convae_architecture/envs/lib/python3.8/site-packages/lifelines/utils/__init__.py:984: FutureWarning: iteritems is deprecated and will be removed in a future version. Use .items instead.\n",
      "  nonnumeric_cols = [col for (col, dtype) in df.dtypes.iteritems() if dtype.name == \"category\" or dtype.kind not in \"biuf\"]\n"
     ]
    }
   ],
   "source": [
    "from lifelines import CoxPHFitter\n",
    "import itertools\n",
    "\n",
    "FOLLOWUP = 365\n",
    "EVENT = 'event_1y'\n",
    "N_CLUSTERS = 4\n",
    "print('Follow up :', FOLLOWUP)\n",
    "print('Alpha (after Bonferroni):', round(0.05/len(list(itertools.combinations(range(1,N_CLUSTERS+1), 2))), 5 ))\n",
    "\n",
    "i = 1\n",
    "for x in itertools.combinations(range(1,N_CLUSTERS+1), 2) :\n",
    "    l_cluster = [x[0], x[1]]\n",
    "    cph = CoxPHFitter()\n",
    "    cph.fit(df_response[(df_response['Cluster'].isin(l_cluster))][['time', EVENT, 'Cluster%s' % (l_cluster[0])]], duration_col='time', event_col=EVENT)\n",
    "\n",
    "    p_val = cph.summary['p'].values[0]\n",
    "    effect = cph.summary['exp(coef)'].values[0]\n",
    "    ci_lower = cph.summary['exp(coef) lower 95%'].values[0]\n",
    "    ci_upper = cph.summary['exp(coef) upper 95%'].values[0]\n",
    "    \n",
    "    p_val = p_val #/ len(list(itertools.combinations(range(1,7), 2))) # Conservative Bonferroni Multiple testing correction\n",
    "    print('Clusters %s-%s : HR:%s (%s-%s) p-val=%s ' % (x[0], x[1], round(effect,2), round(ci_lower,2), round(ci_upper,2), round(p_val,10)))\n",
    "    i = i + 1 "
   ]
  },
  {
   "cell_type": "code",
   "execution_count": 9,
   "id": "53394158",
   "metadata": {},
   "outputs": [
    {
     "data": {
      "text/plain": [
       "'event_1y ~ Cluster1 * MannTillTreat'"
      ]
     },
     "execution_count": 9,
     "metadata": {},
     "output_type": "execute_result"
    }
   ],
   "source": [
    "'%s ~ %s * MannTillTreat' % (EVENT, 'Cluster%s' % (l_cluster[0]))"
   ]
  },
  {
   "cell_type": "code",
   "execution_count": null,
   "id": "14724f4d",
   "metadata": {},
   "outputs": [],
   "source": [
    "cph = CoxPHFitter()\n",
    "cph.fit(df_response[['time', EVENT, 'Cluster', 'MannTillTreat']], duration_col='time', event_col=EVENT, timeline=range(0, FOLLOWUP, 1), formula='EVENT ~ Cluster * MannTillTreat')\n",
    "\n",
    "\n",
    "cph.plot_partial_effects_on_outcome(covariates = ['Cluster', 'MannTillTreat'], values = [[0,-1], [0,150], [0,350], [1,-1], [1,150], [1,350], [2,-1], [2,150], [2,350], [3,-1], [3,150], [3,350]], cmap = 'coolwarm')"
   ]
  },
  {
   "cell_type": "code",
   "execution_count": null,
   "id": "99917486",
   "metadata": {},
   "outputs": [],
   "source": [
    "# MannTillTreat\n",
    "\n",
    "from lifelines import CoxPHFitter\n",
    "import itertools\n",
    "from formulaic import Formula\n",
    "\n",
    "FOLLOWUP = 365\n",
    "EVENT = 'event_1y'\n",
    "N_CLUSTERS = 4\n",
    "print('Follow up :', FOLLOWUP)\n",
    "print('Alpha (after Bonferroni):', round(0.05/len(list(itertools.combinations(range(1,N_CLUSTERS+1), 2))), 5 ))\n",
    "\n",
    "i = 1\n",
    "for x in itertools.combinations(range(1,N_CLUSTERS+1), 2) :\n",
    "    l_cluster = [x[0], x[1]]\n",
    "    cph = CoxPHFitter()\n",
    "    cph.fit(df_response[(df_response['Cluster'].isin(l_cluster))][['time', EVENT, 'Cluster%s' % (l_cluster[0])]], duration_col='time', event_col=EVENT, timeline=range(0, FOLLOWUP, 1))\n",
    "    # , event_col=EVENT, \n",
    "    p_val = cph.summary['p'].values[0]\n",
    "    effect = cph.summary['exp(coef)'].values[0]\n",
    "    ci_lower = cph.summary['exp(coef) lower 95%'].values[0]\n",
    "    ci_upper = cph.summary['exp(coef) upper 95%'].values[0]\n",
    "    \n",
    "    p_val = p_val #/ len(list(itertools.combinations(range(1,7), 2))) # Conservative Bonferroni Multiple testing correction\n",
    "    print('Clusters %s-%s : HR:%s (%s-%s) p-val=%s ' % (x[0], x[1], round(effect,2), round(ci_lower,2), round(ci_upper,2), round(p_val,10)))\n",
    "    i = i + 1 "
   ]
  },
  {
   "cell_type": "markdown",
   "id": "5db537f3",
   "metadata": {},
   "source": [
    "#### #7.5.1 Check assumptions with Schoenfeld residual plots"
   ]
  },
  {
   "cell_type": "code",
   "execution_count": 14,
   "id": "11f7fe65",
   "metadata": {},
   "outputs": [
    {
     "name": "stderr",
     "output_type": "stream",
     "text": [
      "/exports/reum/tdmaarseveen/convae_architecture/envs/lib/python3.8/site-packages/lifelines/fitters/mixins.py:108: FutureWarning: Index.__and__ operating as a set operation is deprecated, in the future this will be a logical operation matching Series.__and__.  Use index.intersection(other) instead.\n",
      "  for variable in self.params_.index & (columns or self.params_.index):\n"
     ]
    },
    {
     "name": "stdout",
     "output_type": "stream",
     "text": [
      "The ``p_value_threshold`` is set at 0.99. Even under the null hypothesis of no violations, some\n",
      "covariates will be below the threshold by chance. This is compounded when there are many covariates.\n",
      "Similarly, when there are lots of observations, even minor deviances from the proportional hazard\n",
      "assumption will be flagged.\n",
      "\n",
      "With that in mind, it's best to use a combination of statistical tests and visual tests to determine\n",
      "the most serious violations. Produce visual plots using ``check_assumptions(..., show_plots=True)``\n",
      "and looking for non-constant lines. See link [A] below for a full example.\n",
      "\n"
     ]
    },
    {
     "name": "stderr",
     "output_type": "stream",
     "text": [
      "/exports/reum/tdmaarseveen/convae_architecture/envs/lib/python3.8/site-packages/lifelines/statistics.py:143: FutureWarning: In future versions `DataFrame.to_latex` is expected to utilise the base implementation of `Styler.to_latex` for formatting and rendering. The arguments signature may therefore change. It is recommended instead to use `DataFrame.style.to_latex` which also contains additional functionality.\n",
      "  return self.summary.to_latex()\n"
     ]
    },
    {
     "data": {
      "text/html": [
       "<div>\n",
       "<style scoped>\n",
       "    .dataframe tbody tr th:only-of-type {\n",
       "        vertical-align: middle;\n",
       "    }\n",
       "\n",
       "    .dataframe tbody tr th {\n",
       "        vertical-align: top;\n",
       "    }\n",
       "\n",
       "    .dataframe thead th {\n",
       "        text-align: right;\n",
       "    }\n",
       "</style>\n",
       "<table border=\"1\" class=\"dataframe\">\n",
       "  <tbody>\n",
       "    <tr>\n",
       "      <th>null_distribution</th>\n",
       "      <td>chi squared</td>\n",
       "    </tr>\n",
       "    <tr>\n",
       "      <th>degrees_of_freedom</th>\n",
       "      <td>1</td>\n",
       "    </tr>\n",
       "    <tr>\n",
       "      <th>model</th>\n",
       "      <td>&lt;lifelines.CoxPHFitter: fitted with 1087 total...</td>\n",
       "    </tr>\n",
       "    <tr>\n",
       "      <th>test_name</th>\n",
       "      <td>proportional_hazard_test</td>\n",
       "    </tr>\n",
       "  </tbody>\n",
       "</table>\n",
       "</div><table border=\"1\" class=\"dataframe\">\n",
       "  <thead>\n",
       "    <tr style=\"text-align: right;\">\n",
       "      <th></th>\n",
       "      <th></th>\n",
       "      <th>test_statistic</th>\n",
       "      <th>p</th>\n",
       "      <th>-log2(p)</th>\n",
       "    </tr>\n",
       "  </thead>\n",
       "  <tbody>\n",
       "    <tr>\n",
       "      <th rowspan=\"2\" valign=\"top\">Cluster</th>\n",
       "      <th>km</th>\n",
       "      <td>0.74</td>\n",
       "      <td>0.39</td>\n",
       "      <td>1.36</td>\n",
       "    </tr>\n",
       "    <tr>\n",
       "      <th>rank</th>\n",
       "      <td>0.65</td>\n",
       "      <td>0.42</td>\n",
       "      <td>1.25</td>\n",
       "    </tr>\n",
       "  </tbody>\n",
       "</table>"
      ],
      "text/latex": [
       "\\begin{tabular}{llrrr}\n",
       "\\toprule\n",
       "        &      &  test\\_statistic &         p &  -log2(p) \\\\\n",
       "\\midrule\n",
       "Cluster & km &        0.738803 &  0.390045 &  1.358289 \\\\\n",
       "        & rank &        0.649204 &  0.420397 &  1.250174 \\\\\n",
       "\\bottomrule\n",
       "\\end{tabular}\n"
      ],
      "text/plain": [
       "<lifelines.StatisticalResult: proportional_hazard_test>\n",
       " null_distribution = chi squared\n",
       "degrees_of_freedom = 1\n",
       "             model = <lifelines.CoxPHFitter: fitted with 1087 total observations, 840 right-censored observations>\n",
       "         test_name = proportional_hazard_test\n",
       "\n",
       "---\n",
       "              test_statistic    p  -log2(p)\n",
       "Cluster km              0.74 0.39      1.36\n",
       "        rank            0.65 0.42      1.25"
      ]
     },
     "metadata": {},
     "output_type": "display_data"
    },
    {
     "name": "stdout",
     "output_type": "stream",
     "text": [
      "\n",
      "\n",
      "1. Variable 'Cluster' failed the non-proportional test: p-value is 0.3900.\n",
      "\n",
      "   Advice: with so few unique values (only 4), you can include `strata=['Cluster', ...]` in the call\n",
      "in `.fit`. See documentation in link [E] below.\n",
      "\n",
      "   Bootstrapping lowess lines. May take a moment...\n",
      "\n",
      "\n",
      "---\n",
      "[A]  https://lifelines.readthedocs.io/en/latest/jupyter_notebooks/Proportional%20hazard%20assumption.html\n",
      "[B]  https://lifelines.readthedocs.io/en/latest/jupyter_notebooks/Proportional%20hazard%20assumption.html#Bin-variable-and-stratify-on-it\n",
      "[C]  https://lifelines.readthedocs.io/en/latest/jupyter_notebooks/Proportional%20hazard%20assumption.html#Introduce-time-varying-covariates\n",
      "[D]  https://lifelines.readthedocs.io/en/latest/jupyter_notebooks/Proportional%20hazard%20assumption.html#Modify-the-functional-form\n",
      "[E]  https://lifelines.readthedocs.io/en/latest/jupyter_notebooks/Proportional%20hazard%20assumption.html#Stratification\n",
      "\n"
     ]
    },
    {
     "data": {
      "text/plain": [
       "[[<AxesSubplot:xlabel='rank-transformed time\\n(p=0.4204)'>,\n",
       "  <AxesSubplot:xlabel='km-transformed time\\n(p=0.3900)'>]]"
      ]
     },
     "execution_count": 14,
     "metadata": {},
     "output_type": "execute_result"
    },
    {
     "data": {
      "image/png": "[encoded data removed]",
      "text/plain": [
       "<Figure size 432x288 with 2 Axes>"
      ]
     },
     "metadata": {
      "needs_background": "light"
     },
     "output_type": "display_data"
    }
   ],
   "source": [
    "FOLLOWUP=365\n",
    "cph = CoxPHFitter()\n",
    "# ((df_response['time']<FOLLOWUP))\n",
    "cph.fit(df_response[['time', 'event_1y', 'Cluster']], duration_col='time', event_col='event_1y')\n",
    "cph.check_assumptions(df_response[['time', 'event_1y', 'Cluster']],  p_value_threshold=0.99, show_plots=True)"
   ]
  },
  {
   "cell_type": "markdown",
   "id": "e6da13a1",
   "metadata": {},
   "source": [
    "## #7.6 Check baseline characteristics of aCCP substratification\n",
    "\n",
    "### #7.6.1 import data"
   ]
  },
  {
   "cell_type": "code",
   "execution_count": 18,
   "id": "adf43a26",
   "metadata": {},
   "outputs": [],
   "source": [
    "import pandas as pd\n",
    "\n",
    "# Import data \n",
    "df_response = pd.read_csv('/exports/reum/tdmaarseveen/RA_Clustering/new_data/7_final/SummaryResponseTable_MMAE3.csv', sep=';')\n",
    "\n",
    "# Import all cluster variables\n",
    "df_cluster = pd.read_csv('/exports/reum/tdmaarseveen/RA_Clustering/new_data/7_final/MMAE_clustering_270_Stability.csv') \n",
    "\n",
    "# select on mtx starters\n",
    "df_response = df_response[df_response['MTX-starter']==True]\n",
    "\n",
    "# select from cluster data on overlap with mtx starters\n",
    "df_cluster = df_cluster[df_cluster['pseudoId'].isin(df_response['patnr'])]\n",
    "\n",
    "# Get follow up\n",
    "df_treat_new = pd.read_csv(r'../filters/RA_patients_AllNP_Characteristics_symptomDur.csv', sep='|')\n",
    "\n",
    "if 'totalFollowUp' not in df_cluster.columns:\n",
    "    # Get pseudoId\n",
    "    df_cluster = pd.merge(df_cluster, df_treat_new[['pseudoId', 'totalFollowUp']], left_on='pseudoId', right_on='pseudoId', how='left') "
   ]
  },
  {
   "cell_type": "markdown",
   "id": "d315fd2c",
   "metadata": {},
   "source": [
    "### #7.6.2 Preload baseline generation functions"
   ]
  },
  {
   "cell_type": "code",
   "execution_count": 19,
   "id": "f28e7ec0",
   "metadata": {},
   "outputs": [],
   "source": [
    "import numpy as np \n",
    "\n",
    "def IQR(data):\n",
    "    # First quartile (Q1)\n",
    "    if len(data) > 0:\n",
    "        Q1 = np.percentile(data, 25, interpolation = 'midpoint')\n",
    "\n",
    "        # Third quartile (Q3)\n",
    "        Q3 = np.percentile(data, 75, interpolation = 'midpoint')\n",
    "\n",
    "        # Interquaritle range (IQR)\n",
    "        iqr = Q3 - Q1\n",
    "        return [Q1, Q3]\n",
    "    else :\n",
    "        return [0, 0]\n",
    "\n",
    "def summary(lbl, df):\n",
    "    \"\"\"\n",
    "    Calculate summary details of the provided dropped out patients\n",
    "    \n",
    "    - DAS\n",
    "    - FollowUp\n",
    "    - Symptom duration\n",
    "    - MTX\n",
    "    \"\"\"\n",
    "    #print('aCCP')\n",
    "    n = len(df)\n",
    "    pat = len(set(df['pseudoId'].str[:9]))\n",
    "    #print(df.columns)\n",
    "    #print(df['RF'].unique())\n",
    "    rf = '%.0f (%.1f)' % (len(df[df['RF']==1]), (len(df[df['RF']==1])/len(df[df['RF']!=2]))*100)\n",
    "    rf_neg = '%.0f (%.1f)' % (len(df[df['RF']==0]), (len(df[df['RF']==0]) /len(df[df['RF']!=2]))*100)\n",
    "    rf_na = '%.0f (%.1f)' % (len(df[df['RF']==2]), (len(df[df['RF']==2])/len(df))*100)\n",
    "    accp = '%.0f (%.1f)' % (len(df[df['aCCP']==1]), (len(df[df['aCCP']==1])/len(df[df['aCCP']!=2]))*100)\n",
    "    accp_neg = '%.0f (%.1f)' % (len(df[df['aCCP']==0]), (len(df[df['aCCP']==0]) /len(df[df['aCCP']!=2]))*100)\n",
    "    accp_na = '%.0f (%.1f)' % (len(df[df['aCCP']==2]), (len(df[df['aCCP']==2])/len(df))*100)\n",
    "    sex = '%.0f (%.1f)' % (np.sum(df['Sex']), np.mean(df['Sex']) * 100)\n",
    "    esr = '%.0f (%0.f-%0.f)' % (np.median(df[~df['BSE'].isna()]['BSE']), IQR(df[~df['BSE'].isna()]['BSE'])[0], IQR(df[~df['BSE'].isna()]['BSE'])[1])\n",
    "    esr_na = '%.1f (%.1f)' % (len(df[df['BSE'].isna()]), (len(df[df['BSE'].isna()])/ len(df))*100)\n",
    "    age = '%.1f (%.1f)' % (np.mean(df['Age']), np.std(df['Age']))\n",
    "    sjc = '%.0f (%0.f-%0.f)' % (np.median(df['SJC']), IQR(df['SJC'])[0], IQR(df['SJC'])[1])\n",
    "    no_sjc = '%.1f (%.1f)' % (len(df[df['SJC']==0]['SJC']), (len(df[df['SJC']==0])/ len(df))*100)\n",
    "    tjc = '%.0f (%0.f-%0.f)' % (np.median(df['TJC']), IQR(df['TJC'])[0], IQR(df['TJC'])[1])\n",
    "    no_tjc = '%.1f (%.1f)' % (len(df[df['TJC']==0]['TJC']), (len(df[df['TJC']==0])/ len(df))*100)\n",
    "    das28 = '%.1f (%.1f-%1.1f)' % (np.median(df[~df['DAS28(3)'].isna()]['DAS28(3)']), IQR(df[~df['DAS28(3)'].isna()]['DAS28(3)'])[0], IQR(df[~df['DAS28(3)'].isna()]['DAS28(3)'])[1])\n",
    "    das28_na = '%.1f (%.1f)' % (len(df[df['DAS28(3)'].isna()]['DAS28(3)']), (len(df[df['DAS28(3)'].isna()])/ len(df))*100)\n",
    "    das44 = '%.1f (%.1f-%.1f)' % (np.median(df[~df['DAS44'].isna()]['DAS44']), IQR(df[~df['DAS44'].isna()]['DAS44'])[0], IQR(df[~df['DAS44'].isna()]['DAS44'])[1])\n",
    "    das44_na = '%.1f (%.1f)' % (len(df[df['DAS44'].isna()]['DAS44']), (len(df[df['DAS44'].isna()])/ len(df))*100)\n",
    "    #proba = '%.3f (%1.f-%1.f)' % (np.median(df['prediction']), IQR(df['prediction'])[0], IQR(df['prediction'])[1])\n",
    "    #mtp = '%.0f (%0.f-%0.f)' % (np.median(df['MTP-count']), IQR(df['MTP-count'])[0], IQR(df['MTP-count'])[1])\n",
    "    if 'symptomDuration' in df.columns: \n",
    "        symp = '%.0f (%0.f-%0.f)' % (np.median(df[~df['symptomDuration'].isna()]['symptomDuration']), IQR(df[~df['symptomDuration'].isna()]['symptomDuration'])[0], IQR(df[~df['symptomDuration'].isna()]['symptomDuration'])[1])\n",
    "        symp_na ='%.0f (%0.f)' % (len(df[df['symptomDuration'].isna()]), (len(df[df['symptomDuration'].isna()])/ len(df))*100)\n",
    "    else :\n",
    "        symp = np.nan\n",
    "        symp_na = np.nan\n",
    "    if 'totalFollowUp' in df.columns:\n",
    "        fu = '%.f (%0.f-%0.f)' % (np.median(df[~df['totalFollowUp'].isna()]['totalFollowUp']), IQR(df[~df['totalFollowUp'].isna()]['totalFollowUp'])[0], IQR(df[~df['totalFollowUp'].isna()]['totalFollowUp'])[1])\n",
    "    else :\n",
    "        fu = np.nan\n",
    "        # DAS28(3)\n",
    "    return [lbl, n, pat, sex, rf, rf_neg, rf_na, accp, accp_neg, accp_na, esr, esr_na, age, sjc, no_sjc, tjc, no_tjc, das28, das28_na, das44, das44_na, 1, symp, symp_na, fu]\n",
    "   "
   ]
  },
  {
   "cell_type": "markdown",
   "id": "08a1ec0a",
   "metadata": {},
   "source": [
    "### #7.6.3. Show overview for all clusters\n",
    "\n",
    "#### Cluster 1 "
   ]
  },
  {
   "cell_type": "code",
   "execution_count": 20,
   "id": "31f4fb86",
   "metadata": {},
   "outputs": [
    {
     "data": {
      "text/html": [
       "<div>\n",
       "<style scoped>\n",
       "    .dataframe tbody tr th:only-of-type {\n",
       "        vertical-align: middle;\n",
       "    }\n",
       "\n",
       "    .dataframe tbody tr th {\n",
       "        vertical-align: top;\n",
       "    }\n",
       "\n",
       "    .dataframe thead th {\n",
       "        text-align: right;\n",
       "    }\n",
       "</style>\n",
       "<table border=\"1\" class=\"dataframe\">\n",
       "  <thead>\n",
       "    <tr style=\"text-align: right;\">\n",
       "      <th>id</th>\n",
       "      <th>C1 aCCP+</th>\n",
       "      <th>C1 aCCP-</th>\n",
       "    </tr>\n",
       "  </thead>\n",
       "  <tbody>\n",
       "    <tr>\n",
       "      <th>N</th>\n",
       "      <td>211</td>\n",
       "      <td>143</td>\n",
       "    </tr>\n",
       "    <tr>\n",
       "      <th>Pat</th>\n",
       "      <td>209</td>\n",
       "      <td>140</td>\n",
       "    </tr>\n",
       "    <tr>\n",
       "      <th>Sex [n(%)]</th>\n",
       "      <td>135 (64.0)</td>\n",
       "      <td>89 (62.2)</td>\n",
       "    </tr>\n",
       "    <tr>\n",
       "      <th>RF+ [n(%)]</th>\n",
       "      <td>184 (87.2)</td>\n",
       "      <td>33 (23.1)</td>\n",
       "    </tr>\n",
       "    <tr>\n",
       "      <th>ESR (median+-IQR, mm/hr)</th>\n",
       "      <td>22 (11-36)</td>\n",
       "      <td>22 (9-37)</td>\n",
       "    </tr>\n",
       "    <tr>\n",
       "      <th>Age (mean+-SD, yr)</th>\n",
       "      <td>56.8 (12.1)</td>\n",
       "      <td>58.2 (15.3)</td>\n",
       "    </tr>\n",
       "    <tr>\n",
       "      <th>SJC (median+-IQR)</th>\n",
       "      <td>8 (5-11)</td>\n",
       "      <td>9 (6-12)</td>\n",
       "    </tr>\n",
       "    <tr>\n",
       "      <th>TJC (median+-IQR)</th>\n",
       "      <td>11 (9-15)</td>\n",
       "      <td>12 (8-16)</td>\n",
       "    </tr>\n",
       "    <tr>\n",
       "      <th>DAS28(3) (median+-IQR)</th>\n",
       "      <td>5.3 (4.6-6.0)</td>\n",
       "      <td>5.4 (4.5-6.1)</td>\n",
       "    </tr>\n",
       "    <tr>\n",
       "      <th>DAS44 (median+-IQR)</th>\n",
       "      <td>3.6 (3.0-4.0)</td>\n",
       "      <td>3.6 (3.1-4.1)</td>\n",
       "    </tr>\n",
       "    <tr>\n",
       "      <th>Symptom duration</th>\n",
       "      <td>186 (62-400)</td>\n",
       "      <td>93 (30-210)</td>\n",
       "    </tr>\n",
       "    <tr>\n",
       "      <th>Follow-up</th>\n",
       "      <td>1958 (896-2881)</td>\n",
       "      <td>1071 (421-1894)</td>\n",
       "    </tr>\n",
       "  </tbody>\n",
       "</table>\n",
       "</div>"
      ],
      "text/plain": [
       "id                               C1 aCCP+         C1 aCCP-\n",
       "N                                     211              143\n",
       "Pat                                   209              140\n",
       "Sex [n(%)]                     135 (64.0)        89 (62.2)\n",
       "RF+ [n(%)]                     184 (87.2)        33 (23.1)\n",
       "ESR (median+-IQR, mm/hr)       22 (11-36)        22 (9-37)\n",
       "Age (mean+-SD, yr)            56.8 (12.1)      58.2 (15.3)\n",
       "SJC (median+-IQR)                8 (5-11)         9 (6-12)\n",
       "TJC (median+-IQR)               11 (9-15)        12 (8-16)\n",
       "DAS28(3) (median+-IQR)      5.3 (4.6-6.0)    5.4 (4.5-6.1)\n",
       "DAS44 (median+-IQR)         3.6 (3.0-4.0)    3.6 (3.1-4.1)\n",
       "Symptom duration             186 (62-400)      93 (30-210)\n",
       "Follow-up                 1958 (896-2881)  1071 (421-1894)"
      ]
     },
     "execution_count": 20,
     "metadata": {},
     "output_type": "execute_result"
    }
   ],
   "source": [
    "l_col = ['id', 'N', 'Pat', 'Sex [n(%)]', 'RF+ [n(%)]', 'ESR (median+-IQR, mm/hr)', 'Age (mean+-SD, yr)', 'SJC (median+-IQR)', 'TJC (median+-IQR)',  'DAS28(3) (median+-IQR)',  'DAS44 (median+-IQR)', 'Symptom duration', 'Follow-up']\n",
    "df_baseline = pd.DataFrame(columns=['id', 'N', 'Pat', 'Sex [n(%)]', 'RF+ [n(%)]', 'RF- [n(%)]', 'RF_NA [n(%)]', 'aCCP+ [n(%)]', 'aCCP- [n(%)]', 'aCCP_NA [n(%)]', 'ESR (median+-IQR, mm/hr)', 'ESR_NA [n(%)]', 'Age (mean+-SD, yr)', 'SJC (median+-IQR)', 'NO_Swollen[n(%)]', 'TJC (median+-IQR)', 'NO_Tender [n(%)]', 'DAS28(3) (median+-IQR)', 'DAS28(3)_NA [n(%)]', 'DAS44 (median+-IQR)', 'DAS44_NA [n(%)]', 'probability', 'Symptom duration', 'Symptom duration NA [n(%)]', 'Follow-up'])\n",
    "df_baseline.loc[len(df_baseline)] = summary('C1 aCCP+', df_cluster[((df_cluster['PhenoGraph_clusters']==0) & (df_cluster['aCCP']==1))])\n",
    "df_baseline.loc[len(df_baseline)] = summary('C1 aCCP-', df_cluster[((df_cluster['PhenoGraph_clusters']==0) & (df_cluster['aCCP']==0))])\n",
    "df_baseline = df_baseline[l_col]\n",
    "df_baseline = df_baseline.set_index('id')\n",
    "df_baseline.T"
   ]
  },
  {
   "cell_type": "markdown",
   "id": "d69c8d4c",
   "metadata": {},
   "source": [
    "#### Cluster 2"
   ]
  },
  {
   "cell_type": "code",
   "execution_count": 21,
   "id": "6584bd56",
   "metadata": {},
   "outputs": [
    {
     "data": {
      "text/html": [
       "<div>\n",
       "<style scoped>\n",
       "    .dataframe tbody tr th:only-of-type {\n",
       "        vertical-align: middle;\n",
       "    }\n",
       "\n",
       "    .dataframe tbody tr th {\n",
       "        vertical-align: top;\n",
       "    }\n",
       "\n",
       "    .dataframe thead th {\n",
       "        text-align: right;\n",
       "    }\n",
       "</style>\n",
       "<table border=\"1\" class=\"dataframe\">\n",
       "  <thead>\n",
       "    <tr style=\"text-align: right;\">\n",
       "      <th>id</th>\n",
       "      <th>C2 aCCP+</th>\n",
       "      <th>C2 aCCP-</th>\n",
       "    </tr>\n",
       "  </thead>\n",
       "  <tbody>\n",
       "    <tr>\n",
       "      <th>N</th>\n",
       "      <td>175</td>\n",
       "      <td>100</td>\n",
       "    </tr>\n",
       "    <tr>\n",
       "      <th>Pat</th>\n",
       "      <td>174</td>\n",
       "      <td>99</td>\n",
       "    </tr>\n",
       "    <tr>\n",
       "      <th>Sex [n(%)]</th>\n",
       "      <td>129 (73.7)</td>\n",
       "      <td>66 (66.0)</td>\n",
       "    </tr>\n",
       "    <tr>\n",
       "      <th>RF+ [n(%)]</th>\n",
       "      <td>157 (89.7)</td>\n",
       "      <td>27 (27.0)</td>\n",
       "    </tr>\n",
       "    <tr>\n",
       "      <th>ESR (median+-IQR, mm/hr)</th>\n",
       "      <td>31 (17-46)</td>\n",
       "      <td>22 (11-39)</td>\n",
       "    </tr>\n",
       "    <tr>\n",
       "      <th>Age (mean+-SD, yr)</th>\n",
       "      <td>58.5 (14.4)</td>\n",
       "      <td>59.4 (14.0)</td>\n",
       "    </tr>\n",
       "    <tr>\n",
       "      <th>SJC (median+-IQR)</th>\n",
       "      <td>3 (1-4)</td>\n",
       "      <td>3 (1-4)</td>\n",
       "    </tr>\n",
       "    <tr>\n",
       "      <th>TJC (median+-IQR)</th>\n",
       "      <td>3 (1-5)</td>\n",
       "      <td>4 (2-6)</td>\n",
       "    </tr>\n",
       "    <tr>\n",
       "      <th>DAS28(3) (median+-IQR)</th>\n",
       "      <td>4.3 (3.5-4.8)</td>\n",
       "      <td>4.1 (3.4-4.7)</td>\n",
       "    </tr>\n",
       "    <tr>\n",
       "      <th>DAS44 (median+-IQR)</th>\n",
       "      <td>2.5 (2.0-2.8)</td>\n",
       "      <td>2.5 (2.0-2.8)</td>\n",
       "    </tr>\n",
       "    <tr>\n",
       "      <th>Symptom duration</th>\n",
       "      <td>217 (85-704)</td>\n",
       "      <td>186 (42-710)</td>\n",
       "    </tr>\n",
       "    <tr>\n",
       "      <th>Follow-up</th>\n",
       "      <td>1790 (874-2541)</td>\n",
       "      <td>1045 (271-1927)</td>\n",
       "    </tr>\n",
       "  </tbody>\n",
       "</table>\n",
       "</div>"
      ],
      "text/plain": [
       "id                               C2 aCCP+         C2 aCCP-\n",
       "N                                     175              100\n",
       "Pat                                   174               99\n",
       "Sex [n(%)]                     129 (73.7)        66 (66.0)\n",
       "RF+ [n(%)]                     157 (89.7)        27 (27.0)\n",
       "ESR (median+-IQR, mm/hr)       31 (17-46)       22 (11-39)\n",
       "Age (mean+-SD, yr)            58.5 (14.4)      59.4 (14.0)\n",
       "SJC (median+-IQR)                 3 (1-4)          3 (1-4)\n",
       "TJC (median+-IQR)                 3 (1-5)          4 (2-6)\n",
       "DAS28(3) (median+-IQR)      4.3 (3.5-4.8)    4.1 (3.4-4.7)\n",
       "DAS44 (median+-IQR)         2.5 (2.0-2.8)    2.5 (2.0-2.8)\n",
       "Symptom duration             217 (85-704)     186 (42-710)\n",
       "Follow-up                 1790 (874-2541)  1045 (271-1927)"
      ]
     },
     "execution_count": 21,
     "metadata": {},
     "output_type": "execute_result"
    }
   ],
   "source": [
    "l_col = ['id', 'N', 'Pat', 'Sex [n(%)]', 'RF+ [n(%)]', 'ESR (median+-IQR, mm/hr)', 'Age (mean+-SD, yr)', 'SJC (median+-IQR)', 'TJC (median+-IQR)',  'DAS28(3) (median+-IQR)',  'DAS44 (median+-IQR)', 'Symptom duration', 'Follow-up']\n",
    "df_baseline = pd.DataFrame(columns=['id', 'N', 'Pat', 'Sex [n(%)]', 'RF+ [n(%)]', 'RF- [n(%)]', 'RF_NA [n(%)]', 'aCCP+ [n(%)]', 'aCCP- [n(%)]', 'aCCP_NA [n(%)]', 'ESR (median+-IQR, mm/hr)', 'ESR_NA [n(%)]', 'Age (mean+-SD, yr)', 'SJC (median+-IQR)', 'NO_Swollen[n(%)]', 'TJC (median+-IQR)', 'NO_Tender [n(%)]', 'DAS28(3) (median+-IQR)', 'DAS28(3)_NA [n(%)]', 'DAS44 (median+-IQR)', 'DAS44_NA [n(%)]', 'probability', 'Symptom duration', 'Symptom duration NA [n(%)]', 'Follow-up'])\n",
    "df_baseline.loc[len(df_baseline)] = summary('C2 aCCP+', df_cluster[((df_cluster['PhenoGraph_clusters']==1) & (df_cluster['aCCP']==1))])\n",
    "df_baseline.loc[len(df_baseline)] = summary('C2 aCCP-', df_cluster[((df_cluster['PhenoGraph_clusters']==1) & (df_cluster['aCCP']==0))])\n",
    "df_baseline = df_baseline[l_col]\n",
    "df_baseline = df_baseline.set_index('id')\n",
    "df_baseline.T"
   ]
  },
  {
   "cell_type": "markdown",
   "id": "ec4eaf12",
   "metadata": {},
   "source": [
    "#### Cluster 3 "
   ]
  },
  {
   "cell_type": "code",
   "execution_count": 22,
   "id": "77393366",
   "metadata": {},
   "outputs": [
    {
     "data": {
      "text/html": [
       "<div>\n",
       "<style scoped>\n",
       "    .dataframe tbody tr th:only-of-type {\n",
       "        vertical-align: middle;\n",
       "    }\n",
       "\n",
       "    .dataframe tbody tr th {\n",
       "        vertical-align: top;\n",
       "    }\n",
       "\n",
       "    .dataframe thead th {\n",
       "        text-align: right;\n",
       "    }\n",
       "</style>\n",
       "<table border=\"1\" class=\"dataframe\">\n",
       "  <thead>\n",
       "    <tr style=\"text-align: right;\">\n",
       "      <th>id</th>\n",
       "      <th>C3 aCCP+</th>\n",
       "      <th>C3 aCCP-</th>\n",
       "    </tr>\n",
       "  </thead>\n",
       "  <tbody>\n",
       "    <tr>\n",
       "      <th>N</th>\n",
       "      <td>84</td>\n",
       "      <td>156</td>\n",
       "    </tr>\n",
       "    <tr>\n",
       "      <th>Pat</th>\n",
       "      <td>83</td>\n",
       "      <td>154</td>\n",
       "    </tr>\n",
       "    <tr>\n",
       "      <th>Sex [n(%)]</th>\n",
       "      <td>52 (61.9)</td>\n",
       "      <td>97 (62.2)</td>\n",
       "    </tr>\n",
       "    <tr>\n",
       "      <th>RF+ [n(%)]</th>\n",
       "      <td>71 (84.5)</td>\n",
       "      <td>29 (18.6)</td>\n",
       "    </tr>\n",
       "    <tr>\n",
       "      <th>ESR (median+-IQR, mm/hr)</th>\n",
       "      <td>30 (18-56)</td>\n",
       "      <td>29 (14-48)</td>\n",
       "    </tr>\n",
       "    <tr>\n",
       "      <th>Age (mean+-SD, yr)</th>\n",
       "      <td>67.4 (13.1)</td>\n",
       "      <td>67.4 (11.6)</td>\n",
       "    </tr>\n",
       "    <tr>\n",
       "      <th>SJC (median+-IQR)</th>\n",
       "      <td>9 (6-14)</td>\n",
       "      <td>10 (7-15)</td>\n",
       "    </tr>\n",
       "    <tr>\n",
       "      <th>TJC (median+-IQR)</th>\n",
       "      <td>10 (7-14)</td>\n",
       "      <td>12 (8-16)</td>\n",
       "    </tr>\n",
       "    <tr>\n",
       "      <th>DAS28(3) (median+-IQR)</th>\n",
       "      <td>5.4 (4.9-6.4)</td>\n",
       "      <td>5.7 (5.0-6.3)</td>\n",
       "    </tr>\n",
       "    <tr>\n",
       "      <th>DAS44 (median+-IQR)</th>\n",
       "      <td>3.5 (3.1-4.4)</td>\n",
       "      <td>3.9 (3.3-4.3)</td>\n",
       "    </tr>\n",
       "    <tr>\n",
       "      <th>Symptom duration</th>\n",
       "      <td>183 (62-1095)</td>\n",
       "      <td>93 (41-232)</td>\n",
       "    </tr>\n",
       "    <tr>\n",
       "      <th>Follow-up</th>\n",
       "      <td>1512 (970-2178)</td>\n",
       "      <td>1067 (423-2012)</td>\n",
       "    </tr>\n",
       "  </tbody>\n",
       "</table>\n",
       "</div>"
      ],
      "text/plain": [
       "id                               C3 aCCP+         C3 aCCP-\n",
       "N                                      84              156\n",
       "Pat                                    83              154\n",
       "Sex [n(%)]                      52 (61.9)        97 (62.2)\n",
       "RF+ [n(%)]                      71 (84.5)        29 (18.6)\n",
       "ESR (median+-IQR, mm/hr)       30 (18-56)       29 (14-48)\n",
       "Age (mean+-SD, yr)            67.4 (13.1)      67.4 (11.6)\n",
       "SJC (median+-IQR)                9 (6-14)        10 (7-15)\n",
       "TJC (median+-IQR)               10 (7-14)        12 (8-16)\n",
       "DAS28(3) (median+-IQR)      5.4 (4.9-6.4)    5.7 (5.0-6.3)\n",
       "DAS44 (median+-IQR)         3.5 (3.1-4.4)    3.9 (3.3-4.3)\n",
       "Symptom duration            183 (62-1095)      93 (41-232)\n",
       "Follow-up                 1512 (970-2178)  1067 (423-2012)"
      ]
     },
     "execution_count": 22,
     "metadata": {},
     "output_type": "execute_result"
    }
   ],
   "source": [
    "l_col = ['id', 'N', 'Pat', 'Sex [n(%)]', 'RF+ [n(%)]', 'ESR (median+-IQR, mm/hr)', 'Age (mean+-SD, yr)', 'SJC (median+-IQR)', 'TJC (median+-IQR)',  'DAS28(3) (median+-IQR)',  'DAS44 (median+-IQR)', 'Symptom duration', 'Follow-up']\n",
    "df_baseline = pd.DataFrame(columns=['id', 'N', 'Pat', 'Sex [n(%)]', 'RF+ [n(%)]', 'RF- [n(%)]', 'RF_NA [n(%)]', 'aCCP+ [n(%)]', 'aCCP- [n(%)]', 'aCCP_NA [n(%)]', 'ESR (median+-IQR, mm/hr)', 'ESR_NA [n(%)]', 'Age (mean+-SD, yr)', 'SJC (median+-IQR)', 'NO_Swollen[n(%)]', 'TJC (median+-IQR)', 'NO_Tender [n(%)]', 'DAS28(3) (median+-IQR)', 'DAS28(3)_NA [n(%)]', 'DAS44 (median+-IQR)', 'DAS44_NA [n(%)]', 'probability', 'Symptom duration', 'Symptom duration NA [n(%)]', 'Follow-up'])\n",
    "df_baseline.loc[len(df_baseline)] = summary('C3 aCCP+', df_cluster[((df_cluster['PhenoGraph_clusters']==2) & (df_cluster['aCCP']==1))])\n",
    "df_baseline.loc[len(df_baseline)] = summary('C3 aCCP-', df_cluster[((df_cluster['PhenoGraph_clusters']==2) & (df_cluster['aCCP']==0))])\n",
    "df_baseline = df_baseline[l_col]\n",
    "df_baseline = df_baseline.set_index('id')\n",
    "df_baseline.T"
   ]
  },
  {
   "cell_type": "markdown",
   "id": "9e5ab2d0",
   "metadata": {},
   "source": [
    "#### Cluster 4"
   ]
  },
  {
   "cell_type": "code",
   "execution_count": 23,
   "id": "189916f6",
   "metadata": {},
   "outputs": [
    {
     "data": {
      "text/html": [
       "<div>\n",
       "<style scoped>\n",
       "    .dataframe tbody tr th:only-of-type {\n",
       "        vertical-align: middle;\n",
       "    }\n",
       "\n",
       "    .dataframe tbody tr th {\n",
       "        vertical-align: top;\n",
       "    }\n",
       "\n",
       "    .dataframe thead th {\n",
       "        text-align: right;\n",
       "    }\n",
       "</style>\n",
       "<table border=\"1\" class=\"dataframe\">\n",
       "  <thead>\n",
       "    <tr style=\"text-align: right;\">\n",
       "      <th>id</th>\n",
       "      <th>C4 aCCP+</th>\n",
       "      <th>C4 aCCP-</th>\n",
       "    </tr>\n",
       "  </thead>\n",
       "  <tbody>\n",
       "    <tr>\n",
       "      <th>N</th>\n",
       "      <td>93</td>\n",
       "      <td>125</td>\n",
       "    </tr>\n",
       "    <tr>\n",
       "      <th>Pat</th>\n",
       "      <td>92</td>\n",
       "      <td>122</td>\n",
       "    </tr>\n",
       "    <tr>\n",
       "      <th>Sex [n(%)]</th>\n",
       "      <td>53 (57.0)</td>\n",
       "      <td>77 (61.6)</td>\n",
       "    </tr>\n",
       "    <tr>\n",
       "      <th>RF+ [n(%)]</th>\n",
       "      <td>75 (80.6)</td>\n",
       "      <td>18 (14.4)</td>\n",
       "    </tr>\n",
       "    <tr>\n",
       "      <th>ESR (median+-IQR, mm/hr)</th>\n",
       "      <td>28 (9-41)</td>\n",
       "      <td>19 (9-41)</td>\n",
       "    </tr>\n",
       "    <tr>\n",
       "      <th>Age (mean+-SD, yr)</th>\n",
       "      <td>54.2 (14.0)</td>\n",
       "      <td>56.6 (15.2)</td>\n",
       "    </tr>\n",
       "    <tr>\n",
       "      <th>SJC (median+-IQR)</th>\n",
       "      <td>14 (10-21)</td>\n",
       "      <td>15 (9-22)</td>\n",
       "    </tr>\n",
       "    <tr>\n",
       "      <th>TJC (median+-IQR)</th>\n",
       "      <td>22 (17-29)</td>\n",
       "      <td>25 (18-33)</td>\n",
       "    </tr>\n",
       "    <tr>\n",
       "      <th>DAS28(3) (median+-IQR)</th>\n",
       "      <td>6.6 (5.6-7.5)</td>\n",
       "      <td>6.7 (5.6-7.3)</td>\n",
       "    </tr>\n",
       "    <tr>\n",
       "      <th>DAS44 (median+-IQR)</th>\n",
       "      <td>4.8 (4.0-5.7)</td>\n",
       "      <td>4.7 (4.1-5.5)</td>\n",
       "    </tr>\n",
       "    <tr>\n",
       "      <th>Symptom duration</th>\n",
       "      <td>144 (49-359)</td>\n",
       "      <td>154 (59-365)</td>\n",
       "    </tr>\n",
       "    <tr>\n",
       "      <th>Follow-up</th>\n",
       "      <td>2091 (1139-2933)</td>\n",
       "      <td>1511 (720-2543)</td>\n",
       "    </tr>\n",
       "  </tbody>\n",
       "</table>\n",
       "</div>"
      ],
      "text/plain": [
       "id                                C4 aCCP+         C4 aCCP-\n",
       "N                                       93              125\n",
       "Pat                                     92              122\n",
       "Sex [n(%)]                       53 (57.0)        77 (61.6)\n",
       "RF+ [n(%)]                       75 (80.6)        18 (14.4)\n",
       "ESR (median+-IQR, mm/hr)         28 (9-41)        19 (9-41)\n",
       "Age (mean+-SD, yr)             54.2 (14.0)      56.6 (15.2)\n",
       "SJC (median+-IQR)               14 (10-21)        15 (9-22)\n",
       "TJC (median+-IQR)               22 (17-29)       25 (18-33)\n",
       "DAS28(3) (median+-IQR)       6.6 (5.6-7.5)    6.7 (5.6-7.3)\n",
       "DAS44 (median+-IQR)          4.8 (4.0-5.7)    4.7 (4.1-5.5)\n",
       "Symptom duration              144 (49-359)     154 (59-365)\n",
       "Follow-up                 2091 (1139-2933)  1511 (720-2543)"
      ]
     },
     "execution_count": 23,
     "metadata": {},
     "output_type": "execute_result"
    }
   ],
   "source": [
    "l_col = ['id', 'N', 'Pat', 'Sex [n(%)]', 'RF+ [n(%)]', 'ESR (median+-IQR, mm/hr)', 'Age (mean+-SD, yr)', 'SJC (median+-IQR)', 'TJC (median+-IQR)',  'DAS28(3) (median+-IQR)',  'DAS44 (median+-IQR)', 'Symptom duration', 'Follow-up']\n",
    "df_baseline = pd.DataFrame(columns=['id', 'N', 'Pat', 'Sex [n(%)]', 'RF+ [n(%)]', 'RF- [n(%)]', 'RF_NA [n(%)]', 'aCCP+ [n(%)]', 'aCCP- [n(%)]', 'aCCP_NA [n(%)]', 'ESR (median+-IQR, mm/hr)', 'ESR_NA [n(%)]', 'Age (mean+-SD, yr)', 'SJC (median+-IQR)', 'NO_Swollen[n(%)]', 'TJC (median+-IQR)', 'NO_Tender [n(%)]', 'DAS28(3) (median+-IQR)', 'DAS28(3)_NA [n(%)]', 'DAS44 (median+-IQR)', 'DAS44_NA [n(%)]', 'probability', 'Symptom duration', 'Symptom duration NA [n(%)]', 'Follow-up'])\n",
    "df_baseline.loc[len(df_baseline)] = summary('C4 aCCP+', df_cluster[((df_cluster['PhenoGraph_clusters']==3) & (df_cluster['aCCP']==1))])\n",
    "df_baseline.loc[len(df_baseline)] = summary('C4 aCCP-', df_cluster[((df_cluster['PhenoGraph_clusters']==3) & (df_cluster['aCCP']==0))])\n",
    "df_baseline = df_baseline[l_col]\n",
    "df_baseline = df_baseline.set_index('id')\n",
    "df_baseline.T"
   ]
  },
  {
   "cell_type": "markdown",
   "id": "8f81a39d",
   "metadata": {},
   "source": [
    "## #7.7 Check if our clusters are better than random"
   ]
  },
  {
   "cell_type": "code",
   "execution_count": null,
   "id": "7cfdcce5",
   "metadata": {
    "scrolled": true
   },
   "outputs": [],
   "source": [
    "from lifelines import CoxPHFitter\n",
    "import itertools\n",
    "import warnings\n",
    "\n",
    "l_p = []\n",
    "\n",
    "np.random.seed(1234)\n",
    "\n",
    "FOLLOWUP = 365\n",
    "EVENT = 'event_1y'\n",
    "N_CLUSTERS = 4\n",
    "print('Follow up :', FOLLOWUP)\n",
    "print('Alpha (after Bonferroni):', round(0.05/len(list(itertools.combinations(range(1,N_CLUSTERS+1), 2))), 5 ))\n",
    "\n",
    "for i in range(1000): \n",
    "    df_response['Cluster_rand'] = np.random.choice(4, len(df_response))\n",
    "    df_response['Cluster_rand'] = df_response['Cluster_rand'] + 1\n",
    "    # create dummy variables\n",
    "    just_dummies = pd.get_dummies(df_response['Cluster_rand'])\n",
    "\n",
    "    df_sub = pd.concat([df_response, just_dummies], axis=1)   \n",
    "    df_sub = df_sub.rename(columns={1: 'Cluster_rand1', 2: 'Cluster_rand2', 3: 'Cluster_rand3', 4: 'Cluster_rand4'})\n",
    "    smallest_p_val = 1\n",
    "    for x in itertools.combinations(range(1,N_CLUSTERS+1), 2) :\n",
    "        #print()\n",
    "        l_cluster = [x[0], x[1]]\n",
    "        cph = CoxPHFitter()\n",
    "        #print(l_cluster)\n",
    "        with warnings.catch_warnings():\n",
    "            # ignore all caught warnings\n",
    "            warnings.filterwarnings(\"ignore\")\n",
    "            cph.fit(df_sub[(df_sub['Cluster_rand'].isin(l_cluster))][['time', EVENT, 'Cluster_rand%s' % (l_cluster[0])]], duration_col='time', event_col=EVENT)\n",
    "\n",
    "        p_val = cph.summary['p'].values[0]\n",
    "        effect = cph.summary['exp(coef)'].values[0]\n",
    "        ci_lower = cph.summary['exp(coef) lower 95%'].values[0]\n",
    "        ci_upper = cph.summary['exp(coef) upper 95%'].values[0]\n",
    "        \n",
    "        if p_val < smallest_p_val:\n",
    "            smallest_p_val = p_val \n",
    "    l_p.append(smallest_p_val)"
   ]
  },
  {
   "cell_type": "code",
   "execution_count": 41,
   "id": "89881aee",
   "metadata": {},
   "outputs": [
    {
     "data": {
      "text/plain": [
       "0.0003273892130913681"
      ]
     },
     "execution_count": 41,
     "metadata": {},
     "output_type": "execute_result"
    }
   ],
   "source": [
    "min(l_p)"
   ]
  },
  {
   "cell_type": "code",
   "execution_count": 42,
   "id": "00c99d0a",
   "metadata": {},
   "outputs": [
    {
     "name": "stderr",
     "output_type": "stream",
     "text": [
      "/exports/reum/tdmaarseveen/convae_architecture/envs/lib/python3.8/site-packages/seaborn/distributions.py:2557: FutureWarning: `distplot` is a deprecated function and will be removed in a future version. Please adapt your code to use either `displot` (a figure-level function with similar flexibility) or `histplot` (an axes-level function for histograms).\n",
      "  warnings.warn(msg, FutureWarning)\n"
     ]
    },
    {
     "data": {
      "text/plain": [
       "<AxesSubplot:>"
      ]
     },
     "execution_count": 42,
     "metadata": {},
     "output_type": "execute_result"
    },
    {
     "data": {
      "image/png": "[encoded data removed]",
      "text/plain": [
       "<Figure size 600x400 with 1 Axes>"
      ]
     },
     "metadata": {
      "needs_background": "light"
     },
     "output_type": "display_data"
    }
   ],
   "source": [
    "import seaborn as sns\n",
    "\n",
    "\n",
    "f = plt.figure(figsize=(6,4), dpi=100)\n",
    "# only one line may be specified; full height\n",
    "plt.axvline(x = np.log10(0.0004813965), color = 'b', label = 'axvline - full height')\n",
    "\n",
    "sns.distplot(np.log10(l_p), kde=False, hist=True,  bins=20, label='Random')"
   ]
  },
  {
   "cell_type": "markdown",
   "id": "acf165d0",
   "metadata": {},
   "source": [
    "#### There is only 1 random clustering that shows a stronger assocation with the outcome \n",
    "That is actually a good sign : 1 / 1000 = 0.1% "
   ]
  },
  {
   "cell_type": "code",
   "execution_count": 62,
   "id": "2f7ce058",
   "metadata": {},
   "outputs": [
    {
     "data": {
      "text/plain": [
       "array([0.00032739])"
      ]
     },
     "execution_count": 62,
     "metadata": {},
     "output_type": "execute_result"
    }
   ],
   "source": [
    "np.array(l_p)[np.array(l_p) < 0.0004813965]"
   ]
  },
  {
   "cell_type": "code",
   "execution_count": 26,
   "id": "328f95f4",
   "metadata": {},
   "outputs": [
    {
     "data": {
      "text/plain": [
       "0.0004813965"
      ]
     },
     "execution_count": 26,
     "metadata": {},
     "output_type": "execute_result"
    }
   ],
   "source": [
    "f = plt.figure(figsize=(6,4), dpi=100)\n",
    "# only one line may be specified; full height\n",
    "plt.axvline(x = 0.0004813965, color = 'b', label = 'axvline - full height')\n",
    "\n",
    "sns.distplot(l_p, kde=False, hist=True,  bins=10, label='Random')"
   ]
  },
  {
   "cell_type": "markdown",
   "id": "1162451b",
   "metadata": {},
   "source": [
    "## #7.8 Survival analysis with remission\n",
    "Note: only for those overlapping with EAC "
   ]
  },
  {
   "cell_type": "code",
   "execution_count": null,
   "id": "525fb3d9",
   "metadata": {
    "scrolled": false
   },
   "outputs": [],
   "source": [
    "import pandas as pd\n",
    "# Link EAC to MMAE table\n",
    "df_eac_link = pd.read_csv('/exports/reum/tdmaarseveen/RA_Clustering/keys/EAC_keys_2023.csv', sep=';')\n",
    "df_response = pd.read_csv('/exports/reum/tdmaarseveen/RA_Clustering/new_data/7_final/SummaryResponseTable_MMAE3.csv', sep=';') # SummaryResponseTable_maui_4 SummaryResponseTable2= MOFA,\n",
    "df_response['Cluster'] = df_response['Cluster'] + 1\n",
    "\n",
    "d_keys_eac = dict(zip(df_eac_link['patnr'], df_eac_link['EACNUMM']))\n",
    "df_response['PATNR'] = df_response['patnr'].str[:9]\n",
    "df_response['PATNR'] = df_response['PATNR'].astype(int)\n",
    "df_response['EACNUMM'] = df_response['PATNR'].apply(lambda x : d_keys_eac[x])\n",
    "\n",
    "# Apply Analysis file\n",
    "df_eac= pd.read_spss('../new_data/8_replication/Analysefile_201808.sav')\n",
    "df_eac['DAT1EBEZ'] = pd.to_datetime(df_eac['DAT1EBEZ'], format='%Y-%m-%d')\n",
    "\n",
    "# Define columns of interest\n",
    "l_col_remission = ['EACNUMM', 'geslacht', 'remissie', 'DAT1EBEZ', 'Visitestoppen']\n",
    "l_col_remission.extend([col for col in df_eac.columns if '.bezdat' in col])\n",
    "l_col_remission.extend([col for col in df_eac.columns if '.DAS44' in col] )\n",
    "\n",
    "df_remission = df_response.merge(df_eac[l_col_remission], on='EACNUMM', how='left')\n",
    "\n",
    "# create dummy variables\n",
    "just_dummies = pd.get_dummies(df_response['Cluster'])\n",
    "df_response = pd.concat([df_response, just_dummies], axis=1)   \n",
    "df_response = df_response.rename(columns={1: 'Cluster1', 2: 'Cluster2', 3: 'Cluster3', 4: 'Cluster4', 5: 'Cluster5', 6: 'Cluster6'})\n",
    "\n",
    "\n",
    "\n",
    "df_eac[l_col_remission]"
   ]
  },
  {
   "cell_type": "code",
   "execution_count": 12,
   "id": "595bb44e",
   "metadata": {},
   "outputs": [
    {
     "data": {
      "text/plain": [
       "Text(0.5, 1.0, 'EAC-ids Development set (HIX)')"
      ]
     },
     "execution_count": 12,
     "metadata": {},
     "output_type": "execute_result"
    },
    {
     "data": {
      "image/png": "[encoded data removed]",
      "text/plain": [
       "<Figure size 432x288 with 1 Axes>"
      ]
     },
     "metadata": {
      "needs_background": "light"
     },
     "output_type": "display_data"
    }
   ],
   "source": [
    "plt  =df_response['EACNUMM'].hist()\n",
    "plt.set_title('EAC-ids Development set (HIX)')"
   ]
  },
  {
   "cell_type": "markdown",
   "id": "bd0de813",
   "metadata": {},
   "source": [
    "### #7.8.1 Process data of EAC subset in Set A"
   ]
  },
  {
   "cell_type": "code",
   "execution_count": 13,
   "id": "15f20e52",
   "metadata": {},
   "outputs": [],
   "source": [
    "# look for the max values in each row\n",
    "import math\n",
    "l_col_das = [col for col in df_eac.columns if '.DAS44' in col]\n",
    "\n",
    "# Get date of first mannequin\n",
    "df_initial = pd.read_csv('/exports/reum/tdmaarseveen/RA_Clustering/new_data/5_clustering/df_metadata.csv')#['pseudoId']\n",
    "df_initial['firstMannequin'] = pd.to_datetime(df_initial['firstMannequin'], format='%Y-%m-%d')\n",
    "d_firstMan = dict(zip(df_initial['pseudoId'], df_initial['firstMannequin']))\n",
    "\n",
    "rms = df_remission[l_col_das].lt(1.6, axis=1)\n",
    "df_remission['Remission'] = rms.dot(rms.columns + ', ').str.split(',')\n",
    "df_remission['first_Remission'] = df_remission['Remission'].apply(lambda x : x[0])\n",
    "df_remission['firstMannequin'] = df_remission['pseudoId'].apply(lambda x : d_firstMan[x])\n",
    "df_remission['Visitestoppen'] = df_remission['Visitestoppen'].replace(99,float('nan'))\n",
    "df_remission['lastVisit'] = df_remission.apply(lambda x : x['rn%s.bezdat' % (int(x['Visitestoppen']))] if math.isnan(x['Visitestoppen']) == False else np.nan, axis=1)\n",
    "\n",
    "# Calculate nr of days (follow up and time to reach remission)\n",
    "df_remission['time_Rem'] = df_remission.apply(lambda x : x['%s.bezdat' % (x['first_Remission'].split('.')[0])] if x['first_Remission'] != '' else np.nan, axis=1)\n",
    "df_remission['time_Rem'] = pd.to_datetime(df_remission['time_Rem'], format='%Y-%m-%d')\n",
    "df_remission['lastVisit'] = pd.to_datetime(df_remission['lastVisit'], format='%Y-%m-%d')\n",
    "df_remission['calc_followUp'] = df_remission['lastVisit'] -  df_remission['firstMannequin'] \n",
    "df_remission['time_till_Rem'] = df_remission['time_Rem'] -  df_remission['firstMannequin'] \n",
    "\n",
    "df_remission['calc_followUp'] = df_remission['calc_followUp'].dt.days \n",
    "df_remission['time_till_Rem'] = df_remission['time_till_Rem'].dt.days\n",
    "\n",
    "# Get followup from response as default!\n",
    "d_firstFU = dict(zip(df_response['pseudoId'], df_response['totalFollowUp']))\n",
    "d_firstFU\n",
    "\n",
    "df_remission['followUp'] = df_remission['pseudoId'].apply(lambda x : d_firstFU[x])\n",
    "\n",
    "# Fill any missing follow up -> with the calculated one or the time till Remission.\n",
    "df_remission['followUp'] = df_remission['followUp'].fillna(df_remission['calc_followUp']) \n",
    "df_remission['followUp'] = df_remission['followUp'].fillna(df_remission['FollowUp']) \n",
    "df_remission['followUp'] = df_remission['followUp'].fillna(df_remission['time_till_Rem'])\n",
    "\n",
    "df_remission['event_Rem'] = (~ df_remission['time_till_Rem'].isna()).astype(int)\n",
    "df_remission['event_1y_Rem'] = (df_remission['time_till_Rem'] < 366).astype(int)\n",
    "df_remission['time_till_Rem']= df_remission['time_till_Rem'].fillna(df_remission['followUp']) \n",
    "df_remission['time_till_Rem']= df_remission['time_till_Rem'].fillna(df_remission['FollowUp'])\n",
    "df_subEAC = df_remission[~df_remission['EACNUMM'].isna()].copy()\n",
    "\n",
    "# create dummy variables\n",
    "just_dummies = pd.get_dummies(df_subEAC['Cluster'])\n",
    "\n",
    "df_subEAC = pd.concat([df_subEAC, just_dummies], axis=1)   \n",
    "df_subEAC = df_subEAC.rename(columns={1: 'Cluster1', 2: 'Cluster2', 3: 'Cluster3', 4: 'Cluster4', 5: 'Cluster5', 6: 'Cluster6'})\n",
    "\n",
    "# export survival data\n",
    "df_subEAC[['pseudoId', 'time_till_Rem', 'event_1y_Rem', 'event_Rem', 'Cluster',  'Cluster1', 'Cluster2', 'Cluster3', 'Cluster4', 'Age', 'Sex']].to_csv('/exports/reum/tdmaarseveen/RA_Clustering/new_data/5_clustering/df_survivaldata_mmae_Remission.csv')\n",
    "\n",
    "# export for prediction model\n",
    "df_subEAC['patnr'] = df_subEAC['pseudoId'].str[:9]\n",
    "df_subEAC[['patnr', 'pseudoId', 'time_till_Rem', 'event_Rem', 'event_1y_Rem','totalFollowUp', 'MTX-starter', 'Cluster', 'Cluster1', 'Cluster2', 'Cluster3', 'Cluster4', 'Age', 'Sex', 'aCCP', 'RF', 'DAS44', 'DAS28', 'SJC', 'TJC', 'BSE','Treatment','FinalTreatment']].to_csv('/exports/reum/tdmaarseveen/RA_Clustering/new_data/offshoots/df_ehr_REMISSION.csv', sep='|', index=False)"
   ]
  },
  {
   "cell_type": "code",
   "execution_count": 14,
   "id": "b89f59cb",
   "metadata": {},
   "outputs": [],
   "source": [
    "df_subEAC['patnr'] = df_subEAC['pseudoId'].str[:9]\n",
    "df_subEAC[['patnr', 'pseudoId', 'time_till_Rem', 'event_Rem', 'event_1y_Rem','totalFollowUp', 'MTX-starter', 'Cluster', 'Cluster1', 'Cluster2', 'Cluster3', 'Cluster4', 'Age', 'Sex', 'aCCP', 'RF', 'DAS44', 'DAS28', 'SJC', 'TJC', 'BSE','Treatment','FinalTreatment']].to_csv('/exports/reum/tdmaarseveen/RA_Clustering/new_data/offshoots/df_ehr_REMISSION.csv', sep='|', index=False)"
   ]
  },
  {
   "cell_type": "markdown",
   "id": "bc078c64",
   "metadata": {},
   "source": [
    "### #7.8.2 Check for bias\n",
    "\n",
    "#### Check if rates of missingness are similar across clusters (otherwise results might be confouded)"
   ]
  },
  {
   "cell_type": "code",
   "execution_count": null,
   "id": "c34c25e1",
   "metadata": {},
   "outputs": [],
   "source": [
    "import matplotlib.pyplot as plt\n",
    "grouped = df_subEAC.groupby('Cluster')[['rn1.DAS44', 'rn2.DAS44', 'rn3.DAS44', 'rn4.DAS44']]\n",
    "\n",
    "nan_prevalence = grouped.apply(lambda x: x.isna().mean())\n",
    "\n",
    "# Transpose the DataFrame to have columns as groups and rows as columns\n",
    "nan_prevalence = nan_prevalence.T\n",
    "\n",
    "# Plot the line plot\n",
    "nan_prevalence.plot(kind='line', marker='o')\n",
    "\n",
    "# Set plot title and axes labels\n",
    "plt.title('Prevalence of NaN Values Over Time')\n",
    "plt.xlabel('Columns')\n",
    "plt.xticks(rotation=90)\n",
    "plt.ylabel('Prevalence of NaN')\n",
    "\n",
    "# Show the plot\n",
    "plt.show()"
   ]
  },
  {
   "cell_type": "markdown",
   "id": "6aa3be1f",
   "metadata": {},
   "source": [
    "### #7.8.3 Draw kaplan meier curves for remission"
   ]
  },
  {
   "cell_type": "code",
   "execution_count": 32,
   "id": "c0d81619",
   "metadata": {},
   "outputs": [
    {
     "name": "stdout",
     "output_type": "stream",
     "text": [
      "4045.0\n",
      "Patients that stay with treatment in cluster 1: 0.590 123\n",
      "3792.0\n",
      "Patients that stay with treatment in cluster 2: 0.544 67\n",
      "4045.0\n",
      "Patients that stay with treatment in cluster 3: 0.477 79\n",
      "3976.0\n",
      "Patients that stay with treatment in cluster 4: 0.661 119\n"
     ]
    },
    {
     "data": {
      "image/png": "[encoded data removed]",
      "text/plain": [
       "<Figure size 612x612 with 1 Axes>"
      ]
     },
     "metadata": {
      "needs_background": "light"
     },
     "output_type": "display_data"
    }
   ],
   "source": [
    "import matplotlib.pyplot as plt\n",
    "from lifelines import KaplanMeierFitter\n",
    "import matplotlib \n",
    "matplotlib.rc('xtick', labelsize=20) \n",
    "matplotlib.rc('ytick', labelsize=20) \n",
    "ax = plt.subplot(111)\n",
    "\n",
    "df_subEAC2 = df_subEAC.copy()\n",
    "\n",
    "FOLLOWUP= 365 #365+62#365+365+365#365+62#365+365 # 365+62 #365+62 3150 3150\n",
    "\n",
    "pal_colorblind = ['#4F6CCF', '#2db9cc', '#fcba03', '#FA4D4D',   \"#7a4da4\", \"#a67c73\", \"#FF0000FF\", \"#CCFF00FF\", \"#49BA2B\", \"#0066FFFF\", \"#CC00FFFF\", '#FF9595'];\n",
    "\n",
    "kmf = KaplanMeierFitter() # , timeline=range(1, FOLLOWUP, 1)\n",
    "\n",
    "fig = plt.gcf()\n",
    "fig.set_size_inches(8.5, 8.5)\n",
    "ix = 0\n",
    "\n",
    "for name, grouped_df in df_subEAC2.groupby('Cluster'):\n",
    "    kmf.fit(grouped_df[\"time_till_Rem\"], grouped_df[\"event_Rem\"], label=name, timeline=range(0, FOLLOWUP, 1)) # , timeline=range(0, 365+62, 1)\n",
    "    kmf.plot_survival_function(ax=ax, color=pal_colorblind[ix])\n",
    "    print(grouped_df[\"time_till_Rem\"].max())\n",
    "\n",
    "    ax.set_xlabel('Time (days)')\n",
    "    ax.set_ylabel('Without remission (%)')\n",
    "\n",
    "    df = kmf.event_table.copy()\n",
    "    df = df.reset_index()\n",
    "    \n",
    "    # calculate final patients that stay with baseline by hand (positive control)\n",
    "    #final = (len(df_response[((df_response['event']==True) & (df_response['Cluster']==name) & (df_response['time']>FOLLOWUP))]) + len(df_response[((df_response['event']==False) & (df_response['Cluster']==name))]))/len(df_response[((df_response['Cluster']==name))])\n",
    "    #print('Patients that stay with treatment in cluster %s: %.2f' % (name, final), len(df_response[((df_response['Cluster']==name) & (df_response['time']<FOLLOWUP))]))\n",
    "    print('Patients that stay with treatment in cluster %s: %.3f' % (name,kmf.survival_function_.iloc[-1].values[0]), round(kmf.survival_function_.iloc[-1].values[0]*len(df_subEAC2[((df_subEAC2['time_till_Rem']>=0) & (df_subEAC2['Cluster']==name) )]))) # (df_response['time']>=0) &\n",
    "    ix +=1 \n",
    "    "
   ]
  },
  {
   "cell_type": "markdown",
   "id": "5a8f9386",
   "metadata": {},
   "source": [
    "#### #7.8.3.2 Substratify on aCCP"
   ]
  },
  {
   "cell_type": "code",
   "execution_count": 7,
   "id": "9ea9a2ad",
   "metadata": {},
   "outputs": [
    {
     "name": "stdout",
     "output_type": "stream",
     "text": [
      "3976.0\n",
      "Patients that stay with treatment in cluster 0.0: 0.546 0\n",
      "4045.0\n",
      "Patients that stay with treatment in cluster 1.0: 0.606 126\n"
     ]
    },
    {
     "data": {
      "image/png": "[encoded data removed]",
      "text/plain": [
       "<Figure size 612x612 with 1 Axes>"
      ]
     },
     "metadata": {
      "needs_background": "light"
     },
     "output_type": "display_data"
    }
   ],
   "source": [
    "import matplotlib.pyplot as plt\n",
    "from lifelines import KaplanMeierFitter\n",
    "import matplotlib \n",
    "matplotlib.rc('xtick', labelsize=20) \n",
    "matplotlib.rc('ytick', labelsize=20) \n",
    "ax = plt.subplot(111)\n",
    "\n",
    "\n",
    "FOLLOWUP= 365 \n",
    "\n",
    "kmf = KaplanMeierFitter() \n",
    "\n",
    "fig = plt.gcf()\n",
    "fig.set_size_inches(8.5, 8.5)\n",
    "\n",
    "for name, grouped_df in df_subEAC.groupby('aCCP'):\n",
    "    kmf.fit(grouped_df[\"time_till_Rem\"], grouped_df[\"event_Rem\"], label=name, timeline=range(0, FOLLOWUP, 1)) # , timeline=range(0, 365+62, 1)\n",
    "    kmf.plot_survival_function(ax=ax)\n",
    "    print(grouped_df[\"time_till_Rem\"].max())\n",
    "\n",
    "    ax.set_xlabel('Time (days)')\n",
    "    ax.set_ylabel('Without remission (%)')\n",
    "\n",
    "    df = kmf.event_table.copy()\n",
    "    df = df.reset_index()\n",
    "    \n",
    "    # calculate final patients that stay with baseline by hand (positive control)\n",
    "    print('Patients that stay with treatment in cluster %s: %.3f' % (name,kmf.survival_function_.iloc[-1].values[0]), round(kmf.survival_function_.iloc[-1].values[0]*len(df_subEAC[((df_subEAC['time_till_Rem']>=0) & (df_subEAC['Cluster']==name) )]))) # (df_response['time']>=0) &\n"
   ]
  },
  {
   "cell_type": "code",
   "execution_count": 33,
   "id": "3c66e0c9",
   "metadata": {},
   "outputs": [
    {
     "name": "stdout",
     "output_type": "stream",
     "text": [
      "3161.0\n",
      "Patients that stay with treatment in cluster (1, 0.0): 0.561 0\n",
      "No of patients: 97\n",
      "4045.0\n",
      "Patients that stay with treatment in cluster (1, 1.0): 0.613 0\n",
      "No of patients: 130\n",
      "3664.0\n",
      "Patients that stay with treatment in cluster (2, 0.0): 0.497 0\n",
      "No of patients: 60\n",
      "3792.0\n",
      "Patients that stay with treatment in cluster (2, 1.0): 0.578 0\n",
      "No of patients: 79\n",
      "3941.0\n",
      "Patients that stay with treatment in cluster (3, 0.0): 0.440 0\n",
      "No of patients: 129\n",
      "4045.0\n",
      "Patients that stay with treatment in cluster (3, 1.0): 0.591 0\n",
      "No of patients: 42\n",
      "3976.0\n",
      "Patients that stay with treatment in cluster (4, 0.0): 0.685 0\n",
      "No of patients: 107\n",
      "3930.0\n",
      "Patients that stay with treatment in cluster (4, 1.0): 0.630 0\n",
      "No of patients: 81\n"
     ]
    },
    {
     "data": {
      "text/plain": [
       "<matplotlib.legend.Legend at 0x7f4e81aba910>"
      ]
     },
     "execution_count": 33,
     "metadata": {},
     "output_type": "execute_result"
    },
    {
     "data": {
      "image/png": "[encoded data removed]",
      "text/plain": [
       "<Figure size 612x612 with 1 Axes>"
      ]
     },
     "metadata": {
      "needs_background": "light"
     },
     "output_type": "display_data"
    }
   ],
   "source": [
    "import matplotlib.pyplot as plt\n",
    "from lifelines import KaplanMeierFitter\n",
    "import matplotlib \n",
    "import seaborn as sns\n",
    "matplotlib.rc('xtick', labelsize=20) \n",
    "matplotlib.rc('ytick', labelsize=20) \n",
    "ax = plt.subplot(111)\n",
    "\n",
    "\n",
    "#df_response = df_response[df_response['MTX-starter']==True] # Subset on MTX-starters\n",
    "\n",
    "FOLLOWUP= 365 #365+62#365+365+365#365+62#365+365 # 365+62 #365+62 3150 3150\n",
    "\n",
    "kmf = KaplanMeierFitter() # , timeline=range(1, FOLLOWUP, 1)\n",
    "\n",
    "fig = plt.gcf()\n",
    "fig.set_size_inches(8.5, 8.5)\n",
    "\n",
    "\n",
    "#palette = list(sns.color_palette(\"Paired\").as_hex())\n",
    "l_pal = ['#77b4d4', '#1f78b4', '#f7aa45', '#ff7f00', '#79bd3c',  '#33a02c', '#f07271', '#e31a1c']\n",
    "\n",
    "\n",
    "\n",
    "i = 0\n",
    "for name, grouped_df in df_subEAC.groupby(['Cluster', 'aCCP']):\n",
    "    kmf.fit(grouped_df[\"time_till_Rem\"], grouped_df[\"event_Rem\"], label=name, timeline=range(0, FOLLOWUP, 1)) # , timeline=range(0, 365+62, 1)\n",
    "    \n",
    "    if i % 2 == 0:\n",
    "        linestyle='dashed' \n",
    "    else :\n",
    "        linestyle='solid'\n",
    "    \n",
    "    kmf.plot_survival_function(ax=ax, color = l_pal[i], ci_show=False, linestyle=linestyle) # \n",
    "    print(grouped_df[\"time_till_Rem\"].max())\n",
    "   \n",
    "\n",
    "    ax.set_xlabel('Time (days)')\n",
    "    ax.set_ylabel('Without remission (%)')\n",
    "\n",
    "    df = kmf.event_table.copy()\n",
    "    df = df.reset_index()\n",
    "    \n",
    "    # calculate final patients that stay with baseline by hand (positive control)\n",
    "    print('Patients that stay with treatment in cluster %s: %.3f' % (name,kmf.survival_function_.iloc[-1].values[0]), round(kmf.survival_function_.iloc[-1].values[0]*len(df_subEAC[((df_subEAC['time_till_Rem']>=0) & (df_subEAC['Cluster']==name) )]))) # (df_response['time']>=0) &\n",
    "    print('No of patients:', len(grouped_df))\n",
    "    i += 1\n",
    "    \n",
    "# call method plt.legend\n",
    "plt.legend(['C1 aCCP-', 'C1 aCCP+', 'C2 aCCP-', 'C2 aCCP+', 'C3 aCCP-', 'C3 aCCP+', 'C4 aCCP-', 'C4 aCCP+'])"
   ]
  },
  {
   "cell_type": "markdown",
   "id": "a6826ddd",
   "metadata": {},
   "source": [
    "#### #7.8.3.3 Create cumulative incidence plot"
   ]
  },
  {
   "cell_type": "code",
   "execution_count": 12,
   "id": "47358c1e",
   "metadata": {},
   "outputs": [
    {
     "name": "stdout",
     "output_type": "stream",
     "text": [
      "4045.0\n",
      "3792.0\n",
      "4045.0\n",
      "3976.0\n"
     ]
    },
    {
     "data": {
      "image/png": "[encoded data removed]",
      "text/plain": [
       "<Figure size 612x612 with 1 Axes>"
      ]
     },
     "metadata": {
      "needs_background": "light"
     },
     "output_type": "display_data"
    }
   ],
   "source": [
    "import matplotlib.pyplot as plt\n",
    "from lifelines import NelsonAalenFitter \n",
    "import matplotlib \n",
    "matplotlib.rc('xtick', labelsize=20) \n",
    "matplotlib.rc('ytick', labelsize=20) \n",
    "ax = plt.subplot(111)\n",
    "\n",
    "\n",
    "#df_response = df_response[df_response['MTX-starter']==True] # Subset on MTX-starters\n",
    "\n",
    "FOLLOWUP= 365 #365+62#365+365+365#365+62#365+365 # 365+62 #365+62 3150 3150\n",
    "\n",
    "kmf = NelsonAalenFitter() # , timeline=range(1, FOLLOWUP, 1)\n",
    "\n",
    "fig = plt.gcf()\n",
    "fig.set_size_inches(8.5, 8.5)\n",
    "\n",
    "for name, grouped_df in df_subEAC.groupby('Cluster'):\n",
    "    kmf.fit(grouped_df[\"time_till_Rem\"], grouped_df[\"event_Rem\"], label=name, timeline=range(0, FOLLOWUP, 1)) # , timeline=range(0, 365+62, 1)\n",
    "    kmf.plot_cumulative_hazard(ax=ax, legend=None)\n",
    "    print(grouped_df[\"time_till_Rem\"].max())\n",
    "\n",
    "    ax.set_xlabel('Time (days)')\n",
    "    ax.set_ylabel('Probability to reach remission (%)')\n",
    "\n",
    "    df = kmf.event_table.copy()\n",
    "    df = df.reset_index()\n",
    "    \n",
    "    # calculate final patients that stay with baseline by hand (positive control)\n",
    "    #final = (len(df_response[((df_response['event']==True) & (df_response['Cluster']==name) & (df_response['time']>FOLLOWUP))]) + len(df_response[((df_response['event']==False) & (df_response['Cluster']==name))]))/len(df_response[((df_response['Cluster']==name))])\n",
    "    #print('Patients that stay with treatment in cluster %s: %.2f' % (name, final), len(df_response[((df_response['Cluster']==name) & (df_response['time']<FOLLOWUP))]))\n",
    "    #print('Patients that stay with treatment in cluster %s: %.3f' % (name,kmf.survival_function_.iloc[-1].values[0]), round(kmf.survival_function_.iloc[-1].values[0]*len(df_subEAC[((df_subEAC['time_till_Rem']>=0) & (df_subEAC['Cluster']==name) )]))) # (df_response['time']>=0) &\n"
   ]
  },
  {
   "cell_type": "code",
   "execution_count": 37,
   "id": "d48cbf4d",
   "metadata": {},
   "outputs": [
    {
     "data": {
      "image/png": "[encoded data removed]",
      "text/plain": [
       "<Figure size 432x288 with 1 Axes>"
      ]
     },
     "metadata": {
      "needs_background": "light"
     },
     "output_type": "display_data"
    }
   ],
   "source": [
    "from collections import Counter\n",
    "import matplotlib.pyplot as plt\n",
    "ax = plt.subplot(111)\n",
    "\n",
    "kmf = KaplanMeierFitter()\n",
    "\n",
    "for name, grouped_df in df_subEAC.groupby('Cluster'):\n",
    "    kmf.fit(grouped_df[grouped_df[\"time_till_Rem\"]>0][\"time_till_Rem\"], grouped_df[grouped_df[\"time_till_Rem\"]>0][\"event_Rem\"], label=name) # , timeline=range(0, 3000, 1) timeline=range(0, 3000)\n",
    "    #print(Counter(grouped_df[\"time\"]))\n",
    "    kmf.plot_survival_function(ax=ax)\n",
    "    ax.set_xlabel('Time (days)')\n",
    "    ax.set_ylabel('Treatment switch probability (%)')"
   ]
  },
  {
   "cell_type": "code",
   "execution_count": 33,
   "id": "b8aa44ab",
   "metadata": {},
   "outputs": [
    {
     "name": "stdout",
     "output_type": "stream",
     "text": [
      "Follow up : 365\n",
      "Alpha (after Bonferroni): 0.00833\n",
      "Clusters 1-2 : HR:0.86 (0.62-1.18) p-val=0.350619778 \n",
      "Clusters 1-3 : HR:0.77 (0.57-1.03) p-val=0.0774608379 \n",
      "Clusters 1-4 : HR:1.32 (0.96-1.82) p-val=0.0888048476 \n",
      "Clusters 2-3 : HR:0.89 (0.64-1.24) p-val=0.4954634063 \n",
      "Clusters 2-4 : HR:1.54 (1.08-2.18) p-val=0.0164774379 \n",
      "Clusters 3-4 : HR:1.76 (1.27-2.44) p-val=0.0006487222 \n"
     ]
    },
    {
     "name": "stderr",
     "output_type": "stream",
     "text": [
      "/exports/reum/tdmaarseveen/convae_architecture/envs/lib/python3.8/site-packages/lifelines/utils/__init__.py:984: FutureWarning: iteritems is deprecated and will be removed in a future version. Use .items instead.\n",
      "  nonnumeric_cols = [col for (col, dtype) in df.dtypes.iteritems() if dtype.name == \"category\" or dtype.kind not in \"biuf\"]\n",
      "/exports/reum/tdmaarseveen/convae_architecture/envs/lib/python3.8/site-packages/lifelines/utils/__init__.py:984: FutureWarning: iteritems is deprecated and will be removed in a future version. Use .items instead.\n",
      "  nonnumeric_cols = [col for (col, dtype) in df.dtypes.iteritems() if dtype.name == \"category\" or dtype.kind not in \"biuf\"]\n",
      "/exports/reum/tdmaarseveen/convae_architecture/envs/lib/python3.8/site-packages/lifelines/utils/__init__.py:984: FutureWarning: iteritems is deprecated and will be removed in a future version. Use .items instead.\n",
      "  nonnumeric_cols = [col for (col, dtype) in df.dtypes.iteritems() if dtype.name == \"category\" or dtype.kind not in \"biuf\"]\n",
      "/exports/reum/tdmaarseveen/convae_architecture/envs/lib/python3.8/site-packages/lifelines/utils/__init__.py:984: FutureWarning: iteritems is deprecated and will be removed in a future version. Use .items instead.\n",
      "  nonnumeric_cols = [col for (col, dtype) in df.dtypes.iteritems() if dtype.name == \"category\" or dtype.kind not in \"biuf\"]\n",
      "/exports/reum/tdmaarseveen/convae_architecture/envs/lib/python3.8/site-packages/lifelines/utils/__init__.py:984: FutureWarning: iteritems is deprecated and will be removed in a future version. Use .items instead.\n",
      "  nonnumeric_cols = [col for (col, dtype) in df.dtypes.iteritems() if dtype.name == \"category\" or dtype.kind not in \"biuf\"]\n",
      "/exports/reum/tdmaarseveen/convae_architecture/envs/lib/python3.8/site-packages/lifelines/utils/__init__.py:984: FutureWarning: iteritems is deprecated and will be removed in a future version. Use .items instead.\n",
      "  nonnumeric_cols = [col for (col, dtype) in df.dtypes.iteritems() if dtype.name == \"category\" or dtype.kind not in \"biuf\"]\n"
     ]
    }
   ],
   "source": [
    "from lifelines import CoxPHFitter\n",
    "import itertools\n",
    "\n",
    "FOLLOWUP = 365\n",
    "EVENT = 'event_1y_Rem'\n",
    "N_CLUSTERS = 4\n",
    "print('Follow up :', FOLLOWUP)\n",
    "print('Alpha (after Bonferroni):', round(0.05/len(list(itertools.combinations(range(1,N_CLUSTERS+1), 2))), 5 ))\n",
    "\n",
    "i = 1\n",
    "for x in itertools.combinations(range(1,N_CLUSTERS+1), 2) :\n",
    "    #print()\n",
    "    l_cluster = [x[0], x[1]]\n",
    "    cph = CoxPHFitter()\n",
    "    #print(l_cluster)\n",
    "    #print(df_response[((df_response['time']<FOLLOWUP) & (df_response['time']>=0) & (df_response['Cluster'].isin(l_cluster)))])\n",
    "    cph.fit(df_subEAC[(df_subEAC['Cluster'].isin(l_cluster))][['time_till_Rem', EVENT, 'Cluster%s' % (l_cluster[0])]], duration_col='time_till_Rem', event_col=EVENT)\n",
    "\n",
    "    p_val = cph.summary['p'].values[0]\n",
    "    #print(p_val)\n",
    "    effect = cph.summary['exp(coef)'].values[0]\n",
    "    ci_lower = cph.summary['exp(coef) lower 95%'].values[0]\n",
    "    ci_upper = cph.summary['exp(coef) upper 95%'].values[0]\n",
    "    \n",
    "    p_val = p_val #/ len(list(itertools.combinations(range(1,7), 2))) # Conservative Bonferroni Multiple testing correction\n",
    "    print('Clusters %s-%s : HR:%s (%s-%s) p-val=%s ' % (x[0], x[1], round(effect,2), round(ci_lower,2), round(ci_upper,2), round(p_val,10)))\n",
    "    i = i + 1 "
   ]
  },
  {
   "cell_type": "markdown",
   "id": "242b5eeb",
   "metadata": {},
   "source": [
    "## Sensitivity analysis (see notebook 5. step 5.8)\n",
    "####  select only most extreme patients to see if association with treatmetn response is stronger"
   ]
  },
  {
   "cell_type": "code",
   "execution_count": null,
   "id": "e826144a",
   "metadata": {},
   "outputs": [],
   "source": [
    "# Only select most extreme???\n",
    "df_cutoff = pd.read_csv('../new_data/7_final/MMAE_clustering_270_percCutoff.csv', index_col=0)\n",
    "d_cutoff = dict(zip(df_cutoff['pseudoId'], df_cutoff['Thresh_50%']))\n",
    "df_response['Thresh_50%'] = df_response['pseudoId'].apply(lambda x : d_cutoff[x])\n",
    "df_response"
   ]
  },
  {
   "cell_type": "code",
   "execution_count": null,
   "id": "124f329f",
   "metadata": {},
   "outputs": [],
   "source": []
  }
 ],
 "metadata": {
  "kernelspec": {
   "display_name": "Python (tf_env)",
   "language": "python",
   "name": "tf_env"
  },
  "language_info": {
   "codemirror_mode": {
    "name": "ipython",
    "version": 3
   },
   "file_extension": ".py",
   "mimetype": "text/x-python",
   "name": "python",
   "nbconvert_exporter": "python",
   "pygments_lexer": "ipython3",
   "version": "3.8.10"
  }
 },
 "nbformat": 4,
 "nbformat_minor": 5
}
