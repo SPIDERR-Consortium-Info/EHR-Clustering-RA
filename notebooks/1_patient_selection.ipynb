{
 "cells": [
  {
   "cell_type": "markdown",
   "metadata": {},
   "source": [
    "# 1 Patient Selection\n",
    "Prior to this script it is important to extract the necessary data from HIX: \n",
    "- Run sql/GetReport_RA.sql to get the Conclusion section of all RA patients\n",
    "- Run sql/GetAppointments_RA.sql to get the Conclusion section of all RA patients\n",
    "\n",
    "Summary:\n",
    "1. In this script we elucidate the first consult for each patient in HIX\n",
    "2. We remove patients that were admitted before August 29, 2011 (because we cannot guarantee that we have all the data available)\n",
    "3. We export / save different patient selections to be used in the proceeding research"
   ]
  },
  {
   "cell_type": "code",
   "execution_count": 1,
   "metadata": {},
   "outputs": [],
   "source": [
    "import sys\n",
    "sys.path.append(r'../src/1_emr_scripts')\n",
    "\n",
    "import numpy as np\n",
    "import matplotlib.pyplot as plt\n",
    "import numpy as np\n",
    "import pandas as pd"
   ]
  },
  {
   "cell_type": "markdown",
   "metadata": {},
   "source": [
    "## 1.1 Gather all first consults\n",
    "- SQL : Run GetAppointments_RA.sql to gather all first consults (financial code=NP) of the patients that visited the Rheumatology departement\n"
   ]
  },
  {
   "cell_type": "markdown",
   "metadata": {},
   "source": [
    "## 1.2 Assess first visit date\n"
   ]
  },
  {
   "cell_type": "code",
   "execution_count": 1,
   "metadata": {},
   "outputs": [
    {
     "name": "stdout",
     "output_type": "stream",
     "text": [
      "Total Patients in HIX (with registered NP) : 45592\n",
      "Patients with baseline after 2011 : 25821\n"
     ]
    }
   ],
   "source": [
    "import pandas as pd\n",
    "import numpy as np\n",
    "\n",
    "# Preload function\n",
    "def getFirstPEC(pat):\n",
    "    if pat in clean_dict.keys():\n",
    "        return clean_dict[int(pat)]\n",
    "    else :\n",
    "        return np.nan\n",
    "\n",
    "# import appointments \n",
    "df_rapp = pd.read_csv(r'../new_data/1_raw/Appointments_REU.csv', sep=\";\")\n",
    "\n",
    "df_rapp['period_start_date'] = df_rapp['period_start_date'].apply(lambda x : pd.to_datetime(x, format='%d-%m-%Y', errors='ignore'))\n",
    "df_rapp = df_rapp.sort_values(by='period_start_date')\n",
    "\n",
    "print('Total Patients in HIX (with registered NP) :', len(df_rapp['subject_Patient_value'].unique()))\n",
    "\n",
    "# Filter out visits prior to 2011\n",
    "df_rapp = df_rapp[(df_rapp['period_start_date'] > pd.to_datetime('20110829', format='%Y%m%d', errors='ignore'))]\n",
    "\n",
    "print('Patients with baseline after 2011 :', len(df_rapp['subject_Patient_value'].unique()))"
   ]
  },
  {
   "cell_type": "markdown",
   "metadata": {},
   "source": [
    "#### #1.2.1 Write all patient ids in convenient format "
   ]
  },
  {
   "cell_type": "code",
   "execution_count": 3,
   "metadata": {},
   "outputs": [],
   "source": [
    "import math\n",
    "l_pat = list(df_rapp['subject_Patient_value'].unique())\n",
    "\n",
    "stepsize = 1000\n",
    "with open('Pat_selection_sql.txt', 'w') as f:\n",
    "    for j in range(int(math.ceil(float(len(l_pat)/stepsize)))):\n",
    "        f.write('(' + '),('.join([str(int(i)) for i in l_pat[stepsize*j:stepsize*(j+1)]]) + ')\\n')"
   ]
  },
  {
   "cell_type": "markdown",
   "metadata": {},
   "source": [
    "## #1.3 Acquire Physician notes\n",
    "\n",
    "- SQL : Run GetReport_RA.sql to gather all conclusion sections of the patients from the list of selected patients"
   ]
  },
  {
   "cell_type": "markdown",
   "metadata": {},
   "source": [
    "## #1.4 Screen Physician notes\n",
    "We will leverage the conclusion section of the DDR_A table (HIX) for our prediction of the RA diagnosis.\n",
    "\n"
   ]
  },
  {
   "cell_type": "code",
   "execution_count": 4,
   "metadata": {},
   "outputs": [
    {
     "name": "stderr",
     "output_type": "stream",
     "text": [
      "/home/tdmaarseveen/.conda/envs/ra_clustering2/lib/python3.8/site-packages/IPython/core/interactiveshell.py:3145: DtypeWarning: Columns (1,7) have mixed types.Specify dtype option on import or set low_memory=False.\n",
      "  has_raised = await self.run_ast_nodes(code_ast.body, cell_name,\n"
     ]
    },
    {
     "data": {
      "text/plain": [
       "24645"
      ]
     },
     "execution_count": 4,
     "metadata": {},
     "output_type": "execute_result"
    }
   ],
   "source": [
    "import pandas as pd\n",
    "df_REUCON = pd.read_csv(r'../new_data/1_raw/processed_Notes_Entry.csv', sep=\"|\", index_col=0)\n",
    "\n",
    "# Only select patients after initialization of HIX (after 2011) \n",
    "df_REUCON = df_REUCON[df_REUCON['PATNR'].isin(l_pat)].copy()\n",
    "\n",
    "# Save relevant selection\n",
    "df_REUCON.to_csv(r'../new_data/1_raw/NewPatSelection_Notes_header.csv', sep=';', index=False) # 1 year\n",
    "len(df_REUCON['PATNR'].unique())\n"
   ]
  },
  {
   "cell_type": "markdown",
   "metadata": {},
   "source": [
    "### #1.4.1 Prepare the consultation data"
   ]
  },
  {
   "cell_type": "code",
   "execution_count": null,
   "metadata": {},
   "outputs": [],
   "source": [
    "import pandas as pd\n",
    "import sys\n",
    "sys.path.append(r'../src/1_emr_scripts')\n",
    "import Preprocessing as func\n",
    "\n",
    "d_first_date =df_rapp.groupby(['subject_Patient_value'])['period_start_date'].agg('max').to_dict()\n",
    "\n",
    "df_REUCON = pd.read_csv(r'../new_data/1_raw/NewPatSelection_Notes_header.csv', sep=\";\")\n",
    "\n",
    "df_REUCON['XANTWOORD'] = df_REUCON['XANTWOORD'].apply(lambda x : func.processArtefactsXML(str(x)))\n",
    "df_REUCON['created'] =df_REUCON['created'].apply(lambda x: pd.to_datetime(x, utc=True, format='%Y-%m-%d', errors='ignore'))\n",
    "df_REUCON = df_REUCON[df_REUCON['PATNR'].isin(d_first_date)]\n",
    "df_REUCON['PEC'] = df_REUCON['PATNR'].apply(lambda x : d_first_date[x])\n",
    "\n",
    "df_REUCON.head()"
   ]
  },
  {
   "cell_type": "markdown",
   "metadata": {},
   "source": [
    "### #1.4.2 Aggregate Conclusion sections "
   ]
  },
  {
   "cell_type": "code",
   "execution_count": 6,
   "metadata": {},
   "outputs": [],
   "source": [
    "import Preprocessing as func\n",
    "import pickle\n",
    "import time\n",
    "\n",
    "#model_name='savedModels/SVM.sav'\n",
    "X_column='XANTWOORD'\n",
    "y_column=\"\"#'Outcome'\n",
    "id_column='PATNR'\n",
    "\n",
    "def entriesPatientMerge(pat_df, id_column, X_column, y_column=\"\"):\n",
    "    \"\"\"\n",
    "    Merges the entries into one entry per patient (according to the id_column)\n",
    "    \n",
    "    Input: \n",
    "        id_column = column with patient id\n",
    "        X_column = column with \n",
    "    \"\"\"\n",
    "    field = ''\n",
    "    for i in pat_df[X_column]:\n",
    "        field += \" \" + i + \" \"\n",
    "    if y_column!=\"\":\n",
    "        return {X_column: field, id_column : pat_df[id_column].iloc[0], y_column : pat_df[y_column].iloc[0]}\n",
    "    else :\n",
    "        return {X_column: field, id_column : pat_df[id_column].iloc[0]}\n",
    "\n",
    "if y_column != \"\":\n",
    "    df_ult = pd.DataFrame(columns=[X_column,  id_column, y_column])\n",
    "else : \n",
    "    df_ult = pd.DataFrame(columns=[X_column,  id_column])\n",
    "    \n",
    "    \n",
    "for pat in df_REUCON[id_column].unique():\n",
    "    pat_df = df_REUCON[df_REUCON[id_column]==pat]\n",
    "    if y_column != \"\":\n",
    "        df_ult = df_ult.append(entriesPatientMerge(pat_df, id_column, X_column, y_column), ignore_index=True)\n",
    "    else : \n",
    "        df_ult = df_ult.append(entriesPatientMerge(pat_df, id_column, X_column), ignore_index=True)\n",
    "\n",
    "df_ult=df_ult.fillna('')\n",
    "df_ult['XANTWOORD'] = df_ult['XANTWOORD'].apply(lambda x : func.processArtefactsXML(str(x)))\n",
    "\n",
    "df_ult.to_csv(r'../new_data/1_raw/processed_Notes_Total.csv', sep='|') # 1 year"
   ]
  },
  {
   "cell_type": "markdown",
   "metadata": {},
   "source": [
    "## #1.5 Apply ML"
   ]
  },
  {
   "cell_type": "code",
   "execution_count": 7,
   "metadata": {},
   "outputs": [
    {
     "name": "stdout",
     "output_type": "stream",
     "text": [
      "Time for Making predictions (n=24645) : 39.02286243438721\n"
     ]
    }
   ],
   "source": [
    "import pickle\n",
    "import time\n",
    "import sklearn\n",
    "\n",
    "df_ult =  pd.read_csv(r'../new_data/1_raw/processed_Notes_Total.csv', sep='|') \n",
    "df_ult = df_ult.fillna('')\n",
    "\n",
    "# get EMR text\n",
    "text_column = 'XANTWOORD'\n",
    "X = df_ult[text_column].values\n",
    "\n",
    "# apply built model on provided text\n",
    "loaded_model = pickle.load(open(r'../models/SVM_20221201_ALL.sav', 'rb')) # SVM_20221201  SVM_29042020.sav\n",
    "\n",
    "t0 = time.time()\n",
    "\n",
    "probas_ = loaded_model.predict_proba(X)\n",
    "pred = probas_[:,1]\n",
    "\n",
    "t1 = time.time()\n",
    "print('Time for Making predictions (n=' + str(len(df_ult['PATNR'].unique())) + ') : ' + str(t1-t0))\n",
    "\n",
    "# add predictions to table\n",
    "df_ult['prediction'] = df_ult[text_column].copy()\n",
    "df_ult['prediction'] = pred\n",
    "\n",
    "# export predictions\n",
    "df_ult[['PATNR', 'prediction', 'XANTWOORD']].to_csv(r'../new_data/1_raw/RA_patients_pred_3.csv', sep='|', index=False)\n",
    "\n",
    "# export patient selection with corresponding text and subsequent predictions\n",
    "df_ult[df_ult['prediction']>0.83][['PATNR', 'prediction', 'XANTWOORD']].to_csv(r'../new_data/1_raw/RA_patients_083_Total.csv', sep='|', index=False)\n"
   ]
  },
  {
   "cell_type": "markdown",
   "metadata": {},
   "source": [
    "#### Check patients that reach the threshold\n",
    "\n",
    "Threshold of 0.83 was defined in previous paper: https://arthritis-research.biomedcentral.com/articles/10.1186/s13075-021-02553-4  \n",
    "The benefit of using this threshold is that it balances sensitivity and precision on 0.85"
   ]
  },
  {
   "cell_type": "code",
   "execution_count": null,
   "metadata": {},
   "outputs": [],
   "source": [
    "df_ult[df_ult['prediction']>0.83]"
   ]
  },
  {
   "cell_type": "markdown",
   "metadata": {},
   "source": [
    "## #1.6 Create new pseudoIds \n",
    "Create a composite identifier \"pseudoId\" by combining the patient id and the visit nr\n",
    "\n",
    "We want to include all first Consults "
   ]
  },
  {
   "cell_type": "markdown",
   "metadata": {},
   "source": [
    "### #1.6.1 Select RA patients"
   ]
  },
  {
   "cell_type": "code",
   "execution_count": 9,
   "metadata": {},
   "outputs": [
    {
     "name": "stdout",
     "output_type": "stream",
     "text": [
      "Patients predicted to have RA : 2128\n"
     ]
    }
   ],
   "source": [
    "l_found = df_ult[df_ult['prediction']>0.83]['PATNR'].unique()\n",
    "print('Patients predicted to have RA :', len(l_found))\n",
    "df_rapp = df_rapp[df_rapp['subject_Patient_value'].isin(l_found)]"
   ]
  },
  {
   "cell_type": "markdown",
   "metadata": {},
   "source": [
    "### #1.6.2 assign pseudoIds\n",
    "\n",
    "Write down important patient info in a single table:\n",
    "1. Pseudo Id\n",
    "2. Date of first consult (or imputed)\n",
    "3. Patient id\n",
    "4. Visit number"
   ]
  },
  {
   "cell_type": "code",
   "execution_count": null,
   "metadata": {},
   "outputs": [],
   "source": [
    "def create_dict_pseudoIds(df_rapp):\n",
    "    \"\"\"\n",
    "    Create new pseudo ids for all first dates\n",
    "    \"\"\"\n",
    "    new_pat = {}\n",
    "    for pat in df_rapp['subject_Patient_value'].unique():\n",
    "        cnt = 0\n",
    "        sub_df = df_rapp[df_rapp['subject_Patient_value']==pat].copy()\n",
    "        for index, row in sub_df.iterrows():\n",
    "            identity = '%s_%s' % (pat, cnt)\n",
    "            new_pat[identity] = pd.to_datetime(row['period_start_date'] , format='%d-%m-%Y', errors='ignore') \n",
    "            cnt += 1\n",
    "    return new_pat\n",
    "\n",
    "df_rapp = df_rapp[df_rapp['type1_code']!='NPSI'] # exclude patients that visit the 'InloopPoli'\n",
    "new_pat = create_dict_pseudoIds(df_rapp)\n",
    "df_pat = pd.DataFrame.from_dict(new_pat, orient='index')\n",
    "df_pat = df_pat.reset_index()\n",
    "df_pat.columns = ['pseudoId', 'date']\n",
    "df_pat['patnr'] = df_pat['pseudoId'].apply(lambda x: x.split('_')[0])\n",
    "df_pat['NP_visit_nr'] = df_pat['pseudoId'].apply(lambda x: x.split('_')[1])\n",
    "\n",
    "# Remove patients with consultation before 2011\n",
    "#df_pat = df_pat[df_pat['period_start_date'] > pd.to_datetime('20110829', format='%Y%m%d', errors='ignore')]\n",
    "\n",
    "# Export\n",
    "df_pat.to_csv('../filters/RA_patients_AllNP_11-10-2022.csv')\n",
    "df_pat.head()"
   ]
  },
  {
   "cell_type": "markdown",
   "metadata": {},
   "source": [
    "### #1.6.3 Visualize number of 'first' visits per patient "
   ]
  },
  {
   "cell_type": "code",
   "execution_count": 11,
   "metadata": {},
   "outputs": [
    {
     "name": "stdout",
     "output_type": "stream",
     "text": [
      "[1, 2, 3, 4, 5] [1654, 394, 69, 8, 2]\n"
     ]
    },
    {
     "data": {
      "image/png": "[encoded data removed]",
      "text/plain": [
       "<Figure size 432x288 with 1 Axes>"
      ]
     },
     "metadata": {
      "needs_background": "light"
     },
     "output_type": "display_data"
    }
   ],
   "source": [
    "## Create new id system\n",
    "import numpy as np\n",
    "import matplotlib.pyplot as plt\n",
    "from collections import Counter\n",
    "df_symptom = pd.DataFrame.from_dict(dict(Counter(list(Counter(df_rapp['subject_Patient_value']).values())).items()), orient='index').sort_index()\n",
    "\n",
    "labels, values = list(range(1, len(df_symptom)+1)), list(df_symptom[0])\n",
    "print(labels, values)\n",
    "\n",
    "indexes = np.arange(len(labels))\n",
    "width = 1\n",
    "\n",
    "plt.bar(indexes, values, width)\n",
    "plt.xticks(indexes , labels, rotation=90)\n",
    "plt.xlabel('Nr of \"first\" visits')\n",
    "plt.ylabel('Frequency')\n",
    "plt.show()"
   ]
  },
  {
   "cell_type": "markdown",
   "metadata": {},
   "source": [
    "### #1.6.4 Export all patient ids for SQL queries\n",
    "\n",
    "We will create a copy of all identified patients. This list will be used to query clinical data from the SQL database. The data is formatted in a convenient structure for SQL."
   ]
  },
  {
   "cell_type": "code",
   "execution_count": 12,
   "metadata": {},
   "outputs": [],
   "source": [
    "stepsize = 1000\n",
    "with open('../keys/HIX_RA_selection.txt', 'w') as f:\n",
    "    for j in range(int(math.ceil(float(len(l_found)/stepsize)))):\n",
    "        f.write('(' + '),('.join([str(int(i)) for i in l_found[stepsize*j:stepsize*(j+1)]]) + ')\\n')"
   ]
  }
 ],
 "metadata": {
  "kernelspec": {
   "display_name": "clustering_ra",
   "language": "python",
   "name": "clustering_ra"
  },
  "language_info": {
   "codemirror_mode": {
    "name": "ipython",
    "version": 3
   },
   "file_extension": ".py",
   "mimetype": "text/x-python",
   "name": "python",
   "nbconvert_exporter": "python",
   "pygments_lexer": "ipython3",
   "version": "3.8.8"
  }
 },
 "nbformat": 4,
 "nbformat_minor": 4
}
