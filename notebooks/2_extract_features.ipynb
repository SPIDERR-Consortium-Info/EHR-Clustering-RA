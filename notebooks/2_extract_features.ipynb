{
 "cells": [
  {
   "cell_type": "markdown",
   "metadata": {},
   "source": [
    "# 2 Extract Features\n",
    "Summary:\n",
    "1. In this script we extract the Lab & mannequin values \n",
    "2. We apply a query based approach to parse features from the narrative of the EMR [WIP]"
   ]
  },
  {
   "cell_type": "code",
   "execution_count": 1,
   "metadata": {},
   "outputs": [],
   "source": [
    "import sys\n",
    "sys.path.append(r'../src/1_emr_scripts')\n",
    "\n",
    "import numpy as np\n",
    "import matplotlib.pyplot as plt\n",
    "import numpy as np\n",
    "import pandas as pd\n",
    "import Preprocessing as func"
   ]
  },
  {
   "cell_type": "markdown",
   "metadata": {},
   "source": [
    "## #2.1 Get date of first medication\n",
    "We will use the date of first prescription to look for mannequin\n",
    "\n",
    "### #2.1.1 Import treatment and consultations tables"
   ]
  },
  {
   "cell_type": "code",
   "execution_count": 2,
   "metadata": {},
   "outputs": [],
   "source": [
    "import pandas as pd\n",
    "\n",
    "# import Medicator\n",
    "df_med = pd.read_csv('/exports/reum/tdmaarseveen/RA_Clustering/new_data/1_raw/Medication_REU.csv', sep=';', header=None)\n",
    "df_med.columns = ['PATNR', 'periodOfUse_valuePeriod_start_date', 'periodOfUse_valuePeriod_end_date', 'usageDuration_valueDuration_value', 'dosageInstruction_text', 'dosageInstruction_additionalInstruction_text', 'dosageInstruction_timing_repeat_frequency', 'dosageInstruction_timing_repeat_period', 'dosageInstruction_route_display', 'dosageInstruction_doseQuantity_value', 'dosageInstruction_doseQuantity_unit_display_original', 'code_text', 'ATC_code', 'ATC_display', 'ATC_display_nl']\n",
    "\n",
    "# In case the start date is missing fill with the end date\n",
    "df_med['periodOfUse_valuePeriod_start_date'] = df_med['periodOfUse_valuePeriod_start_date'].fillna(df_med['periodOfUse_valuePeriod_end_date'])\n",
    "\n",
    "# Get first consult date\n",
    "df_pat = pd.read_csv(r'../filters/RA_patients_AllNP_11-10-2022.csv', sep=',', index_col=0)\n",
    "\n",
    "d_pseudo_pat = dict(zip(df_pat.pseudoId, df_pat.patnr))\n",
    "d_pseudo_date = dict(zip(df_pat.pseudoId, df_pat.date))"
   ]
  },
  {
   "cell_type": "markdown",
   "metadata": {},
   "source": [
    "### #2.1.2 Acquire date of first prescription\n",
    "Description: Acquire first date from baseline where a drug is prescriped for each pseudoId \n",
    "- The parameter no_drug_window ensures that there is no drug found prior to baseline for same patient (default = 6 months look behind) "
   ]
  },
  {
   "cell_type": "code",
   "execution_count": null,
   "metadata": {},
   "outputs": [],
   "source": [
    "df_FirstTreat = func.getStartTreatmentDate(df_med, d_pseudo_pat, d_pseudo_date, no_drug_window=6)\n",
    "\n",
    "df_FirstTreat.head()"
   ]
  },
  {
   "cell_type": "markdown",
   "metadata": {},
   "source": [
    "### #2.1.3 Export medication information\n"
   ]
  },
  {
   "cell_type": "code",
   "execution_count": 4,
   "metadata": {},
   "outputs": [],
   "source": [
    "df_FirstTreat.to_csv('../filters/RA_patients_AllNP_inclTreatmentStart.csv', sep='|',index=False)"
   ]
  },
  {
   "cell_type": "markdown",
   "metadata": {},
   "source": [
    "## #2.2 Process Mannequin data\n",
    "\n",
    "Note: If you want to exclude mannequins of Research Nurses you could run the following Notebook: \n",
    "\n",
    "additional_files/Mannequin_filter_RNvsMannequin.ipynb"
   ]
  },
  {
   "cell_type": "code",
   "execution_count": 5,
   "metadata": {},
   "outputs": [
    {
     "name": "stderr",
     "output_type": "stream",
     "text": [
      "/home/tdmaarseveen/.conda/envs/ra_clustering2/lib/python3.8/site-packages/IPython/core/interactiveshell.py:3145: DtypeWarning: Columns (3,10) have mixed types.Specify dtype option on import or set low_memory=False.\n",
      "  has_raised = await self.run_ast_nodes(code_ast.body, cell_name,\n"
     ]
    }
   ],
   "source": [
    "df_mannequin = pd.read_csv(r'../new_data/1_raw/Mannequin_REU.csv', sep=';')\n",
    "df_mannequin = df_mannequin[((df_mannequin['description'].isna()) | (df_mannequin['description']=='Gewrichtspop'))]\n",
    "df_mannequin = df_mannequin.rename(columns={'subject_Patient_value' : 'PATNR', 'description' : 'CATEGORIE'})\n",
    "\n",
    "# Make subset of patients according to prior SVM selection (see notebook #1)\n",
    "df_selection = pd.read_csv('../filters/RA_patients_AllNP_11-10-2022.csv', index_col=0)\n",
    "df_selection['patnr'] = df_selection['patnr'].astype(str)\n",
    "l_pat_select = list(df_selection['patnr'].unique())\n",
    "df_mannequin = df_mannequin[df_mannequin['PATNR'].isin(l_pat_select)].copy()\n",
    "\n",
    "# ensure mannequin is after hix initialization\n",
    "df_mannequin['created'] =df_mannequin['created'].apply(lambda x: pd.to_datetime(x, format='%Y-%m-%d', errors='ignore'))\n",
    "df_mannequin = df_mannequin[((pd.DatetimeIndex(df_mannequin['created']) > pd.to_datetime('20110829', format='%Y%m%d', errors='ignore')))]\n",
    "\n",
    "df_mannequin.to_csv(r'../new_data/1_raw/Clustering_Gewrichtspop.csv', sep='|', index=False)"
   ]
  },
  {
   "cell_type": "markdown",
   "metadata": {},
   "source": [
    "### #2.2.1 Establish difference between Physician & RN\n",
    "Run additional_files/Mannequin_filter_RNvsMannequin.ipynb to distinguish Physician from Research nurse mannequins"
   ]
  },
  {
   "cell_type": "markdown",
   "metadata": {},
   "source": [
    "### #2.2.2 Import both Physician & Dubious Mannequins\n"
   ]
  },
  {
   "cell_type": "code",
   "execution_count": null,
   "metadata": {},
   "outputs": [],
   "source": [
    "import pandas as pd \n",
    "df_physician_new = pd.read_csv(r'../new_data/2_preprocessing/Gewrichtspop_REU_physician.csv', sep=';')\n",
    "df_physician_new['created'] = pd.to_datetime(df_physician_new['created'], format='%Y-%m-%d')\n",
    "df_physician_new['potentialRN'] = 0\n",
    "#df_physician_new['potentialRN']\n",
    "\n",
    "df_mannequin = pd.read_csv(r'../new_data/1_raw/Clustering_Gewrichtspop.csv', sep='|')\n",
    "df_mannequin.columns = ['ID', 'STELLING', 'ANTWOORD', 'YANTWOORD', 'ZANTWOORD', 'subject_Patient_value', 'XANTWOORD', 'DATUM', 'Cs-code', 'CATEGORIE',  'author_Person_value', 'created', 'MUTDAT']\n",
    "df_mannequin['created'] = pd.to_datetime(df_mannequin['created'], format='%Y-%m-%d')\n",
    "df_mannequin['potentialRN'] = 1\n",
    "\n",
    "df_physician_new.columns, df_mannequin.columns"
   ]
  },
  {
   "cell_type": "markdown",
   "metadata": {},
   "source": [
    "### 2.3 Combine identified physicians with uncertain entries\n",
    "\n",
    "Enrich data with Mannequin data filled in by RN (we show that there is no data drift in offshoot analysis)"
   ]
  },
  {
   "cell_type": "code",
   "execution_count": null,
   "metadata": {},
   "outputs": [],
   "source": [
    "# Define columns of interest\n",
    "l_interest = ['subject_Patient_value', 'author_Person_value',\n",
    "        'created',  'ID', 'STELLING', 'ANTWOORD', 'YANTWOORD',\n",
    "        'ZANTWOORD', 'XANTWOORD', 'DATUM', 'CATEGORIE', 'potentialRN']\n",
    "\n",
    "# Create unique keys (to prevent duplications further downstream)\n",
    "df_mannequin['new_key'] = df_mannequin['subject_Patient_value'].astype(str) + '_' + df_mannequin['DATUM']\n",
    "df_physician_new['new_key'] = df_physician_new['subject_Patient_value'].astype(str) + '_' + df_physician_new['DATUM']\n",
    "\n",
    "# Identify rows whereby we are not certain that the mannequin was filled in by a physician\n",
    "l_pat = list(set(df_mannequin['new_key']) - set(df_physician_new['new_key']))\n",
    "\n",
    "# Add those extra entries to the Mannequin data (pd.concat)\n",
    "df_all = pd.concat([df_physician_new[l_interest], df_mannequin[df_mannequin['new_key'].isin(l_pat)][l_interest]], axis=0)\n",
    "\n",
    "# ToDo: Maybe include lab -> if there is no Lab around the consult data - but there is Lab that can be linked \n",
    "# to Mannequin somewhere before the first medication -> than we perhaps want to use the alternative data instead..\n",
    "# this might result in more patients altogether\n",
    "# ToDo: Check if this is a dilution? -> sensitivity analysis\n",
    "\n",
    "print('Length physician mannequin= %s; length dubious (putative RN) mannequin= %s ' % (len(df_physician_new[l_interest]), len( df_mannequin[df_mannequin['new_key'].isin(l_pat)])))\n",
    "print('Length merged mannequin df: ', len(df_all))\n",
    "\n",
    "# Export the dubious mannequin data\n",
    "df_mannequin[df_mannequin['new_key'].isin(l_pat)][l_interest].to_csv(r'../new_data/offshoots/DAS_check/Gewrichtspop_REU_PutativeRN.csv', sep=';', index=None)\n",
    "\n",
    "# Export enriched dataset\n",
    "df_all.to_csv(r'../new_data/2_preprocessing/Gewrichtspop_REU_Total.csv', sep=';', index=None)\n",
    "df_all.head()"
   ]
  },
  {
   "cell_type": "markdown",
   "metadata": {},
   "source": [
    "## #2.4 Get Mannequin at baseline\n",
    "\n",
    "- get mannequin at/after baseline and ensure mannequin is registered before medication \n",
    "- ensure there is no medication 6 months (or 1 year?) prior to the mannequin \n",
    "- no medication at baseline automatically implies that there is also no mannequin at baseline (because we only consider patients that got medication at some point). Because mann  \n",
    "\n",
    "Mannequin filter : in order to get insight into who performed the physical assesment of patients. You must have first run additional_files/Mannequin_filter_RNvsMannequin.ipynb to distinguish Physician from RN mannequins"
   ]
  },
  {
   "cell_type": "code",
   "execution_count": 51,
   "metadata": {},
   "outputs": [
    {
     "data": {
      "text/plain": [
       "1237"
      ]
     },
     "execution_count": 51,
     "metadata": {},
     "output_type": "execute_result"
    }
   ],
   "source": [
    "import pandas as pd\n",
    "\n",
    "df_ddra = pd.read_csv(r'../new_data/2_preprocessing/Gewrichtspop_REU_Total.csv', sep=';')\n",
    "df_ddra.columns = ['PATNR', 'BEHANDELAAR','DATUM_A', 'ID', 'STELLING', 'ANTWOORD', 'YANTWOORD', 'ZANTWOORD', 'XANTWOORD', 'DATUM', 'CATEGORIE', 'potentialRN']\n",
    "\n",
    "\n",
    "df_treat = pd.read_csv('../new_data/5_clustering/df_metadata_keys.csv', sep=',')\n",
    "df_ddra = df_ddra[df_ddra['PATNR'].isin(df_treat['patnr'])].copy()\n",
    "len(df_ddra[df_ddra['STELLING'].isin(['VAS Patient (mm)'])]['PATNR'].unique())"
   ]
  },
  {
   "cell_type": "code",
   "execution_count": 8,
   "metadata": {},
   "outputs": [
    {
     "name": "stdout",
     "output_type": "stream",
     "text": [
      "2691\n"
     ]
    }
   ],
   "source": [
    "import pandas as pd\n",
    "\n",
    "MANFILTER = True # Only if you have run the mannequin filter (to differentiate between physicians and RN)\n",
    "\n",
    "if MANFILTER: \n",
    "    df_ddra = pd.read_csv(r'../new_data/2_preprocessing/Gewrichtspop_REU_Total.csv', sep=';')\n",
    "    df_ddra.columns = ['PATNR', 'BEHANDELAAR','DATUM_A', 'ID', 'STELLING', 'ANTWOORD', 'YANTWOORD', 'ZANTWOORD', 'XANTWOORD', 'DATUM', 'CATEGORIE', 'potentialRN']\n",
    "else:\n",
    "    df_ddra = pd.read_csv(r'../new_data/1_raw/Clustering_Gewrichtspop.csv', sep='|')\n",
    "    df_ddra.columns = ['PATNR', 'BEHANDELAAR','DATUM_A', 'ID', 'STELLING', 'ANTWOORD', 'YANTWOORD', 'ZANTWOORD', 'XANTWOORD', 'DATUM', 'CATEGORIE']\n",
    "    \n",
    "df_ddra['DATUM_A']= pd.to_datetime(df_ddra['DATUM_A'], format='%Y-%m-%d')#\\\n",
    "\n",
    "# Get first medication date\n",
    "df_treat = pd.read_csv('../filters/RA_patients_AllNP_inclTreatmentStart.csv', sep='|')\n",
    "d_pseudo_pat = dict(zip(df_treat.pseudoId, df_treat.patnr))\n",
    "d_pseudo_date = dict(zip(df_treat.pseudoId, df_treat.FirstConsult))\n",
    "treat_pat = dict(zip(df_treat.pseudoId, df_treat.Lookahead_Treatment))\n",
    "na_pat = dict(zip(df_treat.pseudoId, df_treat.FILTER_RX_NA_BASELINE))\n",
    "print(len(treat_pat.keys()))\n"
   ]
  },
  {
   "cell_type": "markdown",
   "metadata": {},
   "source": [
    "### #2.4.1 Convert entrybased to visitbased\n",
    "In this step, we aggregate the multiple entries per visit to a single row. In other words, we summarize the baseline information in 1 row. "
   ]
  },
  {
   "cell_type": "code",
   "execution_count": null,
   "metadata": {},
   "outputs": [],
   "source": [
    "## import pandas as pd\n",
    "import numpy as np\n",
    "l_pat_missingMannequin = []\n",
    "l_pat_missingMannequinBaseline = []\n",
    "df_treat['firstMannequin'] = np.nan\n",
    "df_treat['FILTER_MAN_NA'] = True\n",
    "df_treat['FILTER_MAN_NA_BASELINE'] = True\n",
    "df_treat['potentialRN'] = 0\n",
    "\n",
    "# Create mannequin dataframe\n",
    "df_man = pd.DataFrame()\n",
    "\n",
    "#for pseudoId in table\n",
    "for index, row in df_treat.iterrows():\n",
    "    pid = row['pseudoId']\n",
    "    pat = row['patnr']\n",
    "    sub_df = df_ddra[df_ddra['PATNR']==pat].copy() # select pat\n",
    "    if len(sub_df) > 0:\n",
    "        df_treat.at[index,'FILTER_MAN_NA']= False\n",
    "    else : \n",
    "        df_treat.at[index,'FILTER_MAN_NA']= True\n",
    "    \n",
    "    min_date = row['FirstConsult'] # get date of first consult\n",
    "\n",
    "    # Convert string to datetime\n",
    "    min_date = pd.to_datetime(min_date, format='%Y-%m-%d', errors='ignore')\n",
    "    sub_df['DATUM_A'] = pd.to_datetime(sub_df['DATUM_A'], format='%Y-%m-%d', errors='ignore') # Voorheen DATUM\n",
    "    sub_df = sub_df.sort_values(by='DATUM_A')\n",
    "\n",
    "    # define space where we will search for mannequin\n",
    "    max_date = pd.to_datetime(row['Lookahead_Treatment'], format='%Y-%m-%d', errors='ignore') \n",
    "    max_date = max_date + pd.DateOffset(days=1)  # add one day of tolerance \n",
    "    min_date = min_date - pd.DateOffset(days=1) # maybe a day earlier or 30 days?\n",
    "\n",
    "    # Search for mannequin\n",
    "    sub_df = sub_df[sub_df['DATUM_A'].between(min_date, max_date, inclusive='both')]\n",
    "    if len(sub_df) > 0:\n",
    "        df_treat.at[index,'potentialRN'] = 1\n",
    "        \n",
    "        if len(sub_df[sub_df['potentialRN']==0]['DATUM_A']) > 0:\n",
    "            # Take physician mannequin date\n",
    "            manDat = sub_df[sub_df['potentialRN']==0]['DATUM_A'].iloc[0]\n",
    "            df_treat.at[index,'potentialRN'] = 0 \n",
    "            phys = sub_df[sub_df['potentialRN']==0]['BEHANDELAAR'].iloc[0]\n",
    "        else :\n",
    "            # Otherwise take RN mannequin date\n",
    "            manDat = sub_df['DATUM_A'].iloc[0]\n",
    "            phys = sub_df['BEHANDELAAR'].iloc[0]\n",
    "        \n",
    "        df_treat.at[index,'firstMannequin']= manDat\n",
    "        df_treat.at[index,'Physician']= phys\n",
    "        df_treat.at[index,'FILTER_MAN_NA_BASELINE']= False\n",
    "\n",
    "    # Save valid Mannequin Data in dataframe\n",
    "    sub_df['pseudoId'] = [pid] * len(sub_df)\n",
    "    df_man = pd.concat([df_man, sub_df], axis=0)\n",
    "\n",
    "print('N entries:', len(df_man['pseudoId'].unique()), '\\tN patients:', len(df_man['PATNR'].unique()))\n",
    "        \n",
    "df_man.to_csv(r'../new_data/2_preprocessing/DF_Mannequin_NEW_firstCon.csv', sep='|', index=True)\n",
    "\n",
    "# Calculate difference in days between first consult (as registered in Encounter) and first reported mannequin\n",
    "df_treat['deltaMan'] = pd.to_datetime(df_treat['firstMannequin'], format='%Y-%m-%d', errors='ignore').dt.date -pd.to_datetime(df_treat['FirstConsult'], format='%Y-%m-%d', errors='ignore').dt.date\n",
    "\n",
    "df_treat.to_csv(r'../filters/RA_patients_AllNP_inclTreatment+Mannequin.csv', sep='|', index=True)\n",
    "\n",
    "df_treat.head()"
   ]
  },
  {
   "cell_type": "markdown",
   "metadata": {},
   "source": [
    "### #2.4.2 Check patients w/o mannequin at baseline"
   ]
  },
  {
   "cell_type": "code",
   "execution_count": 11,
   "metadata": {},
   "outputs": [
    {
     "name": "stdout",
     "output_type": "stream",
     "text": [
      "Patients without Mannequin at baseline: 225\n"
     ]
    },
    {
     "data": {
      "text/html": [
       "<div>\n",
       "<style scoped>\n",
       "    .dataframe tbody tr th:only-of-type {\n",
       "        vertical-align: middle;\n",
       "    }\n",
       "\n",
       "    .dataframe tbody tr th {\n",
       "        vertical-align: top;\n",
       "    }\n",
       "\n",
       "    .dataframe thead th {\n",
       "        text-align: right;\n",
       "    }\n",
       "</style>\n",
       "<table border=\"1\" class=\"dataframe\">\n",
       "  <thead>\n",
       "    <tr style=\"text-align: right;\">\n",
       "      <th></th>\n",
       "      <th>FILTER_RX_NA_BASELINE</th>\n",
       "      <th>FILTER_MAN_NA_BASELINE</th>\n",
       "      <th>FILTER_MAN_NA</th>\n",
       "      <th>patnr</th>\n",
       "      <th>FirstConsult</th>\n",
       "      <th>firstMannequin</th>\n",
       "      <th>Lookahead_Treatment</th>\n",
       "      <th>Lookbehind_Treatment</th>\n",
       "    </tr>\n",
       "  </thead>\n",
       "  <tbody>\n",
       "    <tr>\n",
       "      <th>7</th>\n",
       "      <td>False</td>\n",
       "      <td>True</td>\n",
       "      <td>False</td>\n",
       "      <td>304860252</td>\n",
       "      <td>2011-09-08</td>\n",
       "      <td>NaN</td>\n",
       "      <td>2011-09-08</td>\n",
       "      <td>NaN</td>\n",
       "    </tr>\n",
       "    <tr>\n",
       "      <th>8</th>\n",
       "      <td>False</td>\n",
       "      <td>False</td>\n",
       "      <td>False</td>\n",
       "      <td>304867071</td>\n",
       "      <td>2011-09-08</td>\n",
       "      <td>2011-09-08 13:06:00</td>\n",
       "      <td>2011-09-08</td>\n",
       "      <td>NaN</td>\n",
       "    </tr>\n",
       "    <tr>\n",
       "      <th>9</th>\n",
       "      <td>False</td>\n",
       "      <td>True</td>\n",
       "      <td>False</td>\n",
       "      <td>304867071</td>\n",
       "      <td>2017-03-14</td>\n",
       "      <td>NaN</td>\n",
       "      <td>2017-03-14</td>\n",
       "      <td>2014-09-23</td>\n",
       "    </tr>\n",
       "    <tr>\n",
       "      <th>33</th>\n",
       "      <td>False</td>\n",
       "      <td>True</td>\n",
       "      <td>False</td>\n",
       "      <td>304860943</td>\n",
       "      <td>2011-09-23</td>\n",
       "      <td>NaN</td>\n",
       "      <td>2011-10-31</td>\n",
       "      <td>2010-10-20</td>\n",
       "    </tr>\n",
       "    <tr>\n",
       "      <th>41</th>\n",
       "      <td>False</td>\n",
       "      <td>False</td>\n",
       "      <td>False</td>\n",
       "      <td>304869656</td>\n",
       "      <td>2011-10-04</td>\n",
       "      <td>2011-12-08 09:31:00</td>\n",
       "      <td>2012-06-18</td>\n",
       "      <td>NaN</td>\n",
       "    </tr>\n",
       "  </tbody>\n",
       "</table>\n",
       "</div>"
      ],
      "text/plain": [
       "    FILTER_RX_NA_BASELINE  FILTER_MAN_NA_BASELINE  FILTER_MAN_NA      patnr  \\\n",
       "7                   False                    True          False  304860252   \n",
       "8                   False                   False          False  304867071   \n",
       "9                   False                    True          False  304867071   \n",
       "33                  False                    True          False  304860943   \n",
       "41                  False                   False          False  304869656   \n",
       "\n",
       "   FirstConsult       firstMannequin Lookahead_Treatment Lookbehind_Treatment  \n",
       "7    2011-09-08                  NaN          2011-09-08                  NaN  \n",
       "8    2011-09-08  2011-09-08 13:06:00          2011-09-08                  NaN  \n",
       "9    2017-03-14                  NaN          2017-03-14           2014-09-23  \n",
       "33   2011-09-23                  NaN          2011-10-31           2010-10-20  \n",
       "41   2011-10-04  2011-12-08 09:31:00          2012-06-18                  NaN  "
      ]
     },
     "execution_count": 11,
     "metadata": {},
     "output_type": "execute_result"
    }
   ],
   "source": [
    "# 398\n",
    "l_pat_manna = set(df_treat[((df_treat['FILTER_MAN_NA_BASELINE']) & (~df_treat['FILTER_RX_NA_BASELINE']))]['patnr']) - set(df_treat[df_treat['FILTER_MAN_NA']]['patnr'])\n",
    "print('Patients without Mannequin at baseline:', len(l_pat_manna))\n",
    "df_treat[df_treat['patnr'].isin(l_pat_manna)][['FILTER_RX_NA_BASELINE', 'FILTER_MAN_NA_BASELINE', 'FILTER_MAN_NA', 'patnr', 'FirstConsult', 'firstMannequin', 'Lookahead_Treatment', 'Lookbehind_Treatment']].head(5)"
   ]
  },
  {
   "cell_type": "markdown",
   "metadata": {},
   "source": [
    "### #2.4.3 Visualize difference in days between FirstConsult and FirstMannequin\n",
    "\n",
    "- FirstConsult: date of the first consult\n",
    "- FirstMannequin: date of the first mannequin at/after baseline (prior to medication)\n",
    "- Takeaway message from the figure: Mannequin is registered close to the baseline in this patient selection"
   ]
  },
  {
   "cell_type": "code",
   "execution_count": 12,
   "metadata": {},
   "outputs": [
    {
     "data": {
      "image/png": "[encoded data removed]",
      "text/plain": [
       "<Figure size 432x288 with 1 Axes>"
      ]
     },
     "metadata": {
      "needs_background": "light"
     },
     "output_type": "display_data"
    }
   ],
   "source": [
    "import matplotlib.pyplot as plt\n",
    "df_treat['deltaMan'] = pd.to_datetime(df_treat['firstMannequin'], format='%Y-%m-%d', errors='ignore').dt.date -pd.to_datetime(df_treat['FirstConsult'], format='%Y-%m-%d', errors='ignore').dt.date\n",
    "df_treat['deltaMan'] = df_treat['deltaMan'].dt.days\n",
    "plt.hist(df_treat['deltaMan'], bins=30)\n",
    "plt.xlabel('nr of days between \"FirstConsult\" and \"FirstMannequin\"')\n",
    "plt.ylabel('Frequency')\n",
    "plt.show()"
   ]
  },
  {
   "cell_type": "code",
   "execution_count": 13,
   "metadata": {},
   "outputs": [
    {
     "data": {
      "text/plain": [
       "(array([1.454e+03, 1.900e+01, 1.500e+01, 2.400e+01, 4.700e+01, 1.400e+01,\n",
       "        1.600e+01, 5.800e+01, 2.600e+01, 1.400e+01, 1.700e+01, 3.000e+01,\n",
       "        9.000e+00, 6.000e+00, 9.000e+00, 3.000e+00, 5.000e+00, 3.000e+00,\n",
       "        1.100e+01, 0.000e+00, 3.000e+00, 1.100e+01, 1.000e+00, 6.000e+00,\n",
       "        4.000e+00, 5.000e+00, 3.000e+00, 4.000e+00, 7.000e+00, 5.000e+00,\n",
       "        1.000e+00, 3.000e+00, 6.000e+00, 5.000e+00, 0.000e+00, 2.000e+00,\n",
       "        2.000e+00, 1.000e+00, 2.000e+00, 6.000e+00, 2.000e+00, 3.000e+00,\n",
       "        6.000e+00, 4.000e+00, 0.000e+00, 1.000e+00, 1.000e+00, 0.000e+00,\n",
       "        1.000e+00, 3.000e+00]),\n",
       " array([-1.,  1.,  3.,  5.,  7.,  9., 11., 13., 15., 17., 19., 21., 23.,\n",
       "        25., 27., 29., 31., 33., 35., 37., 39., 41., 43., 45., 47., 49.,\n",
       "        51., 53., 55., 57., 59., 61., 63., 65., 67., 69., 71., 73., 75.,\n",
       "        77., 79., 81., 83., 85., 87., 89., 91., 93., 95., 97., 99.]),\n",
       " <BarContainer object of 50 artists>)"
      ]
     },
     "execution_count": 13,
     "metadata": {},
     "output_type": "execute_result"
    },
    {
     "data": {
      "image/png": "[encoded data removed]",
      "text/plain": [
       "<Figure size 432x288 with 1 Axes>"
      ]
     },
     "metadata": {
      "needs_background": "light"
     },
     "output_type": "display_data"
    }
   ],
   "source": [
    "plt.hist(df_treat[df_treat['deltaMan']<100.0]['deltaMan'], bins=50)"
   ]
  },
  {
   "cell_type": "markdown",
   "metadata": {},
   "source": [
    "#### Unique categories associated with Mannequin components"
   ]
  },
  {
   "cell_type": "code",
   "execution_count": 14,
   "metadata": {},
   "outputs": [
    {
     "data": {
      "image/png": "[encoded data removed]",
      "text/plain": [
       "<Figure size 432x288 with 1 Axes>"
      ]
     },
     "metadata": {
      "needs_background": "light"
     },
     "output_type": "display_data"
    }
   ],
   "source": [
    "import matplotlib.pyplot as plt\n",
    "from collections import Counter\n",
    "\n",
    "labels, values = zip(*Counter(df_man['CATEGORIE']).items())\n",
    "\n",
    "indexes = np.arange(len(labels))\n",
    "width = 1\n",
    "\n",
    "plt.bar(indexes, values, width)\n",
    "plt.xticks(indexes , labels, rotation=90)\n",
    "plt.show()"
   ]
  },
  {
   "cell_type": "markdown",
   "metadata": {},
   "source": [
    "## #2.5 Get Lab values near first Mannequin\n",
    "#### Lab values of patient selection\n",
    "For our final selection we require patients to have Mannequin information. We need both mannequin data and the ESR (BSE) to calculate the DAS, thus we look for lab values near the first Mannequin.\n",
    "\n",
    "#### Tolerance\n",
    "We accept 1 year of tolerance for serological variables, because these rarely change over time. For other lab features we accept 1 month of tolerance (or time till start treatment if that window is smaller)"
   ]
  },
  {
   "cell_type": "code",
   "execution_count": null,
   "metadata": {
    "scrolled": true
   },
   "outputs": [],
   "source": [
    "import pandas as pd\n",
    "\n",
    "# Get last treatment table\n",
    "df_treat = pd.read_csv(r'../filters/RA_patients_AllNP_inclTreatment+Mannequin.csv', sep='|', index_col=0)\n",
    "\n",
    "df_lab = pd.read_csv(r'../new_data/1_raw/Lab_REU.csv', sep=';') #new_pat # sep=';',\n",
    "l_EAC_only = ['Anti nucleaire antistoffen (ANA)', 'ANF', 'Anti-ENA',  'Anti-ENA Kwant.', 'Anti-SS-A', 'Anti-SS-A Kwant.']\n",
    "\n",
    "\n",
    "# remove autoantibody tests that are only found in EAC\n",
    "df_lab = df_lab[(~df_lab['code_display_original'].isin(l_EAC_only))]\n",
    "\n",
    "# select relevant columns \n",
    "\n",
    "# BEWARE: issued -> 'effectiveDateTime',\n",
    "df_lab = df_lab[['issued', 'code_display_original', 'valueQuantity_value', 'valueQuantity_code_original', 'subject_Patient_value', 'valueString']]\n",
    "df_lab.columns = [ 'Monster_Afname_Datumtijd', 'test_naam_omschrijving', 'uitslag_value', 'uitslag_unit', 'patient_id', 'uitslag_text']\n",
    "\n",
    "\n",
    "c_date = 'Monster_Afname_Datumtijd' # 'Monster_Afname_Datumtijd'\n",
    "c_test = 'test_naam_omschrijving' # 'test_naam_omschrijving'\n",
    "c_pat = 'patient_id' # 'patient_id'\n",
    "\n",
    "\n",
    "new_df = pd.DataFrame()\n",
    "\n",
    "# Select relevant patients\n",
    "df_lab = df_lab[df_lab[c_pat].isin(set(d_pseudo_pat.values()))]\n",
    "\n",
    "cnt = 0\n",
    "\n",
    "# Get lab values at baseline!\n",
    "for index, row in df_treat.iterrows():\n",
    "    # Serology - ACPA / RF (+/- 1 yr\n",
    "    pid = row['pseudoId']\n",
    "    pat = row['patnr']\n",
    "    \n",
    "    try : \n",
    "        # Serology - ACPA / RF (accept 3 yrs of tolerance)\n",
    "        l_ser = ['IgM reumafactor', 'Anti-CCP', 'Anti-CCP Kwant.']\n",
    "        \n",
    "        sub_df2 = df_lab[((df_lab[c_pat]==pat) & (df_lab[c_test].isin(l_ser)))].copy() # select pat\n",
    "        ser_min_date = row['firstMannequin'] # get date of first consult\n",
    "        ser_min_date = pd.to_datetime(ser_min_date, format='%Y-%m-%d', errors='ignore')\n",
    "\n",
    "        ser_max_date = ser_min_date + pd.DateOffset(years=3) \n",
    "        ser_min_date = ser_min_date - pd.DateOffset(years=3)\n",
    "        sub_df2[c_date] = pd.DatetimeIndex(pd.to_datetime(sub_df2[c_date], format='%Y-%m-%d', errors='ignore'))\n",
    "        sub_df2 = sub_df2[sub_df2[c_date].between(ser_min_date, ser_max_date, inclusive='both')] # \n",
    "        sub_df2['pseudoId'] =  [pid] * len(sub_df2[c_date])\n",
    "        sub_df2['FirstConsult'] =  [row['firstMannequin']] * len(sub_df2[c_date])\n",
    "        new_df = pd.concat([new_df, sub_df2])\n",
    "        \n",
    "        # Other features (accept one month of tolerance) # before we used to take three months\n",
    "        sub_df = df_lab[((df_lab[c_pat]==pat) & (~df_lab[c_test].isin(l_ser)))].copy() # select pat\n",
    "        sub_df['FirstTreat'] =  [row['Lookahead_Treatment']] * len(sub_df[c_date])\n",
    "        sub_df['FirstPred'] =  [row['Lookahead_Prednison']] * len(sub_df[c_date])\n",
    "        min_date = row['firstMannequin'] # get date of first consult\n",
    "        min_date = pd.to_datetime(min_date, format='%Y-%m-%d', errors='ignore')\n",
    "        \n",
    "        #max_date = min_date + pd.DateOffset(months=1) # will be dropped later probably\n",
    "        # Only include up till first treatment or otherwise 1 month\n",
    "        if len(sub_df) != 0:\n",
    "            max_date = min([min_date + pd.DateOffset(months=1), pd.to_datetime(sub_df['FirstPred'].iloc[0], format='%Y-%m-%d', errors='ignore')+ pd.DateOffset(days=1)]) \n",
    "        else :\n",
    "            max_date = min_date + pd.DateOffset(months=1) # will probably be dropped later anyway\n",
    "        # or 1 month prior to first Mannequin\n",
    "        min_date = min_date - pd.DateOffset(months=1)\n",
    "        sub_df[c_date] = pd.DatetimeIndex(pd.to_datetime(sub_df[c_date], format='%Y-%m-%d', errors='ignore'))\n",
    "        sub_df = sub_df[sub_df[c_date].between(min_date, max_date, inclusive='both')]\n",
    "        sub_df['pseudoId'] =  [pid] * len(sub_df[c_date])\n",
    "        sub_df['FirstConsult'] =  [row['firstMannequin']] * len(sub_df[c_date])\n",
    "        \n",
    "        if len(sub_df) != 0:\n",
    "            print('%s in Lab dataframe' % pat)\n",
    "            \n",
    "        new_df = pd.concat([new_df, sub_df], axis=0)\n",
    "    except KeyError:\n",
    "        print(eql)\n",
    "        continue\n",
    "    cnt += 1\n",
    "    if cnt % 100 == 0 :\n",
    "            print(str(cnt) + 'th iteration')\n",
    "\n",
    "new_df.to_csv(r'../new_data/2_preprocessing/DF_Lab_firstCon2.csv', sep='|', index=True)\n",
    "new_df.head()"
   ]
  },
  {
   "cell_type": "markdown",
   "metadata": {},
   "source": [
    "### #2.4.1 Show unique prescriptions added per day"
   ]
  },
  {
   "cell_type": "code",
   "execution_count": 17,
   "metadata": {},
   "outputs": [
    {
     "data": {
      "text/plain": [
       "Text(-0.1, 0.5, 'Number of dossier entries')"
      ]
     },
     "execution_count": 17,
     "metadata": {},
     "output_type": "execute_result"
    },
    {
     "data": {
      "image/png": "[encoded data removed]",
      "text/plain": [
       "<Figure size 576x576 with 1 Axes>"
      ]
     },
     "metadata": {
      "needs_background": "light"
     },
     "output_type": "display_data"
    }
   ],
   "source": [
    "import matplotlib.pyplot as plt \n",
    "\n",
    "df_crp = df_lab[df_lab['test_naam_omschrijving']=='IgM reumafactor'].copy() # ['Monster_Afname_Datumtijd'].min()\n",
    "df_crp = df_crp.reset_index()\n",
    "plt.rcParams.update({'font.size': 10})\n",
    "df_crp['Monster_Afname_Datumtijd'] = pd.DatetimeIndex(pd.to_datetime(df_crp['Monster_Afname_Datumtijd'])).tz_localize('UTC')\n",
    "fig2 = df_crp.groupby(['index'])['Monster_Afname_Datumtijd'].nsmallest(1).hist(bins=50, figsize = (8,8)) \n",
    "\n",
    "fig2.set_title('Unique prescriptions added per day', x=0.5, y=1.05, ha='center', fontsize='xx-large')\n",
    "fig2.text(0.5, -0.1, 'Timespan in years', ha='center', fontsize='large', transform=fig2.transAxes)\n",
    "fig2.text(-0.1, 0.5, 'Number of dossier entries', va='center', rotation='vertical', fontsize='large', transform=fig2.transAxes)"
   ]
  },
  {
   "cell_type": "markdown",
   "metadata": {},
   "source": [
    "## #2.5 Get Lab values at baseline to profile the patients w/o mannequin\n",
    "#### Dropped patients\n",
    "Some patients do not have a Mannequin, in this case we look from the baseline to elucidate the lab profile of the patients that will be dropped"
   ]
  },
  {
   "cell_type": "code",
   "execution_count": null,
   "metadata": {
    "scrolled": true
   },
   "outputs": [],
   "source": [
    "import pandas as pd\n",
    "df_lab = pd.read_csv(r'../new_data/1_raw/Lab_REU.csv', sep=';') #new_pat # sep=';',\n",
    "l_EAC_only = ['Anti nucleaire antistoffen (ANA)', 'ANF', 'Anti-ENA',  'Anti-ENA Kwant.', 'Anti-SS-A', 'Anti-SS-A Kwant.']\n",
    "\n",
    "# Import all patient information\n",
    "df_treat = pd.read_csv(r'../filters/RA_patients_AllNP_inclTreatment+Mannequin.csv', sep='|', index_col=0)\n",
    "\n",
    "# remove autoantibody tests that are only found in EAC\n",
    "df_lab = df_lab[(~df_lab['code_display_original'].isin(l_EAC_only))]\n",
    "\n",
    "# select relevant columns\n",
    "df_lab = df_lab[['effectiveDateTime', 'code_display_original', 'valueQuantity_value', 'valueQuantity_code_original', 'subject_Patient_value', 'valueString']]\n",
    "df_lab.columns = ['Monster_Afname_Datumtijd', 'test_naam_omschrijving', 'uitslag_value', 'uitslag_unit', 'patient_id', 'uitslag_text']\n",
    "\n",
    "\n",
    "c_date = 'Monster_Afname_Datumtijd' # 'Monster_Afname_Datumtijd'\n",
    "c_test = 'test_naam_omschrijving' # 'test_naam_omschrijving'\n",
    "c_pat = 'patient_id' # 'patient_id'\n",
    "\n",
    "\n",
    "new_df = pd.DataFrame()\n",
    "\n",
    "# Select relevant patients\n",
    "df_lab = df_lab[df_lab[c_pat].isin(set(d_pseudo_pat.values()))]\n",
    "\n",
    "# Get lab values at baseline!\n",
    "cnt = 0\n",
    "for index, row in df_treat.iterrows():\n",
    "    # Serology - ACPA / RF (+/- 1 yr\n",
    "    pid = row['pseudoId']\n",
    "    pat = row['patnr']\n",
    "    \n",
    "    try : \n",
    "        # Serology - ACPA / RF (accept 1 yr of tolerance)\n",
    "        l_ser = ['IgM reumafactor', 'Anti-CCP', 'Anti-CCP Kwant.']\n",
    "        \n",
    "        sub_df2 = df_lab[((df_lab[c_pat]==pat) & (df_lab[c_test].isin(l_ser)))].copy() # select pat\n",
    "        ser_min_date = row['FirstConsult'] # get date of first consult\n",
    "        ser_min_date = pd.to_datetime(ser_min_date, format='%Y-%m-%d', errors='ignore')\n",
    "\n",
    "        ser_max_date = ser_min_date + pd.DateOffset(years=3) #pd.Timedelta(3, unit='M') # three months from first consult\n",
    "        ser_min_date = ser_min_date - pd.DateOffset(years=3)\n",
    "        sub_df2[c_date] = pd.DatetimeIndex(pd.to_datetime(sub_df2[c_date], format='%Y-%m-%d', errors='ignore'))\n",
    "        sub_df2 = sub_df2[sub_df2[c_date].between(ser_min_date, ser_max_date, inclusive='both')]\n",
    "        sub_df2['pseudoId'] =  [pid] * len(sub_df2[c_date])\n",
    "        sub_df2['FirstConsult'] =  [row['FirstConsult']] * len(sub_df2[c_date])\n",
    "        sub_df2['FirstTreat'] =  [row['Lookahead_Treatment']] * len(sub_df2[c_date])\n",
    "        #new_df = new_df.append(sub_df2, ignore_index=True)\n",
    "        new_df = pd.concat([new_df, sub_df2])\n",
    "        \n",
    "        # Other features (accept one month of tolerance) # before we used to take three months\n",
    "        sub_df = df_lab[((df_lab[c_pat]==pat) & (~df_lab[c_test].isin(l_ser)))].copy() # select pat\n",
    "        sub_df['FirstTreat'] =  [row['Lookahead_Treatment']] * len(sub_df[c_date])\n",
    "        sub_df['FirstPred'] =  [row['Lookahead_Prednison']] * len(sub_df[c_date])\n",
    "        min_date = row['FirstConsult'] # get date of first consult\n",
    "        min_date = pd.to_datetime(min_date, format='%Y-%m-%d', errors='ignore')\n",
    "        \n",
    "        \n",
    "        # Only include up till first prednison treatment (because of BSE) or otherwise 1 month\n",
    "        if len(sub_df) != 0:\n",
    "            max_date = min([min_date + pd.DateOffset(months=1), pd.to_datetime(sub_df['FirstPred'].iloc[0], format='%Y-%m-%d', errors='ignore')+ pd.DateOffset(days=1)]) \n",
    "        else :\n",
    "            max_date = min_date + pd.DateOffset(months=1) # will be dropped later probably\n",
    "        \n",
    "        # or 1 month prior to first consult\n",
    "        min_date = min_date - pd.DateOffset(months=1)\n",
    "        sub_df[c_date] = pd.DatetimeIndex(pd.to_datetime(sub_df[c_date], format='%Y-%m-%d', errors='ignore'))\n",
    "        sub_df = sub_df[sub_df[c_date].between(min_date, max_date, inclusive='both')]\n",
    "        sub_df['pseudoId'] =  [pid] * len(sub_df[c_date])\n",
    "        sub_df['FirstConsult'] =  [row['FirstConsult']] * len(sub_df[c_date])\n",
    "        \n",
    "        if len(sub_df) == 0:\n",
    "            print('%s not in Lab dataframe' % pat)\n",
    "        #new_df = new_df.append(sub_df, ignore_index=True)\n",
    "        new_df = pd.concat([new_df, sub_df], axis=0)\n",
    "    except KeyError:\n",
    "        #print('%s not in Lab dataframe' % pat)\n",
    "        continue\n",
    "    cnt += 1\n",
    "    if cnt % 100 == 0 :\n",
    "            print(str(cnt) + 'th iteration')\n",
    "\n",
    "new_df.to_csv(r'../new_data/2_preprocessing/DF_Lab_firstCon_PEC.csv', sep='|', index=True)\n",
    "new_df.head()"
   ]
  }
 ],
 "metadata": {
  "kernelspec": {
   "display_name": "clustering_ra",
   "language": "python",
   "name": "clustering_ra"
  },
  "language_info": {
   "codemirror_mode": {
    "name": "ipython",
    "version": 3
   },
   "file_extension": ".py",
   "mimetype": "text/x-python",
   "name": "python",
   "nbconvert_exporter": "python",
   "pygments_lexer": "ipython3",
   "version": "3.8.8"
  }
 },
 "nbformat": 4,
 "nbformat_minor": 4
}
