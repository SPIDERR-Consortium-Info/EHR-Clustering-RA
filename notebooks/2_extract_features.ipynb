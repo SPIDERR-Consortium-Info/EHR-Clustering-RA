{
 "cells": [
  {
   "cell_type": "markdown",
   "metadata": {},
   "source": [
    "# 2 Extract Features\n",
    "Summary:\n",
    "1. In this script we extract the Lab & mannequin values \n",
    "2. We apply a query based approach to parse features from the narrative of the EMR [WIP]"
   ]
  },
  {
   "cell_type": "code",
   "execution_count": 3,
   "metadata": {},
   "outputs": [],
   "source": [
    "PATH_SCRIPTS= r'../src/scripts'\n",
    "PATH_MODULES= r'/exports/reum/tdmaarseveen/modules/' # unused\n",
    "PATH_FILES = r\"../../EMR_mining/output_files/\"\n",
    "\n",
    "import sys\n",
    "sys.path.append(PATH_SCRIPTS)\n",
    "sys.path.append(r'../src/1_emr_scripts')\n",
    "#sys.path.append(PATH_MODULES)\n",
    "\n",
    "import numpy as np\n",
    "import matplotlib.pyplot as plt\n",
    "import numpy as np\n",
    "import pandas as pd\n",
    "import medExtract as me"
   ]
  },
  {
   "cell_type": "markdown",
   "metadata": {},
   "source": [
    "### Select patients + first date"
   ]
  },
  {
   "cell_type": "code",
   "execution_count": 5,
   "metadata": {},
   "outputs": [
    {
     "name": "stdout",
     "output_type": "stream",
     "text": [
      "1251\n"
     ]
    }
   ],
   "source": [
    "import pandas as pd\n",
    "df_pat = pd.read_csv(r'../filters/RA_patients_083_new.csv', sep=',', index_col=0)\n",
    "new_pat = dict(zip(df_pat.PATNR, df_pat.PEC))\n",
    "print(len(new_pat.keys()))"
   ]
  },
  {
   "cell_type": "markdown",
   "metadata": {},
   "source": [
    "## #1. Extract Lab values\n",
    "### #1.1 Read raw table \n",
    "- read raw csv\n",
    "- filter out the irrelevant columns"
   ]
  },
  {
   "cell_type": "markdown",
   "metadata": {},
   "source": [
    "### (A) New extraction [UNUSED]\n",
    "- this is currently unused because of less data"
   ]
  },
  {
   "cell_type": "code",
   "execution_count": 2,
   "metadata": {},
   "outputs": [],
   "source": [
    "import pandas as pd\n",
    "df_lab = pd.read_csv(r'../data/1_raw/Clustering_LAB_values_NewCutoff_2.csv', sep=';') #new_pat # sep=';',\n",
    "\n",
    "df_lab = df_lab[['effectiveDateTime', 'code_display_original', 'valueQuantity_value', 'valueQuantity_code_original', 'subject_Patient_value', 'valueString']]\n",
    "df_lab.columns = ['Monster_Afname_Datumtijd', 'test_naam_omschrijving', 'uitslag_value', 'uitslag_unit', 'patient_id', 'uitslag_text']\n",
    "\n",
    "\n",
    "# Rename columns\n",
    "cols= ['PseudoID', 'Aanvraagnummer', 'Onderzoek', 'Onderzoek_code',\n",
    "       'Resultaat_Status_Code', 'toelichting', 'Resultaat_type',\n",
    "       'Resultaat_type_code', 'test_naam_code', 'test_naam_omschrijving',\n",
    "       'uitslag_value', 'uitslag_unit', 'uitslag_text',\n",
    "       'Referentie_Ondergrens_Value', 'Referentie_ondergrens_Unit',\n",
    "       'Referentie_Bovengrens_Value', 'Referentie_Bovengrens_Unit',\n",
    "       'Resultaat_Vlaggen_Code', 'monster_Materiaal',\n",
    "       'monsterMateriaal_toelichting', 'Broncode', 'Monster_Afname_Datumtijd',\n",
    "       'patient_id']\n",
    "\n",
    "df_lab = pd.read_csv(r'../data/1_raw/Clustering_LAB_values_NewCutoff.csv', sep=';') #new_pat # sep=';',\n",
    "df_lab.columns = cols\n",
    "\n",
    "# Key file linking pseudo ids and patient ids\n",
    "df_keys = pd.read_csv(r'../data/1_raw/Pseudonymized_Keys.csv', sep=';')\n",
    "d_translation = dict(zip(df_keys.member_entity_Pseudonym_value, df_keys.member_entity_Patient_value))\n",
    "\n",
    "# create a selection of the data\n",
    "df_lab = df_lab.reset_index(drop=True)\n",
    "df_lab[['Monster_Afname_Datumtijd',  'test_naam_omschrijving',\n",
    "       'uitslag_value', 'uitslag_unit', 'patient_id', 'uitslag_text']].to_csv(r'../data/1_raw/Clustering_LAB_values_selection.csv', sep='|', index=False)"
   ]
  },
  {
   "cell_type": "markdown",
   "metadata": {},
   "source": [
    "### (B) Old extraction"
   ]
  },
  {
   "cell_type": "code",
   "execution_count": null,
   "metadata": {},
   "outputs": [],
   "source": [
    "import pandas as pd\n",
    "df_lab = pd.read_csv(r'../data/1_raw/Clustering_LAB_values_NewCutoff.csv', sep=';') #new_pat # sep=';',\n",
    "\n",
    "# create a selection of the data\n",
    "df_lab = df_lab.reset_index(drop=True)\n",
    "df_lab = df_lab[['Monster_Afname_Datumtijd',  'test_naam_omschrijving',\n",
    "       'uitslag_value', 'uitslag_unit', 'patient_id', 'uitslag_text']]\n",
    "\n",
    "df_lab.to_csv(r'../data/1_raw/Clustering_LAB_values_selection.csv', sep='|', index=False)\n",
    "\n",
    "df_lab.head()"
   ]
  },
  {
   "cell_type": "markdown",
   "metadata": {},
   "source": [
    "### #1.2 Show unique prescriptions added per day"
   ]
  },
  {
   "cell_type": "code",
   "execution_count": 30,
   "metadata": {},
   "outputs": [
    {
     "data": {
      "text/plain": [
       "Text(-0.1, 0.5, 'Number of dossier entries')"
      ]
     },
     "execution_count": 30,
     "metadata": {},
     "output_type": "execute_result"
    },
    {
     "data": {
      "image/png": "[encoded data removed]",
      "text/plain": [
       "<Figure size 576x576 with 1 Axes>"
      ]
     },
     "metadata": {
      "needs_background": "light"
     },
     "output_type": "display_data"
    }
   ],
   "source": [
    "import matplotlib.pyplot as plt \n",
    "\n",
    "df_crp = df_lab[df_lab['test_naam_omschrijving']=='C-Reaktief Proteïne'].copy() # ['Monster_Afname_Datumtijd'].min()\n",
    "df_crp = df_crp.reset_index()\n",
    "plt.rcParams.update({'font.size': 10})\n",
    "df_crp['Monster_Afname_Datumtijd'] = pd.DatetimeIndex(pd.to_datetime(df_crp['Monster_Afname_Datumtijd'])).tz_localize('UTC')\n",
    "fig2 = df_crp.groupby(['index'])['Monster_Afname_Datumtijd'].nsmallest(1).hist(bins=50, figsize = (8,8)) \n",
    "\n",
    "fig2.set_title('Unique prescriptions added per day (pat=1508)', x=0.5, y=1.05, ha='center', fontsize='xx-large')\n",
    "fig2.text(0.5, -0.1, 'Timespan in years', ha='center', fontsize='large', transform=fig2.transAxes)\n",
    "fig2.text(-0.1, 0.5, 'Number of dossier entries', va='center', rotation='vertical', fontsize='large', transform=fig2.transAxes)"
   ]
  },
  {
   "cell_type": "markdown",
   "metadata": {},
   "source": [
    "### #1.3 Get eligible patients"
   ]
  },
  {
   "cell_type": "code",
   "execution_count": 11,
   "metadata": {},
   "outputs": [],
   "source": [
    "df_pat = pd.read_csv(r'../filters/RA_patients_083_new.csv', sep=',', index_col=0)\n",
    "new_pat = dict(zip(df_pat.PATNR, df_pat.NEW_PEC))"
   ]
  },
  {
   "cell_type": "markdown",
   "metadata": {},
   "source": [
    "### #1.4 Collect lab data from initial clinical presentation\n",
    "\n",
    "Date tolerance:\n",
    "- Serology : accept serological values +/- 1 yr from consult (as serology doesn't change over night)\n",
    "- Other lab values: accept everything up til 3 months after first consult"
   ]
  },
  {
   "cell_type": "code",
   "execution_count": null,
   "metadata": {},
   "outputs": [],
   "source": [
    "c_date = 'Monster_Afname_Datumtijd' # 'Monster_Afname_Datumtijd'\n",
    "c_test = 'test_naam_omschrijving' # 'test_naam_omschrijving'\n",
    "c_pat = 'patient_id' # 'patient_id'\n",
    "\n",
    "\n",
    "new_df = pd.DataFrame()\n",
    "df_lab = df_lab[df_lab[c_pat].isin(new_pat.keys())]\n",
    "cnt = 0\n",
    "\n",
    "for pat in new_pat.keys():\n",
    "    # Serology - ACPA / RF (+/- 1 yr\n",
    "    \n",
    "    try : \n",
    "        # Serology - ACPA / RF (+/- 1 yr)\n",
    "        l_ser = ['IgM reumafactor', 'Anti-CCP', 'Anti-CCP Kwant.', 'Anti nucleaire antistoffen (ANA)', 'ANF', 'Anti-ENA',\n",
    "       'Anti-ENA Kwant.', 'Anti-SS-A', 'Anti-SS-A Kwant.']\n",
    "        \n",
    "        sub_df2 = df_lab[((df_lab[c_pat]==pat) & (df_lab[c_test].isin(l_ser)))].copy() # select pat\n",
    "        ser_min_date = new_pat[pat] # get date of first consult\n",
    "        ser_min_date = pd.to_datetime(ser_min_date, format='%Y-%m-%d', errors='ignore')\n",
    "        ser_max_date = ser_min_date + pd.DateOffset(years=1) #pd.Timedelta(3, unit='M') # three months from first consult\n",
    "        ser_min_date = ser_min_date - pd.DateOffset(years=1)\n",
    "        sub_df2[c_date] = pd.DatetimeIndex(pd.to_datetime(sub_df2[c_date], format='%Y-%m-%d', errors='ignore')).tz_localize('UTC')\n",
    "        sub_df2 = sub_df2[sub_df2[c_date].between(ser_min_date, ser_max_date, inclusive=False)]\n",
    "        new_df = new_df.append(sub_df2, ignore_index=True)\n",
    "        \n",
    "        # Other features (+ 3mo)\n",
    "        sub_df = df_lab[((df_lab[c_pat]==pat) & (~df_lab[c_test].isin(l_ser)))].copy() # select pat\n",
    "        min_date = new_pat[pat] # get date of first consult\n",
    "        min_date = pd.to_datetime(min_date, format='%Y-%m-%d', errors='ignore')\n",
    "        max_date = min_date + pd.DateOffset(months=3) #pd.Timedelta(3, unit='M') # three months from first consult\n",
    "        sub_df[c_date] = pd.DatetimeIndex(pd.to_datetime(sub_df[c_date], format='%Y-%m-%d', errors='ignore')).tz_localize('UTC')\n",
    "        sub_df = sub_df[sub_df[c_date].between(min_date, max_date, inclusive=False)]\n",
    "        new_df = new_df.append(sub_df, ignore_index=True)\n",
    "    except KeyError:\n",
    "        print('%s not in Lab dataframe' % pat)\n",
    "        continue\n",
    "    cnt += 1\n",
    "    if cnt % 100 == 0 :\n",
    "            print(str(cnt) + 'th iteration')\n",
    "    #if cnt > 5:\n",
    "    #    break\n",
    "new_df.to_csv(r'../data/2_preprocessing/DF_Lab_firstCon_3.csv', sep='|', index=True)\n",
    "new_df.head()"
   ]
  },
  {
   "cell_type": "markdown",
   "metadata": {},
   "source": [
    "## #2. Extract Mannequin "
   ]
  },
  {
   "cell_type": "markdown",
   "metadata": {},
   "source": [
    "### #2.1 Check completeness of mannequin\n",
    "- at baseline the mannequin should be rather complete\n",
    "- but after baseline you can expect a lot of missingness"
   ]
  },
  {
   "cell_type": "code",
   "execution_count": null,
   "metadata": {},
   "outputs": [],
   "source": [
    "import pandas as pd\n",
    "df_ddra = pd.read_csv(r'../data/1_raw/Clustering_Gewrichtspop_v2.csv', sep=';', header=None)\n",
    "df_ddra.columns = ['ID', 'STELLING', 'CATEGORIE', 'XANTWOORD', 'DATUM_A', 'PATNR', 'OBJID', 'DATUM', 'BEHANDELAAR']\n",
    "df_keys = pd.read_csv(r'../data/1_raw/Pseudonymized_Keys.csv', sep=';')\n",
    "d_translation = dict(zip(df_keys.member_entity_Pseudonym_value, df_keys.member_entity_Patient_value))\n",
    "df_ddra['PATNR'] = df_ddra['PATNR'].apply(lambda x: d_translation[x])\n",
    "df_ddra.head()"
   ]
  },
  {
   "cell_type": "code",
   "execution_count": null,
   "metadata": {},
   "outputs": [],
   "source": [
    "import pandas as pd\n",
    "df_ddra = pd.read_csv(r'../data/1_raw/Clustering_Gewrichtspop.csv', sep=';', header=None)\n",
    "df_ddra.columns = ['ID','PATNR','DATUM','DATUM_A', 'STELLING', 'ANTWOORD', 'XANTWOORD', 'YANTWOORD', 'CATEGORIE', 'OBJID']\n",
    "df_ddra.head()"
   ]
  },
  {
   "cell_type": "markdown",
   "metadata": {},
   "source": [
    "#### Collect mannequin features around baseline"
   ]
  },
  {
   "cell_type": "code",
   "execution_count": null,
   "metadata": {},
   "outputs": [],
   "source": [
    "#df_ddra[df_ddra['PATNR'].isin(new_pat)] # subset - > check completeness\n",
    "import pandas as pd\n",
    "new_df = pd.DataFrame()\n",
    "cnt = 0\n",
    "\n",
    "for pat in df_ddra['PATNR'].unique():\n",
    "    sub_df = df_ddra[df_ddra['PATNR']==pat].copy() # select pat\n",
    "    try : \n",
    "        min_date = new_pat[pat] # get date of first consult\n",
    "        min_date = pd.to_datetime(min_date, format='%Y-%m-%d', errors='ignore')\n",
    "        max_date = min_date + pd.Timedelta(93, unit='d') # three months from first consult\n",
    "        min_date = min_date - pd.DateOffset(days=1) # maybe a day earlier\n",
    "        sub_df['DATUM'] = pd.to_datetime(sub_df['DATUM'], format='%Y-%m-%d', errors='ignore')\n",
    "        sub_df = sub_df[sub_df['DATUM'].between(min_date, max_date, inclusive=False)]\n",
    "        new_df = new_df.append(sub_df, ignore_index=True)\n",
    "    except KeyError:\n",
    "        continue\n",
    "    cnt += 1\n",
    "\n",
    "new_df.to_csv(r'../data/2_preprocessing/DF_Mannequin_NEW_firstCon_2.csv', sep='|', index=True)\n",
    "new_df.head()\n",
    "# x-axis = date\n",
    "# heatmaps\n",
    "# boxplot -> Mean availability at baseline, at 1 month, at 3 months for every variable.\n",
    "# patientnr"
   ]
  },
  {
   "cell_type": "markdown",
   "metadata": {},
   "source": [
    "## #3. Extract BMI [Unused]"
   ]
  },
  {
   "cell_type": "code",
   "execution_count": null,
   "metadata": {},
   "outputs": [],
   "source": [
    "import pandas as pd\n",
    "\n",
    "cols= ['ID','BMI', 'Lengte_value', 'Gewicht_value', 'Datum', 'PATNR']#\n",
    "\n",
    "#df_bmi = pd.read_csv(r'../data/1_raw/Clustering_BMI.csv', sep=';') #new_pat # sep=';',\n",
    "#df_bmi.columns = cols\n",
    "#df_bmi = df_bmi.reset_index(drop=True)\n",
    "#df_bmi.to_csv(r'../data/1_raw/Clustering_BMI.csv', sep='|', index=False)\n",
    "\n",
    "df_bmi = pd.read_csv(r'../data/1_raw/Clustering_BMI.csv', sep='|', index_col=0)\n",
    "df_bmi = df_bmi[df_bmi['PATNR'].isin(new_pat.keys())]\n",
    "df_bmi.head()"
   ]
  },
  {
   "cell_type": "markdown",
   "metadata": {},
   "source": [
    "## #4. Extract Age and Sex"
   ]
  },
  {
   "cell_type": "code",
   "execution_count": null,
   "metadata": {},
   "outputs": [],
   "source": [
    "import pandas as pd\n",
    "\n",
    "cols= ['ID','PATNR', 'DATUM_A', 'STELLING', 'XANTWOORD', 'CATEGORIE', 'OBJID']\n",
    "\n",
    "#df_age_sex = pd.read_csv(r'../data/1_raw/Clustering_Age_Sex.csv', sep=';') #new_pat # sep=';',\n",
    "#df_age_sex.columns = cols\n",
    "#df_age_sex = df_age_sex.reset_index(drop=True)\n",
    "#df_age_sex.to_csv(r'../data/1_raw/Clustering_Age_Sex.csv', sep='|', index=False)\n",
    "\n",
    "df_age_sex = pd.read_csv(r'../data/1_raw/Clustering_Age_Sex.csv', sep='|', index_col=0)\n",
    "df_age_sex.head()"
   ]
  },
  {
   "cell_type": "code",
   "execution_count": 6,
   "metadata": {},
   "outputs": [
    {
     "data": {
      "text/plain": [
       "840"
      ]
     },
     "execution_count": 6,
     "metadata": {},
     "output_type": "execute_result"
    }
   ],
   "source": [
    "len(df_age_sex[df_age_sex['STELLING'].str.contains('Geslacht')]['PATNR'].unique())"
   ]
  },
  {
   "cell_type": "markdown",
   "metadata": {},
   "source": [
    "#### Export demographic data to csv"
   ]
  },
  {
   "cell_type": "code",
   "execution_count": null,
   "metadata": {},
   "outputs": [],
   "source": [
    "df_ddra = df_ddra[df_ddra['PATNR'].astype(float).isin(new_pat.keys())]\n",
    "df_ddra.to_csv(r'../data/2_processed/DF_LeeftijdenGeslacht.csv', sep='|', index=True)\n",
    "df_ddra.head()"
   ]
  },
  {
   "cell_type": "markdown",
   "metadata": {},
   "source": [
    "## #5. Extract Alcohol / Smoking [Unused]\n",
    "- ToDo: Where do we extract this information from??"
   ]
  },
  {
   "cell_type": "code",
   "execution_count": null,
   "metadata": {},
   "outputs": [],
   "source": [
    "import pandas as pd\n",
    "\n",
    "cols= ['ID','PATNR', 'DATUM', 'DATUM_A', 'STELLING', 'XANTWOORD', 'CATEGORIE', 'OBJID']\n",
    "\n",
    "#df_env = pd.read_csv(r'../data/1_raw/Clustering_Env.csv', sep=';') #new_pat # sep=';',\n",
    "#df_env.columns = cols\n",
    "#df_env = df_env.reset_index(drop=True)\n",
    "#df_env.to_csv(r'../data/1_raw/Clustering_Env.csv', sep='|', index=False)\n",
    "\n",
    "df_env = pd.read_csv(r'../data/1_raw/Clustering_Env.csv', sep='|', index_col=0)\n",
    "df_env.head()"
   ]
  },
  {
   "cell_type": "code",
   "execution_count": 18,
   "metadata": {},
   "outputs": [
    {
     "data": {
      "text/plain": [
       "(459, 449)"
      ]
     },
     "execution_count": 18,
     "metadata": {},
     "output_type": "execute_result"
    }
   ],
   "source": [
    "df_env = df_env[df_env['PATNR'].astype(float).isin(new_pat.keys())]\n",
    "len(df_env[df_env['STELLING'].str.contains('Roken')]['PATNR'].unique()), len(df_env[df_env['STELLING'].str.contains('Alcohol')]['PATNR'].unique())"
   ]
  }
 ],
 "metadata": {
  "kernelspec": {
   "display_name": "clustering_ra",
   "language": "python",
   "name": "clustering_ra"
  },
  "language_info": {
   "codemirror_mode": {
    "name": "ipython",
    "version": 3
   },
   "file_extension": ".py",
   "mimetype": "text/x-python",
   "name": "python",
   "nbconvert_exporter": "python",
   "pygments_lexer": "ipython3",
   "version": "3.8.8"
  }
 },
 "nbformat": 4,
 "nbformat_minor": 4
}
